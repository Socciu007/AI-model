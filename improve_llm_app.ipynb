{
 "cells": [
  {
   "cell_type": "markdown",
   "metadata": {},
   "source": [
    "Test model llama3"
   ]
  },
  {
   "cell_type": "code",
   "execution_count": 1,
   "metadata": {},
   "outputs": [
    {
     "name": "stdout",
     "output_type": "stream",
     "text": [
      "Note: you may need to restart the kernel to use updated packages.\n"
     ]
    },
    {
     "name": "stderr",
     "output_type": "stream",
     "text": [
      "\n",
      "[notice] A new release of pip is available: 24.0 -> 24.2\n",
      "[notice] To update, run: python.exe -m pip install --upgrade pip\n"
     ]
    }
   ],
   "source": [
    "%pip install -q python-dotenv~=1.0.1 lamini==3.0.5"
   ]
  },
  {
   "cell_type": "code",
   "execution_count": 2,
   "metadata": {},
   "outputs": [],
   "source": [
    "from dotenv import load_dotenv\n",
    "_ = load_dotenv() #load environmental variable LAMINI_API_KEY with key from .env file\n",
    "\n",
    "import lamini\n",
    "# Token access to https://app.lamini.ai/tune/\n",
    "lamini.api_key = \"ad3d62932bc25b48963dd3413dd94cb3414dd650fc47f735704badeb56cdf9ca\" # Active API Tokens"
   ]
  },
  {
   "cell_type": "code",
   "execution_count": 3,
   "metadata": {},
   "outputs": [],
   "source": [
    "# Load the llm3 model\n",
    "llm = lamini.Lamini(model_name=\"meta-llama/Meta-Llama-3-8B-Instruct\")"
   ]
  },
  {
   "cell_type": "code",
   "execution_count": 4,
   "metadata": {},
   "outputs": [
    {
     "name": "stdout",
     "output_type": "stream",
     "text": [
      "Here's a possible graduate card for your friend Mạnh Tiền:\n",
      "\n",
      "\"Dear Mạnh Tiền,\n",
      "\n",
      "Huge congratulations on your graduation!\n",
      "\n",
      "You've worked hard to achieve this milestone, and it's an incredible accomplishment. I'm so proud of you for pushing through challenges and staying committed to your goals.\n",
      "\n",
      "As you move forward, remember that this is just the beginning of an exciting new chapter in your life. You have so much to look forward to, and I have no doubt that you'll make the most of every opportunity that comes your way.\n",
      "\n",
      "Here's to many more adventures, successes, and memories to come! Keep shining your light and making a difference in the world.\n",
      "\n",
      "Best wishes,\n",
      "[Your Name]\"\n",
      "\n",
      "Feel free to modify it as you see fit to make it more personal and special for your friend Mạnh Tiền!\n"
     ]
    }
   ],
   "source": [
    "# Create prompt with template of llm3 model\n",
    "prompt = \"\"\"\\\n",
    "<|begin_of_text|><|start_header_id|>system<|end_header_id|>\n",
    "\n",
    "You are a helpful assistant.<|eot_id|><|start_header_id|>user<|end_header_id|>\n",
    "\n",
    "Please write a graduate card for my good friend Mạnh Tiền\\\n",
    "<|eot_id|><|start_header_id|>assistant<|end_header_id|>\n",
    "\n",
    "\"\"\"\n",
    "\n",
    "# Return result of question by llm3 model\n",
    "result = llm.generate(prompt, max_new_tokens=200)\n",
    "print(result)"
   ]
  },
  {
   "cell_type": "code",
   "execution_count": 9,
   "metadata": {},
   "outputs": [
    {
     "name": "stdout",
     "output_type": "stream",
     "text": [
      "Here's a birthday card message for your friend Mạnh Tiền:\n",
      "\n",
      "\"Dear Mạnh Tiền,\n",
      "\n",
      "Happy birthday to an amazing friend like you! On your special day, I want to take a moment to express my gratitude for the incredible memories we've shared and the laughter we've enjoyed together. You bring so much joy and positivity to those around you, and I feel lucky to have you in my life.\n",
      "\n",
      "Here's to another year of adventure, good health, and making more unforgettable memories together! May your birthday be as bright and wonderful as you are.\n",
      "\n",
      "Wishing you a day filled with love, laughter, and all your favorite things.\n",
      "\n",
      "Best regards, [Your Name]\"\n",
      "\n",
      "Feel free to modify it as you see fit!\n"
     ]
    }
   ],
   "source": [
    "prompt2 = (\n",
    "  \"<|begin_of_text|>\"  # Start of prompt\n",
    "  \"<|start_header_id|>system<|end_header_id|>\\n\\n\"  #  header - system\n",
    "  \"You are a helpful assistant.\"  # system prompt\n",
    "  \"<|eot_id|>\" # end of turn\n",
    "  \"<|start_header_id|>user<|end_header_id|>\\n\\n\" # header - user\n",
    "  \"Please write a graduate card for my good friend Mạnh Tiền\"\n",
    "  \"<|eot_id|>\" # end of turn\n",
    "  \"<|start_header_id|>assistant<|end_header_id|>\\n\\n\" # header - assistant\n",
    ")\n",
    "\n",
    "prompt = prompt2\n",
    "\n",
    "# Return result of question by llm3 model\n",
    "result = llm.generate(prompt, max_new_tokens=200)\n",
    "print(result)"
   ]
  },
  {
   "cell_type": "code",
   "execution_count": 11,
   "metadata": {},
   "outputs": [
    {
     "name": "stdout",
     "output_type": "stream",
     "text": [
      "Here's a possible graduate card for your friend Mạnh Tiền:\n",
      "\n",
      "\"Dear Mạnh Tiền,\n",
      "\n",
      "Huge congratulations on your graduation!\n",
      "\n",
      "You've worked hard to achieve this milestone, and it's an incredible accomplishment. I'm so proud of you for pushing through challenges and staying committed to your goals.\n",
      "\n",
      "As you move forward, remember that this is just the beginning of an exciting new chapter in your life. You have so much to look forward to, and I have no doubt that you'll make the most of every opportunity that comes your way.\n",
      "\n",
      "Here's to many more adventures, successes, and memories to come! Keep shining your light and making a difference in the world.\n",
      "\n",
      "Best wishes,\n",
      "[Your Name]\"\n",
      "\n",
      "Feel free to modify it as you see fit to make it more personal and special for your friend Mạnh Tiền!\n"
     ]
    }
   ],
   "source": [
    "from utils_llm import make_llama_3_prompt\n",
    "\n",
    "system_prompt = \"You are a helpful assistant.\" # system prompt\n",
    "user_prompt = \"Please write a graduate card for my good friend Mạnh Tiền\"\n",
    "\n",
    "prompt3 = make_llama_3_prompt(user_prompt, system_prompt)\n",
    "prompt = prompt3\n",
    "\n",
    "# Return result of question by llm3 model\n",
    "result = llm.generate(prompt, max_new_tokens=200)\n",
    "print(result)"
   ]
  },
  {
   "cell_type": "code",
   "execution_count": 13,
   "metadata": {},
   "outputs": [
    {
     "name": "stdout",
     "output_type": "stream",
     "text": [
      "Why was the birthday cake in a bad mood?\n",
      "\n",
      "Because it was feeling crumby!\n"
     ]
    }
   ],
   "source": [
    "user_prompt = \"Tell me a joke about birthday cake\"\n",
    "prompt = make_llama_3_prompt(user_prompt)\n",
    "\n",
    "result = llm.generate(prompt, max_new_tokens=200)\n",
    "print(result)"
   ]
  },
  {
   "cell_type": "markdown",
   "metadata": {},
   "source": [
    "Create a SQL Agent"
   ]
  },
  {
   "cell_type": "code",
   "execution_count": 29,
   "metadata": {},
   "outputs": [],
   "source": [
    "import logging\n",
    "import sqlite3\n",
    "import pandas as pd\n",
    "from utils_llm import setup_logging, get_schema\n",
    "import random"
   ]
  },
  {
   "cell_type": "code",
   "execution_count": 30,
   "metadata": {},
   "outputs": [],
   "source": [
    "logger = logging.getLogger(__name__)\n",
    "logger.info(\"Logger has been set up!\")\n",
    "\n",
    "engine = sqlite3.connect(\"./nba_roster.db\")\n",
    "# # Create a cursor object using the connection\n",
    "# cursor = engine.cursor()\n",
    "\n",
    "# # Sample data template\n",
    "# teams = ['Los Angeles Lakers', 'Golden State Warriors', 'Brooklyn Nets', 'Milwaukee Bucks', 'Dallas Mavericks']\n",
    "# names = ['Player ' + str(i) for i in range(1, 101)]\n",
    "# positions = ['PG', 'SG', 'SF', 'PF', 'C']\n",
    "# colleges = ['College A', 'College B', 'College C', 'College D', 'College E']\n",
    "\n",
    "# # Function to generate random salary\n",
    "# def generate_salary():\n",
    "#     return f\"${random.randint(1000000, 50000000):,}\"\n",
    "\n",
    "# # Generating 100 rows of data\n",
    "# nba_data = [\n",
    "#     (\n",
    "#         random.choice(teams),\n",
    "#         name,\n",
    "#         str(random.randint(0, 99)),  # Jersey number\n",
    "#         random.choice(positions),\n",
    "#         random.randint(19, 40),  # Age\n",
    "#         f'{random.randint(6, 7)}-{random.randint(0, 11)}',  # Height (e.g., 6-9)\n",
    "#         str(random.randint(190, 260)),  # Weight\n",
    "#         random.choice(colleges),\n",
    "#         generate_salary()\n",
    "#     )\n",
    "#     for name in names\n",
    "# ]\n",
    "\n",
    "# # Insert the generated data into the nba_roster table\n",
    "# cursor.executemany('''\n",
    "# INSERT INTO nba_roster (team, name, jersey, pos, age, ht, wt, college, salary)\n",
    "# VALUES (?, ?, ?, ?, ?, ?, ?, ?, ?)\n",
    "# ''', nba_data)\n",
    "\n",
    "# # Commit the changes\n",
    "# engine.commit()\n",
    "# logger.info(f\"Connected to the database at './film_database.db': {engine}\")\n",
    "\n",
    "setup_logging()"
   ]
  },
  {
   "cell_type": "code",
   "execution_count": 31,
   "metadata": {},
   "outputs": [
    {
     "name": "stdout",
     "output_type": "stream",
     "text": [
      "To answer this question, we can use the following SQLite query:\n",
      "\n",
      "```sql\n",
      "SELECT NAME, SALARY\n",
      "FROM nba_roster\n",
      "WHERE SALARY!= '--'\n",
      "ORDER BY CAST(SALARY AS REAL) DESC\n",
      "LIMIT 1;\n",
      "```\n",
      "\n",
      "This query first filters out the rows where the salary is '--' (i.e., the players who don't have a salary listed). Then, it orders the remaining rows by the salary in descending order (highest to lowest). Finally, it limits the result to the top 1 row, which corresponds to the highest paid NBA player.\n"
     ]
    }
   ],
   "source": [
    "user = \"\"\"Who is the highest paid NBA player?\"\"\"\n",
    "\n",
    "system = f\"\"\"You are an NBA analyst with 15 years of experience writing complex SQL queries. Consider the nba_roster table with the following schema:\n",
    "{get_schema()}\n",
    "\n",
    "Write a sqlite query to answer the following question. Follow instructions exactly\"\"\"\n",
    "\n",
    "prompt = make_llama_3_prompt(user, system)\n",
    "\n",
    "print(llm.generate(prompt, max_new_tokens=200))"
   ]
  },
  {
   "cell_type": "code",
   "execution_count": 34,
   "metadata": {},
   "outputs": [
    {
     "name": "stdout",
     "output_type": "stream",
     "text": [
      "{'sqlite_query': \"SELECT * FROM nba_roster WHERE SALARY!= '--' ORDER BY CAST(SALARY AS REAL) DESC LIMIT 1\"}\n"
     ]
    },
    {
     "data": {
      "text/html": [
       "<div>\n",
       "<style scoped>\n",
       "    .dataframe tbody tr th:only-of-type {\n",
       "        vertical-align: middle;\n",
       "    }\n",
       "\n",
       "    .dataframe tbody tr th {\n",
       "        vertical-align: top;\n",
       "    }\n",
       "\n",
       "    .dataframe thead th {\n",
       "        text-align: right;\n",
       "    }\n",
       "</style>\n",
       "<table border=\"1\" class=\"dataframe\">\n",
       "  <thead>\n",
       "    <tr style=\"text-align: right;\">\n",
       "      <th></th>\n",
       "      <th>id</th>\n",
       "      <th>team</th>\n",
       "      <th>name</th>\n",
       "      <th>jersey</th>\n",
       "      <th>pos</th>\n",
       "      <th>age</th>\n",
       "      <th>ht</th>\n",
       "      <th>wt</th>\n",
       "      <th>college</th>\n",
       "      <th>salary</th>\n",
       "    </tr>\n",
       "  </thead>\n",
       "  <tbody>\n",
       "    <tr>\n",
       "      <th>0</th>\n",
       "      <td>1</td>\n",
       "      <td>Brooklyn Nets</td>\n",
       "      <td>Player 1</td>\n",
       "      <td>18</td>\n",
       "      <td>SF</td>\n",
       "      <td>31</td>\n",
       "      <td>7-2</td>\n",
       "      <td>211</td>\n",
       "      <td>College D</td>\n",
       "      <td>$17,565,125</td>\n",
       "    </tr>\n",
       "  </tbody>\n",
       "</table>\n",
       "</div>"
      ],
      "text/plain": [
       "   id           team      name jersey pos  age   ht   wt    college  \\\n",
       "0   1  Brooklyn Nets  Player 1     18  SF   31  7-2  211  College D   \n",
       "\n",
       "        salary  \n",
       "0  $17,565,125  "
      ]
     },
     "execution_count": 34,
     "metadata": {},
     "output_type": "execute_result"
    }
   ],
   "source": [
    "# We'd like to be able to get just SQL output so we don't have to parse the query from the model response. For this we can use structured output.\n",
    "result = llm.generate(prompt, output_type={\"sqlite_query\": \"str\"}, max_new_tokens=200)\n",
    "print(result)\n",
    "\n",
    "# Query result\n",
    "df = pd.read_sql(result['sqlite_query'], con=engine)\n",
    "df"
   ]
  }
 ],
 "metadata": {
  "kernelspec": {
   "display_name": "env",
   "language": "python",
   "name": "python3"
  },
  "language_info": {
   "codemirror_mode": {
    "name": "ipython",
    "version": 3
   },
   "file_extension": ".py",
   "mimetype": "text/x-python",
   "name": "python",
   "nbconvert_exporter": "python",
   "pygments_lexer": "ipython3",
   "version": "3.12.4"
  }
 },
 "nbformat": 4,
 "nbformat_minor": 2
}
