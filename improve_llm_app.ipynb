{
 "cells": [
  {
   "cell_type": "markdown",
   "metadata": {},
   "source": [
    "Test model llama3"
   ]
  },
  {
   "cell_type": "code",
   "execution_count": 1,
   "metadata": {},
   "outputs": [
    {
     "name": "stdout",
     "output_type": "stream",
     "text": [
      "Note: you may need to restart the kernel to use updated packages.\n"
     ]
    },
    {
     "name": "stderr",
     "output_type": "stream",
     "text": [
      "\n",
      "[notice] A new release of pip is available: 24.0 -> 24.2\n",
      "[notice] To update, run: python.exe -m pip install --upgrade pip\n"
     ]
    }
   ],
   "source": [
    "%pip install -q python-dotenv~=1.0.1 lamini==3.0.5"
   ]
  },
  {
   "cell_type": "code",
   "execution_count": 86,
   "metadata": {},
   "outputs": [],
   "source": [
    "import logging\n",
    "import os\n",
    "from datetime import datetime\n",
    "from pprint import pprint\n",
    "import sqlite3\n",
    "import pandas as pd\n",
    "from utils_llm import setup_logging, get_schema, make_llama_3_prompt\n",
    "import random\n",
    "import json\n",
    "import jsonlines\n",
    "from tqdm import tqdm\n",
    "from typing import AsyncIterator, Iterator, Union\n",
    "from lamini.generation.base_prompt_object import PromptObject\n",
    "from lamini.generation.generation_node import GenerationNode\n",
    "from lamini.generation.generation_pipeline import GenerationPipeline"
   ]
  },
  {
   "cell_type": "code",
   "execution_count": 1,
   "metadata": {},
   "outputs": [],
   "source": [
    "from dotenv import load_dotenv\n",
    "_ = load_dotenv() #load environmental variable LAMINI_API_KEY with key from .env file\n",
    "\n",
    "import lamini\n",
    "# Token access to https://app.lamini.ai/tune/\n",
    "lamini.api_key = \"ad3d62932bc25b48963dd3413dd94cb3414dd650fc47f735704badeb56cdf9ca\" # Active API Tokens"
   ]
  },
  {
   "cell_type": "code",
   "execution_count": 2,
   "metadata": {},
   "outputs": [],
   "source": [
    "# Load the llm3 model\n",
    "llm = lamini.Lamini(model_name=\"meta-llama/Meta-Llama-3-8B-Instruct\")"
   ]
  },
  {
   "cell_type": "code",
   "execution_count": 4,
   "metadata": {},
   "outputs": [
    {
     "name": "stdout",
     "output_type": "stream",
     "text": [
      "Here's a possible graduate card for your friend Mạnh Tiền:\n",
      "\n",
      "\"Dear Mạnh Tiền,\n",
      "\n",
      "Huge congratulations on your graduation!\n",
      "\n",
      "You've worked hard to achieve this milestone, and it's an incredible accomplishment. I'm so proud of you for pushing through challenges and staying committed to your goals.\n",
      "\n",
      "As you move forward, remember that this is just the beginning of an exciting new chapter in your life. You have so much to look forward to, and I have no doubt that you'll make the most of every opportunity that comes your way.\n",
      "\n",
      "Here's to many more adventures, successes, and memories to come! Keep shining your light and making a difference in the world.\n",
      "\n",
      "Best wishes,\n",
      "[Your Name]\"\n",
      "\n",
      "Feel free to modify it as you see fit to make it more personal and special for your friend Mạnh Tiền!\n"
     ]
    }
   ],
   "source": [
    "# Create prompt with template of llm3 model\n",
    "prompt = \"\"\"\\\n",
    "<|begin_of_text|><|start_header_id|>system<|end_header_id|>\n",
    "\n",
    "You are a helpful assistant.<|eot_id|><|start_header_id|>user<|end_header_id|>\n",
    "\n",
    "Please write a graduate card for my good friend Mạnh Tiền\\\n",
    "<|eot_id|><|start_header_id|>assistant<|end_header_id|>\n",
    "\n",
    "\"\"\"\n",
    "\n",
    "# Return result of question by llm3 model\n",
    "result = llm.generate(prompt, max_new_tokens=200)\n",
    "print(result)"
   ]
  },
  {
   "cell_type": "code",
   "execution_count": 9,
   "metadata": {},
   "outputs": [
    {
     "name": "stdout",
     "output_type": "stream",
     "text": [
      "Here's a birthday card message for your friend Mạnh Tiền:\n",
      "\n",
      "\"Dear Mạnh Tiền,\n",
      "\n",
      "Happy birthday to an amazing friend like you! On your special day, I want to take a moment to express my gratitude for the incredible memories we've shared and the laughter we've enjoyed together. You bring so much joy and positivity to those around you, and I feel lucky to have you in my life.\n",
      "\n",
      "Here's to another year of adventure, good health, and making more unforgettable memories together! May your birthday be as bright and wonderful as you are.\n",
      "\n",
      "Wishing you a day filled with love, laughter, and all your favorite things.\n",
      "\n",
      "Best regards, [Your Name]\"\n",
      "\n",
      "Feel free to modify it as you see fit!\n"
     ]
    }
   ],
   "source": [
    "prompt2 = (\n",
    "  \"<|begin_of_text|>\"  # Start of prompt\n",
    "  \"<|start_header_id|>system<|end_header_id|>\\n\\n\"  #  header - system\n",
    "  \"You are a helpful assistant.\"  # system prompt\n",
    "  \"<|eot_id|>\" # end of turn\n",
    "  \"<|start_header_id|>user<|end_header_id|>\\n\\n\" # header - user\n",
    "  \"Please write a graduate card for my good friend Mạnh Tiền\"\n",
    "  \"<|eot_id|>\" # end of turn\n",
    "  \"<|start_header_id|>assistant<|end_header_id|>\\n\\n\" # header - assistant\n",
    ")\n",
    "\n",
    "prompt = prompt2\n",
    "\n",
    "# Return result of question by llm3 model\n",
    "result = llm.generate(prompt, max_new_tokens=200)\n",
    "print(result)"
   ]
  },
  {
   "cell_type": "code",
   "execution_count": 11,
   "metadata": {},
   "outputs": [
    {
     "name": "stdout",
     "output_type": "stream",
     "text": [
      "Here's a possible graduate card for your friend Mạnh Tiền:\n",
      "\n",
      "\"Dear Mạnh Tiền,\n",
      "\n",
      "Huge congratulations on your graduation!\n",
      "\n",
      "You've worked hard to achieve this milestone, and it's an incredible accomplishment. I'm so proud of you for pushing through challenges and staying committed to your goals.\n",
      "\n",
      "As you move forward, remember that this is just the beginning of an exciting new chapter in your life. You have so much to look forward to, and I have no doubt that you'll make the most of every opportunity that comes your way.\n",
      "\n",
      "Here's to many more adventures, successes, and memories to come! Keep shining your light and making a difference in the world.\n",
      "\n",
      "Best wishes,\n",
      "[Your Name]\"\n",
      "\n",
      "Feel free to modify it as you see fit to make it more personal and special for your friend Mạnh Tiền!\n"
     ]
    }
   ],
   "source": [
    "system_prompt = \"You are a helpful assistant.\" # system prompt\n",
    "user_prompt = \"Please write a graduate card for my good friend Mạnh Tiền\"\n",
    "\n",
    "prompt3 = make_llama_3_prompt(user_prompt, system_prompt)\n",
    "prompt = prompt3\n",
    "\n",
    "# Return result of question by llm3 model\n",
    "result = llm.generate(prompt, max_new_tokens=200)\n",
    "print(result)"
   ]
  },
  {
   "cell_type": "code",
   "execution_count": 13,
   "metadata": {},
   "outputs": [
    {
     "name": "stdout",
     "output_type": "stream",
     "text": [
      "Why was the birthday cake in a bad mood?\n",
      "\n",
      "Because it was feeling crumby!\n"
     ]
    }
   ],
   "source": [
    "user_prompt = \"Tell me a joke about birthday cake\"\n",
    "prompt = make_llama_3_prompt(user_prompt)\n",
    "\n",
    "result = llm.generate(prompt, max_new_tokens=200)\n",
    "print(result)"
   ]
  },
  {
   "cell_type": "markdown",
   "metadata": {},
   "source": [
    "Create a SQL Agent"
   ]
  },
  {
   "cell_type": "code",
   "execution_count": 10,
   "metadata": {},
   "outputs": [
    {
     "name": "stdout",
     "output_type": "stream",
     "text": [
      "<Logger __main__ (WARNING)>\n",
      "<sqlite3.Connection object at 0x000001C1A4F5E980>\n"
     ]
    }
   ],
   "source": [
    "logger = logging.getLogger(__name__)\n",
    "print(logger)\n",
    "\n",
    "engine = sqlite3.connect(\"./nba_roster.db\")\n",
    "print(engine)\n",
    "# # Create a cursor object using the connection\n",
    "# cursor = engine.cursor()\n",
    "\n",
    "# # Sample data template\n",
    "# teams = ['Los Angeles Lakers', 'Golden State Warriors', 'Brooklyn Nets', 'Milwaukee Bucks', 'Dallas Mavericks']\n",
    "# names = ['Player ' + str(i) for i in range(1, 101)]\n",
    "# positions = ['PG', 'SG', 'SF', 'PF', 'C']\n",
    "# colleges = ['College A', 'College B', 'College C', 'College D', 'College E']\n",
    "\n",
    "# # Function to generate random salary\n",
    "# def generate_salary():\n",
    "#     return f\"${random.randint(1000000, 50000000):,}\"\n",
    "\n",
    "# # Generating 100 rows of data\n",
    "# nba_data = [\n",
    "#     (\n",
    "#         random.choice(teams),\n",
    "#         name,\n",
    "#         str(random.randint(0, 99)),  # Jersey number\n",
    "#         random.choice(positions),\n",
    "#         random.randint(19, 40),  # Age\n",
    "#         f'{random.randint(6, 7)}-{random.randint(0, 11)}',  # Height (e.g., 6-9)\n",
    "#         str(random.randint(190, 260)),  # Weight\n",
    "#         random.choice(colleges),\n",
    "#         generate_salary()\n",
    "#     )\n",
    "#     for name in names\n",
    "# ]\n",
    "\n",
    "# # Insert the generated data into the nba_roster table\n",
    "# cursor.executemany('''\n",
    "# INSERT INTO nba_roster (team, name, jersey, pos, age, ht, wt, college, salary)\n",
    "# VALUES (?, ?, ?, ?, ?, ?, ?, ?, ?)\n",
    "# ''', nba_data)\n",
    "\n",
    "# # Commit the changes\n",
    "# engine.commit()\n",
    "# logger.info(f\"Connected to the database at './film_database.db': {engine}\")\n",
    "\n",
    "setup_logging()"
   ]
  },
  {
   "cell_type": "code",
   "execution_count": 19,
   "metadata": {},
   "outputs": [
    {
     "name": "stdout",
     "output_type": "stream",
     "text": [
      "To answer this question, we can use the following SQLite query:\n",
      "\n",
      "```sql\n",
      "SELECT NAME, SALARY\n",
      "FROM nba_roster\n",
      "WHERE SALARY!= '--'\n",
      "ORDER BY CAST(SALARY AS REAL) DESC\n",
      "LIMIT 1;\n",
      "```\n",
      "\n",
      "This query first filters out the rows where the salary is '--' (i.e., the players who don't have a salary listed). Then, it orders the remaining rows by the salary in descending order (highest to lowest). Finally, it limits the result to the top 1 row, which corresponds to the highest paid NBA player.\n"
     ]
    }
   ],
   "source": [
    "user = \"\"\"Who is the highest paid NBA player?\"\"\"\n",
    "\n",
    "system = f\"\"\"You are an NBA analyst with 15 years of experience writing complex SQL queries. Consider the nba_roster table with the following schema:\n",
    "{get_schema()}\n",
    "\n",
    "Write a sqlite query to answer the following question. Follow instructions exactly\"\"\"\n",
    "\n",
    "prompt = make_llama_3_prompt(user, system)\n",
    "\n",
    "print(llm.generate(prompt, max_new_tokens=200))"
   ]
  },
  {
   "cell_type": "code",
   "execution_count": 22,
   "metadata": {},
   "outputs": [
    {
     "name": "stdout",
     "output_type": "stream",
     "text": [
      "{'sqlite_query': \"SELECT * FROM nba_roster WHERE SALARY!= '--' ORDER BY CAST(SALARY AS REAL) DESC LIMIT 1\"}\n"
     ]
    },
    {
     "data": {
      "text/html": [
       "<div>\n",
       "<style scoped>\n",
       "    .dataframe tbody tr th:only-of-type {\n",
       "        vertical-align: middle;\n",
       "    }\n",
       "\n",
       "    .dataframe tbody tr th {\n",
       "        vertical-align: top;\n",
       "    }\n",
       "\n",
       "    .dataframe thead th {\n",
       "        text-align: right;\n",
       "    }\n",
       "</style>\n",
       "<table border=\"1\" class=\"dataframe\">\n",
       "  <thead>\n",
       "    <tr style=\"text-align: right;\">\n",
       "      <th></th>\n",
       "      <th>id</th>\n",
       "      <th>team</th>\n",
       "      <th>name</th>\n",
       "      <th>jersey</th>\n",
       "      <th>pos</th>\n",
       "      <th>age</th>\n",
       "      <th>ht</th>\n",
       "      <th>wt</th>\n",
       "      <th>college</th>\n",
       "      <th>salary</th>\n",
       "    </tr>\n",
       "  </thead>\n",
       "  <tbody>\n",
       "    <tr>\n",
       "      <th>0</th>\n",
       "      <td>1</td>\n",
       "      <td>Brooklyn Nets</td>\n",
       "      <td>Player 1</td>\n",
       "      <td>18</td>\n",
       "      <td>SF</td>\n",
       "      <td>31</td>\n",
       "      <td>7-2</td>\n",
       "      <td>211</td>\n",
       "      <td>College D</td>\n",
       "      <td>$17,565,125</td>\n",
       "    </tr>\n",
       "  </tbody>\n",
       "</table>\n",
       "</div>"
      ],
      "text/plain": [
       "   id           team      name jersey pos  age   ht   wt    college  \\\n",
       "0   1  Brooklyn Nets  Player 1     18  SF   31  7-2  211  College D   \n",
       "\n",
       "        salary  \n",
       "0  $17,565,125  "
      ]
     },
     "execution_count": 22,
     "metadata": {},
     "output_type": "execute_result"
    }
   ],
   "source": [
    "# We'd like to be able to get just SQL output so we don't have to parse the query from the model response. For this we can use structured output.\n",
    "result = llm.generate(prompt, output_type={\"sqlite_query\": \"str\"}, max_new_tokens=200)\n",
    "print(result)\n",
    "\n",
    "# Query data from model results\n",
    "df = pd.read_sql(result['sqlite_query'], con=engine)\n",
    "df"
   ]
  },
  {
   "cell_type": "code",
   "execution_count": 13,
   "metadata": {},
   "outputs": [
    {
     "data": {
      "text/html": [
       "<div>\n",
       "<style scoped>\n",
       "    .dataframe tbody tr th:only-of-type {\n",
       "        vertical-align: middle;\n",
       "    }\n",
       "\n",
       "    .dataframe tbody tr th {\n",
       "        vertical-align: top;\n",
       "    }\n",
       "\n",
       "    .dataframe thead th {\n",
       "        text-align: right;\n",
       "    }\n",
       "</style>\n",
       "<table border=\"1\" class=\"dataframe\">\n",
       "  <thead>\n",
       "    <tr style=\"text-align: right;\">\n",
       "      <th></th>\n",
       "      <th>salary</th>\n",
       "      <th>name</th>\n",
       "    </tr>\n",
       "  </thead>\n",
       "  <tbody>\n",
       "    <tr>\n",
       "      <th>0</th>\n",
       "      <td>$49,649,218</td>\n",
       "      <td>Player 50</td>\n",
       "    </tr>\n",
       "  </tbody>\n",
       "</table>\n",
       "</div>"
      ],
      "text/plain": [
       "        salary       name\n",
       "0  $49,649,218  Player 50"
      ]
     },
     "execution_count": 13,
     "metadata": {},
     "output_type": "execute_result"
    }
   ],
   "source": [
    "# Query data using Sql statements\n",
    "query=\"\"\"SELECT salary, name\n",
    "FROM nba_roster\n",
    "WHERE salary != '--'\n",
    "ORDER BY CAST(REPLACE(REPLACE(salary, '$', ''), ',','') AS INTEGER) DESC\n",
    "LIMIT 1;\"\"\"\n",
    "df = pd.read_sql(query, con=engine)\n",
    "df"
   ]
  },
  {
   "cell_type": "markdown",
   "metadata": {},
   "source": [
    "Create an Evaluation"
   ]
  },
  {
   "cell_type": "code",
   "execution_count": 27,
   "metadata": {},
   "outputs": [
    {
     "name": "stdout",
     "output_type": "stream",
     "text": [
      "[{'question': 'What is the 99th percentile salary in the NBA?', 'answer': '46741590', 'sql': \"SELECT (CAST(REPLACE(REPLACE(SALARY, '$', ''), ',','') AS INTEGER)) as percentile FROM nba_roster WHERE SALARY!= '--' order by percentile limit 1 offset (select count(*) from nba_roster where SALARY != '--')*99/100-1;\"}, {'question': 'What is the 75th percentile salary in the NBA?', 'answer': '13932008', 'sql': \"SELECT (CAST(REPLACE(REPLACE(SALARY, '$', ''), ',','') AS INTEGER)) as percentile FROM nba_roster WHERE SALARY!= '--' order by percentile limit 1 offset (select count(*) from nba_roster where SALARY != '--')*75/100-1;\"}, {'question': 'What is the 25th percentile salary in the NBA?', 'answer': '2413304', 'sql': \"SELECT (CAST(REPLACE(REPLACE(SALARY, '$', ''), ',','') AS INTEGER)) as percentile FROM nba_roster WHERE SALARY!= '--' order by percentile limit 1 offset (select count(*) from nba_roster where SALARY != '--')*25/100-1;\"}, {'question': 'What is the median weight in the NBA?', 'answer': '215', 'sql': \"select CAST(SUBSTR(WT, 1, INSTR(WT,' ')) as INTEGER) as percentile from nba_roster order by percentile limit 1 offset (select count(*) from nba_roster)/2;\"}, {'question': 'What is the average weight in the NBA?', 'answer': '214.98', 'sql': \"SELECT AVG(CAST(SUBSTR(WT, 1, INSTR(WT,' ')) as INTEGER)) FROM nba_roster;\"}, {'question': 'What is the median height in the NBA?', 'answer': '6.58333333333333', 'sql': \"select CAST(SUBSTR(HT, 1, INSTR(HT,' ')-1) AS INTEGER)+ CAST(SUBSTR(HT, INSTR(HT,' ')+1) AS FLOAT)/12 as percentile from nba_roster order by percentile limit 1 offset (select count(*) from nba_roster)/2;\"}, {'question': 'What is the average height in the NBA?', 'answer': '6.54986111111111', 'sql': \"select AVG(CAST(SUBSTR(HT, 1, INSTR(HT,' ')-1) AS INTEGER)+ CAST(SUBSTR(HT, INSTR(HT,' ')+1) AS FLOAT)/12) as height from nba_roster;\"}, {'question': 'Can you tell me how many players are in the NBA?', 'answer': '600', 'sql': 'select count(*) from nba_roster;'}, {'question': 'Would you please let me know what the highest paid players are for each position?', 'answer': 'The highest paid players are Nikola Jokic (C), Paul George (F), Norman Powell (G), Kevin Durant (PF), Stephen Curry (PG), LeBron James (SF), Bradley Beal (SG).', 'sql': \"SELECT name, pos, MAX(CAST(REPLACE(REPLACE(SALARY, '$', ''), ',','') AS INTEGER)) as max_salary FROM nba_roster WHERE SALARY!= '--' GROUP BY POS;\"}, {'question': 'Is Jalen Johnson 23 years old?', 'answer': 'No, Jalen Johnson is 21 years old', 'sql': \"Select name, age from nba_roster where name='Jalen Johnson';\"}, {'question': 'Who is the oldest player on the Brooklyn Nets?', 'answer': \"Spencer Dinwiddie, Dorian Finney-Smith, Royce O'Neale\", 'sql': \"SELECT NAME FROM nba_roster WHERE TEAM = 'Brooklyn Nets' AND AGE = (SELECT MAX(AGE) FROM nba_roster WHERE TEAM = 'Brooklyn Nets');\"}, {'question': 'Who has the higest salary on the Memphis Grizzlies?', 'answer': 'Ja Morant', 'sql': \"select salary, name from nba_roster where team='Memphis Grizzlies' and SALARY!= '--' ORDER BY CAST(REPLACE(REPLACE(SALARY, '$', ''), ',','') AS INTEGER) DESC LIMIT 1;\"}, {'question': 'Which player has the higest salary on the Cleveland Cavaliers?', 'answer': 'Darius Garland', 'sql': \"select salary, name from nba_roster where team='Cleveland Cavaliers' and SALARY!= '--' ORDER BY CAST(REPLACE(REPLACE(SALARY, '$', ''), ',','') AS INTEGER) DESC LIMIT 1;\"}, {'question': 'Who is the highest paid center on the Dallas Mavericks?', 'answer': 'Dereck Lively II', 'sql': \"select salary, name from nba_roster where team='Dallas Mavericks' and POS='C' and SALARY!= '--' ORDER BY CAST(REPLACE(REPLACE(SALARY, '$', ''), ',','') AS INTEGER) DESC LIMIT 1;\"}, {'question': 'How much is Marcus Smart getting paid?', 'answer': '$18,833,712', 'sql': \"select salary from nba_roster where name='Marcus Smart';\"}, {'question': \"What's the average age of the Trail Blazers?\", 'answer': '24', 'sql': \"select avg(age) from nba_roster where team='Portland Trail Blazers';\"}, {'question': \"What's the median age of the NBA?\", 'answer': '25', 'sql': 'select CAST(AGE as INTEGER) as percentile from nba_roster order by percentile limit 1 offset (select count(*) from nba_roster)/2;'}, {'question': \"What's the median age of the Miami Heat?\", 'answer': '26', 'sql': \"select CAST(AGE as INTEGER) as percentile from nba_roster where team='Miami Heat' order by percentile limit 1 offset (select count(*) from nba_roster where team='Miami Heat')/2;\"}, {'question': 'What are the 5 teams with the oldest average age in the NBA', 'answer': 'Golden State Warriors, Milwaukee Bucks, Miami Heat, LA Clippers, Phoenix Suns', 'sql': 'SELECT team, AVG(AGE) AS average_age FROM nba_roster GROUP BY team ORDER BY average_age DESC LIMIT 5;'}, {'question': 'What is the average salary of Power Forward players in the NBA', 'answer': '$10948045', 'sql': \"select avg(CAST(REPLACE(REPLACE(SALARY, '$', ''), ',','') AS INTEGER)) as average_salary from nba_roster where POS = 'PF';\"}]\n"
     ]
    }
   ],
   "source": [
    "# Get data to use as seed\n",
    "with open('data/gold-test-set.jsonl', 'r') as file:\n",
    "    data = [json.loads(line) for line in file]\n",
    "\n",
    "print(data)"
   ]
  },
  {
   "cell_type": "code",
   "execution_count": 52,
   "metadata": {},
   "outputs": [],
   "source": [
    "def get_schema_ex():\n",
    "    return \"\"\"\\\n",
    "0|tean|TEXT\n",
    "1|name|TEXT\n",
    "2|jersey|TEXT\n",
    "3|pos|TEXT\n",
    "4|age|INT\n",
    "5|ht|TEXT\n",
    "6|wt|TEXT\n",
    "7|college|TEXT\n",
    "8|sagary|TEXT eg.\n",
    "\"\"\""
   ]
  },
  {
   "cell_type": "code",
   "execution_count": 54,
   "metadata": {},
   "outputs": [
    {
     "name": "stdout",
     "output_type": "stream",
     "text": [
      "<|begin_of_text|><|start_header_id|>system<|end_header_id|>\n",
      "\n",
      "You are an NBA analyst with 15 years of experience writing complex SQL queries. Consider the nba_roster table with the following schema:\n",
      "0|tean|TEXT\n",
      "1|name|TEXT\n",
      "2|jersey|TEXT\n",
      "3|pos|TEXT\n",
      "4|age|INT\n",
      "5|ht|TEXT\n",
      "6|wt|TEXT\n",
      "7|college|TEXT\n",
      "8|sagary|TEXT eg.\n",
      "\n",
      "Write a sqlite query to answer the following question. Follow instructions exactly<|eot_id|><|start_header_id|>user<|end_header_id|>\n",
      "\n",
      "What is the median weight in the NBA?<|eot_id|><|start_header_id|>assistant<|end_header_id|>\n",
      "\n",
      "\n"
     ]
    }
   ],
   "source": [
    "question = \"What is the median weight in the NBA?\"\n",
    "\n",
    "system = f\"\"\"You are an NBA analyst with 15 years of experience writing complex SQL queries. Consider the nba_roster table with the following schema:\n",
    "{get_schema_ex()}\n",
    "Write a sqlite query to answer the following question. Follow instructions exactly\"\"\"\n",
    "\n",
    "prompt = make_llama_3_prompt(question, system)\n",
    "print(prompt)"
   ]
  },
  {
   "cell_type": "code",
   "execution_count": 56,
   "metadata": {},
   "outputs": [
    {
     "name": "stdout",
     "output_type": "stream",
     "text": [
      "{'sqlite_query': 'SELECT AVG(wt) FROM nba_roster'}\n"
     ]
    },
    {
     "data": {
      "text/html": [
       "<div>\n",
       "<style scoped>\n",
       "    .dataframe tbody tr th:only-of-type {\n",
       "        vertical-align: middle;\n",
       "    }\n",
       "\n",
       "    .dataframe tbody tr th {\n",
       "        vertical-align: top;\n",
       "    }\n",
       "\n",
       "    .dataframe thead th {\n",
       "        text-align: right;\n",
       "    }\n",
       "</style>\n",
       "<table border=\"1\" class=\"dataframe\">\n",
       "  <thead>\n",
       "    <tr style=\"text-align: right;\">\n",
       "      <th></th>\n",
       "      <th>AVG(wt)</th>\n",
       "    </tr>\n",
       "  </thead>\n",
       "  <tbody>\n",
       "    <tr>\n",
       "      <th>0</th>\n",
       "      <td>225.6</td>\n",
       "    </tr>\n",
       "  </tbody>\n",
       "</table>\n",
       "</div>"
      ],
      "text/plain": [
       "   AVG(wt)\n",
       "0    225.6"
      ]
     },
     "execution_count": 56,
     "metadata": {},
     "output_type": "execute_result"
    }
   ],
   "source": [
    "generated_query = llm.generate(prompt, output_type={\"sqlite_query\": \"str\"}, max_new_tokens=200)\n",
    "print(generated_query)\n",
    "\n",
    "df = pd.read_sql(generated_query[\"sqlite_query\"], con=engine)\n",
    "df"
   ]
  },
  {
   "cell_type": "code",
   "execution_count": 58,
   "metadata": {},
   "outputs": [
    {
     "name": "stdout",
     "output_type": "stream",
     "text": [
      "<|begin_of_text|><|start_header_id|>system<|end_header_id|>\n",
      "\n",
      "You are an NBA analyst with 15 years of experience writing complex SQL queries. Consider the nba_roster table with the following schema:\n",
      "0|tean|TEXT\n",
      "1|name|TEXT\n",
      "2|jersey|TEXT\n",
      "3|pos|TEXT\n",
      "4|age|INT\n",
      "5|ht|TEXT\n",
      "6|wt|TEXT\n",
      "7|college|TEXT\n",
      "8|sagary|TEXT eg.\n",
      "\n",
      "Write a sqlite query to answer the following question. Follow instructions exactly<|eot_id|><|start_header_id|>user<|end_header_id|>\n",
      "\n",
      "Question: What is the median weight in the NBA?. Query: SELECT AVG(wt) FROM nba_roster. This query is invalid (gets the error Execution failed on sql 'SELECT AVG(CAST(SUBSTR(WT, INSTR(WT,'') + 1) AS INTEGER) FROM nba_roster WHERE WT IS NOT NULL': near \"FROM\": syntax error), so it cannot answer the question. Write a corrected sqlite query.<|eot_id|><|start_header_id|>assistant<|end_header_id|>\n",
      "\n",
      "\n"
     ]
    }
   ],
   "source": [
    "# Try Agent Reflection to see if that can improve the query\n",
    "reflection = f\"Question: {question}. Query: {generated_query['sqlite_query']}. This query is invalid (gets the error Execution failed on sql 'SELECT AVG(CAST(SUBSTR(WT, INSTR(WT,'') + 1) AS INTEGER) FROM nba_roster WHERE WT IS NOT NULL': near \\\"FROM\\\": syntax error), so it cannot answer the question. Write a corrected sqlite query.\"\n",
    "reflection_prompt = make_llama_3_prompt(reflection, system)\n",
    "print(reflection_prompt)"
   ]
  },
  {
   "cell_type": "code",
   "execution_count": 59,
   "metadata": {},
   "outputs": [
    {
     "name": "stdout",
     "output_type": "stream",
     "text": [
      "{'sqlite_query': \"SELECT AVG(CAST(SUBSTR(WT, INSTR(WT,'') + 1) AS INTEGER) FROM nba_roster WHERE WT IS NOT NULL\"}\n",
      "Execution failed on sql 'SELECT AVG(CAST(SUBSTR(WT, INSTR(WT,'') + 1) AS INTEGER) FROM nba_roster WHERE WT IS NOT NULL': near \"FROM\": syntax error\n"
     ]
    }
   ],
   "source": [
    "reflection_query = llm.generate(reflection_prompt, output_type={\"sqlite_query\": \"str\"}, max_new_tokens=200)\n",
    "print(reflection_query)\n",
    "\n",
    "try:\n",
    "  df = pd.read_sql(reflection_query[\"sqlite_query\"], con=engine)\n",
    "  df\n",
    "except Exception as e:\n",
    "  print(e)"
   ]
  },
  {
   "cell_type": "code",
   "execution_count": 60,
   "metadata": {},
   "outputs": [
    {
     "data": {
      "text/html": [
       "<div>\n",
       "<style scoped>\n",
       "    .dataframe tbody tr th:only-of-type {\n",
       "        vertical-align: middle;\n",
       "    }\n",
       "\n",
       "    .dataframe tbody tr th {\n",
       "        vertical-align: top;\n",
       "    }\n",
       "\n",
       "    .dataframe thead th {\n",
       "        text-align: right;\n",
       "    }\n",
       "</style>\n",
       "<table border=\"1\" class=\"dataframe\">\n",
       "  <thead>\n",
       "    <tr style=\"text-align: right;\">\n",
       "      <th></th>\n",
       "      <th>percentile</th>\n",
       "    </tr>\n",
       "  </thead>\n",
       "  <tbody>\n",
       "    <tr>\n",
       "      <th>0</th>\n",
       "      <td>0</td>\n",
       "    </tr>\n",
       "  </tbody>\n",
       "</table>\n",
       "</div>"
      ],
      "text/plain": [
       "   percentile\n",
       "0           0"
      ]
     },
     "execution_count": 60,
     "metadata": {},
     "output_type": "execute_result"
    }
   ],
   "source": [
    "# Look at the right answer\n",
    "correct_sql = \"select CAST(SUBSTR(WT, 1, INSTR(WT,' ')) as INTEGER) as percentile from nba_roster order by percentile limit 1 offset (select count(*) from nba_roster)/2;\"\n",
    "df_corrected = pd.read_sql(correct_sql, con=engine)\n",
    "df_corrected"
   ]
  },
  {
   "cell_type": "code",
   "execution_count": 62,
   "metadata": {},
   "outputs": [],
   "source": [
    "# Evaluate over a larger dataset\n",
    "path = \"data/gold-test-set.jsonl\"\n",
    "\n",
    "with jsonlines.open(path) as reader:\n",
    "  data = [obj for obj in reader]"
   ]
  },
  {
   "cell_type": "code",
   "execution_count": 63,
   "metadata": {},
   "outputs": [
    {
     "data": {
      "text/plain": [
       "{'question': 'What is the average weight in the NBA?',\n",
       " 'answer': '214.98',\n",
       " 'sql': \"SELECT AVG(CAST(SUBSTR(WT, 1, INSTR(WT,' ')) as INTEGER)) FROM nba_roster;\"}"
      ]
     },
     "execution_count": 63,
     "metadata": {},
     "output_type": "execute_result"
    }
   ],
   "source": [
    "datapoint = data[4]\n",
    "datapoint"
   ]
  },
  {
   "cell_type": "code",
   "execution_count": 64,
   "metadata": {},
   "outputs": [
    {
     "data": {
      "text/plain": [
       "{'question': 'Can you tell me how many players are in the NBA?',\n",
       " 'answer': '600',\n",
       " 'sql': 'select count(*) from nba_roster;'}"
      ]
     },
     "execution_count": 64,
     "metadata": {},
     "output_type": "execute_result"
    }
   ],
   "source": [
    "datapoint = data[7]\n",
    "datapoint"
   ]
  },
  {
   "cell_type": "code",
   "execution_count": 73,
   "metadata": {},
   "outputs": [
    {
     "name": "stdout",
     "output_type": "stream",
     "text": [
      "{'sqlite_query': 'SELECT COUNT(*) FROM nba_roster'}\n"
     ]
    },
    {
     "data": {
      "text/html": [
       "<div>\n",
       "<style scoped>\n",
       "    .dataframe tbody tr th:only-of-type {\n",
       "        vertical-align: middle;\n",
       "    }\n",
       "\n",
       "    .dataframe tbody tr th {\n",
       "        vertical-align: top;\n",
       "    }\n",
       "\n",
       "    .dataframe thead th {\n",
       "        text-align: right;\n",
       "    }\n",
       "</style>\n",
       "<table border=\"1\" class=\"dataframe\">\n",
       "  <thead>\n",
       "    <tr style=\"text-align: right;\">\n",
       "      <th></th>\n",
       "      <th>COUNT(*)</th>\n",
       "    </tr>\n",
       "  </thead>\n",
       "  <tbody>\n",
       "    <tr>\n",
       "      <th>0</th>\n",
       "      <td>100</td>\n",
       "    </tr>\n",
       "  </tbody>\n",
       "</table>\n",
       "</div>"
      ],
      "text/plain": [
       "   COUNT(*)\n",
       "0       100"
      ]
     },
     "execution_count": 73,
     "metadata": {},
     "output_type": "execute_result"
    }
   ],
   "source": [
    "system = \"You are an NBA analyst with 15 years of experience writing complex SQL queries.\\n\"\n",
    "system += \"Consider the nba_roster table with the following schema:\\n\"\n",
    "system += get_schema_ex() + \"\\n\"\n",
    "system += (\n",
    "    \"Write a sqlite SQL query that would help you answer the following question:\\n\"\n",
    ")\n",
    "\n",
    "user = datapoint[\"question\"]\n",
    "prompt = make_llama_3_prompt(user, system)\n",
    "generated_sql = llm.generate(prompt, output_type={\"sqlite_query\": \"str\"}, max_new_tokens=200)\n",
    "print(generated_sql)\n",
    "df = pd.read_sql(generated_sql['sqlite_query'], con=engine)\n",
    "df"
   ]
  },
  {
   "cell_type": "code",
   "execution_count": 74,
   "metadata": {},
   "outputs": [
    {
     "data": {
      "text/html": [
       "<div>\n",
       "<style scoped>\n",
       "    .dataframe tbody tr th:only-of-type {\n",
       "        vertical-align: middle;\n",
       "    }\n",
       "\n",
       "    .dataframe tbody tr th {\n",
       "        vertical-align: top;\n",
       "    }\n",
       "\n",
       "    .dataframe thead th {\n",
       "        text-align: right;\n",
       "    }\n",
       "</style>\n",
       "<table border=\"1\" class=\"dataframe\">\n",
       "  <thead>\n",
       "    <tr style=\"text-align: right;\">\n",
       "      <th></th>\n",
       "      <th>count(*)</th>\n",
       "    </tr>\n",
       "  </thead>\n",
       "  <tbody>\n",
       "    <tr>\n",
       "      <th>0</th>\n",
       "      <td>100</td>\n",
       "    </tr>\n",
       "  </tbody>\n",
       "</table>\n",
       "</div>"
      ],
      "text/plain": [
       "   count(*)\n",
       "0       100"
      ]
     },
     "execution_count": 74,
     "metadata": {},
     "output_type": "execute_result"
    }
   ],
   "source": [
    "ref_sql = datapoint[\"sql\"]\n",
    "ref_df = pd.read_sql(ref_sql, con=engine)\n",
    "ref_df"
   ]
  },
  {
   "cell_type": "code",
   "execution_count": 75,
   "metadata": {},
   "outputs": [
    {
     "data": {
      "text/plain": [
       "True"
      ]
     },
     "execution_count": 75,
     "metadata": {},
     "output_type": "execute_result"
    }
   ],
   "source": [
    "# Compare strings\n",
    "str(df).lower() == str(ref_df).lower()"
   ]
  },
  {
   "cell_type": "code",
   "execution_count": 79,
   "metadata": {},
   "outputs": [
    {
     "name": "stdout",
     "output_type": "stream",
     "text": [
      "<|begin_of_text|><|start_header_id|>system<|end_header_id|>\n",
      "\n",
      "Compare the following two dataframes. They are similar if they are almost identical, or if they convey the same information about the nba_roster datasetRespond with valid JSON {'explanation' : str, 'similar' : bool}<|eot_id|><|start_header_id|>user<|end_header_id|>\n",
      "\n",
      "========== Dataframe 1 =========\n",
      "   count(*)\n",
      "0       100\n",
      "\n",
      "========== Dataframe 2 =========\n",
      "   count(*)\n",
      "0       100\n",
      "\n",
      "Can you tell me if these dataframes are similar?<|eot_id|><|start_header_id|>assistant<|end_header_id|>\n",
      "\n",
      "\n"
     ]
    },
    {
     "data": {
      "text/plain": [
       "{'explanation': 'Both dataframes have the same count of 100, indicating they have the same number of rows. This suggests that they are similar',\n",
       " 'similar': True}"
      ]
     },
     "execution_count": 79,
     "metadata": {},
     "output_type": "execute_result"
    }
   ],
   "source": [
    "# Compare by using an LLM model\n",
    "system = \"Compare the following two dataframes. They are similar if they are almost identical, or if they convey the same information about the nba_roster dataset\"\n",
    "system += \"Respond with valid JSON {'explanation' : str, 'similar' : bool}\"\n",
    "\n",
    "user = (\n",
    "    f\"========== Dataframe 1 =========\\n{str(df).lower()}\\n\\n\"\n",
    ")\n",
    "user += (\n",
    "    f\"========== Dataframe 2 =========\\n{str(ref_df).lower()}\\n\\n\"\n",
    ")\n",
    "user += f\"Can you tell me if these dataframes are similar?\"\n",
    "\n",
    "llm_similarity_prompt = make_llama_3_prompt(user, system)\n",
    "print(llm_similarity_prompt)\n",
    "llm_similarity = llm.generate(llm_similarity_prompt, output_type={\"explanation\": \"str\", \"similar\": \"bool\"}, max_new_tokens=200)\n",
    "llm_similarity"
   ]
  },
  {
   "cell_type": "code",
   "execution_count": 107,
   "metadata": {},
   "outputs": [],
   "source": [
    "class Args:\n",
    "  def __init__(\n",
    "    self,\n",
    "    max_examples=100,\n",
    "    sql_model_name=\"meta-llama/Meta-Llama-3-8B-Instruct\",\n",
    "    gold_file_name=\"gold-test-set.jsonl\",\n",
    "    training_file_name=\"archive/generated_queries.jsonl\",\n",
    "    num_to_generate=10\n",
    "  ):\n",
    "    self.sql_model_name = sql_model_name\n",
    "    self.max_examples = max_examples\n",
    "    self.gold_file_name = gold_file_name\n",
    "    self.training_file_name = training_file_name\n",
    "    self.num_to_generate = num_to_generate"
   ]
  },
  {
   "cell_type": "code",
   "execution_count": 108,
   "metadata": {},
   "outputs": [],
   "source": [
    "def load_gold_dataset(args):\n",
    "  path = f\"data/{args.gold_file_name}\"\n",
    "  \n",
    "  with jsonlines.open(path) as reader:\n",
    "    for i, obj in enumerate(reversed(list(reader))):\n",
    "      if i >= args.max_examples:\n",
    "        break\n",
    "      yield PromptObject(prompt=\"\", data=obj)"
   ]
  },
  {
   "cell_type": "code",
   "execution_count": 109,
   "metadata": {},
   "outputs": [],
   "source": [
    "# Here's how to wrap that all up in a runnable class\n",
    "class QueryStage(GenerationNode):\n",
    "  def __init__(self, model_name):\n",
    "    super().__init__(\n",
    "      model_name=model_name,\n",
    "      max_new_tokens=200,\n",
    "    )\n",
    "\n",
    "  def generate(\n",
    "    self,\n",
    "    prompt: Union[Iterator[PromptObject], AsyncIterator[PromptObject]],\n",
    "    *args,\n",
    "    **kwargs,\n",
    "  ):\n",
    "    results = super().generate(\n",
    "      prompt,\n",
    "      output_type={\"sqlite_query\": \"str\"},\n",
    "      *args,\n",
    "      **kwargs,\n",
    "    )\n",
    "    return results\n",
    "\n",
    "  def postprocess(self, obj: PromptObject):\n",
    "    # Run both the generated and reference (Gold Dataset) SQL queries\n",
    "    # Assessing whether the SQL queries succeeded in hitting the database (not correctness yet!)\n",
    "    query_succeeded = False\n",
    "\n",
    "    try:\n",
    "      logger.error(f\"Running SQL query '{obj.response['sqlite_query']}'\")\n",
    "      obj.data[\"generated_query\"] = obj.response[\"sqlite_query\"]\n",
    "      df = pd.read_sql(obj.response[\"sqlite_query\"], con=engine)\n",
    "      obj.data['df'] = df\n",
    "      logger.error(f\"Got data: {df}\")\n",
    "      query_succeeded = True\n",
    "\n",
    "    except Exception as e:\n",
    "      logger.error(f\"Failed to run SQL query: {obj.response['sqlite_query']}\")\n",
    "\n",
    "    logger.info(f\"Running reference SQL query '{obj.data['sql']}'\")\n",
    "    df = pd.read_sql(obj.data[\"sql\"], con=engine)\n",
    "    logger.info(f\"Got data: {df}\")\n",
    "    obj.data['reference_df'] = df\n",
    "\n",
    "    logger.info(f\"For question: {obj.data['question']}\")\n",
    "    logger.info(f\"For query: {obj.response['sqlite_query']}\")\n",
    "\n",
    "    obj.data[\"query_succeeded\"] = query_succeeded\n",
    "\n",
    "  def preprocess(self, obj: PromptObject):\n",
    "    new_prompt = make_llama_3_prompt(**self.make_prompt(obj.data))\n",
    "    obj.prompt = new_prompt\n",
    "\n",
    "  def make_prompt(self, data: dict):\n",
    "    system = \"You are an NBA analyst with 15 years of experience writing complex SQL queries.\\n\"\n",
    "    system += \"Consider the nba_roster table with the following schema:\\n\"\n",
    "    system += get_schema() + \"\\n\"\n",
    "    system += (\"Write a sqlite SQL query that would help you answer the following question:\\n\")\n",
    "    user = data[\"question\"]\n",
    "    return {\n",
    "      \"user\": user,\n",
    "      \"system\": system,\n",
    "    }"
   ]
  },
  {
   "cell_type": "code",
   "execution_count": 80,
   "metadata": {},
   "outputs": [],
   "source": [
    "# How to wrap compare in a class\n",
    "class ScoreStage(GenerationNode):\n",
    "  def __init__(self):\n",
    "    super().__init__(\n",
    "        model_name=\"meta-llama/Meta-Llama-3-8B-Instruct\",\n",
    "        max_new_tokens=150,\n",
    "    )\n",
    "\n",
    "  def generate(\n",
    "    self,\n",
    "    prompt: Union[Iterator[PromptObject], AsyncIterator[PromptObject]],\n",
    "    *args,\n",
    "    **kwargs,\n",
    "  ):\n",
    "    logger.debug(\"ScoreStage Generate\")\n",
    "    results = super().generate(\n",
    "      prompt,\n",
    "      output_type={\"explanation\": \"str\", \"similar\": [\"true\", \"false\"]},\n",
    "      *args,\n",
    "      **kwargs,\n",
    "    )        \n",
    "    logger.debug(f\"ScoreStage Results {results}\")\n",
    "\n",
    "    return results\n",
    "\n",
    "  def preprocess(self, obj: PromptObject):\n",
    "    obj.prompt = make_llama_3_prompt(**self.make_prompt(obj))\n",
    "    logger.info(f\"Scoring Stage Prompt:\\n{obj.prompt}\")\n",
    "\n",
    "  def postprocess(self, obj: PromptObject):\n",
    "    logger.info(f\"Postprocess\")\n",
    "    obj.data['is_matching'] = self.is_matching(obj.data, obj.response)\n",
    "    obj.data['explanation'] = obj.response[\"explanation\"]\n",
    "    obj.data['similar'] = obj.response[\"similar\"] == \"true\"\n",
    "\n",
    "\n",
    "  def is_matching(self, data, response):\n",
    "    return (str(data.get('df',\"None\")).lower() == str(data['reference_df']).lower() or response['similar'] == \"true\")\n",
    "\n",
    "  def make_prompt(self, obj: PromptObject):\n",
    "    # Your evaluation model compares SQL output from the generated and reference SQL queries, using another LLM in the pipeline\n",
    "    system_prompt = \"Compare the following two dataframes. They are similar if they are almost identical, or if they convey the same information about the nba_roster dataset\"\n",
    "    system_prompt += \"Respond with valid JSON {'explanation' : str, 'similar' : bool}\"\n",
    "    user_prompt = (\n",
    "      f\"========== Dataframe 1 =========\\n{str(obj.data.get('df','None')).lower()}\\n\\n\"\n",
    "    )\n",
    "    user_prompt += (\n",
    "      f\"========== Dataframe 2 =========\\n{str(obj.data['reference_df']).lower()}\\n\\n\"\n",
    "    )\n",
    "    user_prompt += f\"Can you tell me if these dataframes are similar?\"\n",
    "    return {\n",
    "      \"system\": system_prompt,\n",
    "      \"user\": user_prompt\n",
    "    }"
   ]
  },
  {
   "cell_type": "code",
   "execution_count": 83,
   "metadata": {},
   "outputs": [],
   "source": [
    "class EvaluationPipeline(GenerationPipeline):\n",
    "  def __init__(self, args):\n",
    "    super().__init__()\n",
    "    self.query_stage = QueryStage(args.sql_model_name)\n",
    "    self.score_stage = ScoreStage()\n",
    "\n",
    "  def forward(self, x):\n",
    "    x = self.query_stage(x)\n",
    "    x = self.score_stage(x)\n",
    "    return x"
   ]
  },
  {
   "cell_type": "code",
   "execution_count": 93,
   "metadata": {},
   "outputs": [],
   "source": [
    "async def run_eval(dataset, args):\n",
    "  results = await run_evaluation_pipeline(dataset, args)\n",
    "  print(\"Total results:\", len(results))\n",
    "  return results\n",
    "\n",
    "async def run_evaluation_pipeline(dataset, args):\n",
    "  results = EvaluationPipeline(args).call(dataset)\n",
    "  result_list = []\n",
    "\n",
    "  pbar = tqdm(desc=\"Saving results\", unit=\" results\")\n",
    "  async for result in results:\n",
    "    result_list.append(result)\n",
    "    pbar.update()\n",
    "  return result_list"
   ]
  },
  {
   "cell_type": "code",
   "execution_count": 100,
   "metadata": {},
   "outputs": [],
   "source": [
    "def save_eval_results(results, args):\n",
    "  base_path = \"./data/results\"\n",
    "  now = datetime.now().strftime(\"%Y_%m_%d_%H_%M_%S\")\n",
    "  experiment_name = f\"nba_sql_pipeline_{now}\"\n",
    "  experiment_dir = os.path.join(base_path, experiment_name)\n",
    "  os.makedirs(os.path.join(base_path, experiment_name))\n",
    "\n",
    "  # Write args to file\n",
    "  args_file_name = f\"{experiment_dir}/args.txt\"\n",
    "  with open(args_file_name, \"w\") as writer:\n",
    "    pprint(args.__dict__, writer)\n",
    "\n",
    "  def is_correct(r):\n",
    "    if ((r.data[\"query_succeeded\"] and r.data['is_matching']) or r.data[\"generated_query\"] == r.data['sql']):\n",
    "      return True\n",
    "    return False\n",
    "\n",
    "  # Write sql results and errors to file\n",
    "  results_file_name = f\"{experiment_dir}/sql_results.jsonl\"\n",
    "  with jsonlines.open(results_file_name, \"w\") as writer:\n",
    "    for result in results:\n",
    "      if not is_correct(result):\n",
    "        continue\n",
    "      writer.write({\n",
    "        \"question\": result.data['question'],\n",
    "        \"query\": result.data[\"generated_query\"],\n",
    "        \"query_succeeded\": result.data[\"query_succeeded\"],\n",
    "        \"reference_sql\": result.data['sql'],\n",
    "        \"df\": str(result.data.get('df', 'None')),\n",
    "        \"reference_df\": str(result.data['reference_df']),\n",
    "        \"is_matching\": result.data['is_matching'],\n",
    "        \"similar\": result.data['similar'],\n",
    "      })\n",
    "\n",
    "  results_file_name = f\"{experiment_dir}/sql_errors.jsonl\"\n",
    "  with jsonlines.open(results_file_name, \"w\") as writer:\n",
    "    for result in results:\n",
    "      if is_correct(result):\n",
    "        continue\n",
    "      writer.write({\n",
    "        \"question\": result.data['question'],\n",
    "        \"query\": result.data[\"generated_query\"],\n",
    "        \"query_succeeded\": result.data[\"query_succeeded\"],\n",
    "        \"df\": str(result.data.get('df', 'None')),\n",
    "        \"reference_df\": str(result.data['reference_df']),\n",
    "        \"is_matching\": result.data['is_matching'],\n",
    "        \"similar\": result.data['similar'],\n",
    "      })\n",
    "\n",
    "  # Write statistics to file\n",
    "  average_sql_succeeded = sum([result.data[\"query_succeeded\"] for result in results]) / len(results)\n",
    "  average_correct = sum([result.data[\"query_succeeded\"] and result.data['is_matching'] for result in results]) / len(results)\n",
    "\n",
    "  file_name = f\"{experiment_dir}/summary.txt\"\n",
    "  with open(file_name, \"w\") as writer:\n",
    "    print(f\"Total size of eval dataset: {len(results)}\", file=writer)\n",
    "    print(f\"Total size of eval dataset: {len(results)}\")\n",
    "    print(f\"Percent Valid SQL Syntax: {average_sql_succeeded*100}\", file=writer)\n",
    "    print(f\"Percent Valid SQL Syntax: {average_sql_succeeded*100}\")\n",
    "    print(f\"Percent Correct SQL Query: {average_correct*100}\", file=writer)\n",
    "    print(f\"Percent Correct SQL Query: {average_correct*100}\")"
   ]
  },
  {
   "cell_type": "code",
   "execution_count": 110,
   "metadata": {},
   "outputs": [
    {
     "name": "stderr",
     "output_type": "stream",
     "text": [
      "\n",
      "\n",
      "\u001b[A\u001b[ARunning SQL query 'SELECT AVG(CAST(SUBSTR(SALARY, 2) AS INTEGER) FROM nba_roster WHERE POS = 'PF' AND SALARY!= '--';'\n",
      "Failed to run SQL query: SELECT AVG(CAST(SUBSTR(SALARY, 2) AS INTEGER) FROM nba_roster WHERE POS = 'PF' AND SALARY!= '--';\n",
      "Running SQL query 'SELECT Team, AVG(AGE) AS Average_Age FROM nba_roster GROUP BY Team ORDER BY Average_Age DESC LIMIT 5'\n",
      "Got data:                     team  Average_Age\n",
      "0  Golden State Warriors    31.937500\n",
      "1        Milwaukee Bucks    30.833333\n",
      "2     Los Angeles Lakers    30.181818\n",
      "3       Dallas Mavericks    29.750000\n",
      "4          Brooklyn Nets    29.750000\n",
      "Running SQL query 'SELECT AVG(AGE) FROM nba_roster WHERE Team = 'Miami Heat';'\n",
      "Got data:   AVG(AGE)\n",
      "0     None\n",
      "Running SQL query 'SELECT AVG(AGE) FROM nba_roster'\n",
      "Got data:    AVG(AGE)\n",
      "0     30.39\n",
      "Running SQL query 'SELECT AVG(AGE) FROM nba_roster WHERE Team = 'Portland Trail Blazers';'\n",
      "Got data:   AVG(AGE)\n",
      "0     None\n",
      "Running SQL query 'SELECT SALARY FROM nba_roster WHERE NAME = 'Marcus Smart';'\n",
      "Got data: Empty DataFrame\n",
      "Columns: [salary]\n",
      "Index: []\n",
      "Running SQL query 'SELECT NAME, SALARY FROM nba_roster WHERE TEAM = 'Dallas Mavericks' AND POS = 'C' AND SALARY!= '--' ORDER BY CAST(SALARY AS REAL) DESC LIMIT 1'\n",
      "Got data:        name       salary\n",
      "0  Player 5  $40,654,001\n",
      "Running SQL query 'SELECT NAME, SALARY FROM nba_roster WHERE Team = 'Cleveland Cavaliers' AND SALARY!= '--' ORDER BY SALARY DESC LIMIT 1'\n",
      "Got data: Empty DataFrame\n",
      "Columns: [name, salary]\n",
      "Index: []\n",
      "Running SQL query 'SELECT * FROM nba_roster WHERE Team = 'Memphis Grizzlies' AND SALARY!= '--' ORDER BY SALARY DESC LIMIT 1'\n",
      "Got data: Empty DataFrame\n",
      "Columns: [id, team, name, jersey, pos, age, ht, wt, college, salary]\n",
      "Index: []\n",
      "Running SQL query 'SELECT NAME FROM nba_roster WHERE TEAM = 'Brooklyn Nets' AND AGE = (SELECT MAX(AGE) FROM nba_roster WHERE TEAM = 'Brooklyn Nets')'\n",
      "Got data:         name\n",
      "0  Player 73\n",
      "Running SQL query 'SELECT * FROM nba_roster WHERE NAME = 'Jalen Johnson' AND AGE = 23'\n",
      "Got data: Empty DataFrame\n",
      "Columns: [id, team, name, jersey, pos, age, ht, wt, college, salary]\n",
      "Index: []\n",
      "Running SQL query 'SELECT POS, MAX(CAST(SUBSTR(SALARY, 2) AS INTEGER) AS Salary FROM nba_roster WHERE SALARY!= '--' GROUP BY POS'\n",
      "Failed to run SQL query: SELECT POS, MAX(CAST(SUBSTR(SALARY, 2) AS INTEGER) AS Salary FROM nba_roster WHERE SALARY!= '--' GROUP BY POS\n",
      "Running SQL query 'SELECT COUNT(*) FROM nba_roster WHERE Jersey!= 'NA';'\n",
      "Got data:    COUNT(*)\n",
      "0       100\n",
      "Running SQL query 'SELECT AVG(CAST(SUBSTRING(HT, 0, INSTR(HT,'')-1) AS INTEGER) FROM nba_roster WHERE HT IS NOT NULL'\n",
      "Failed to run SQL query: SELECT AVG(CAST(SUBSTRING(HT, 0, INSTR(HT,'')-1) AS INTEGER) FROM nba_roster WHERE HT IS NOT NULL\n",
      "Running SQL query 'SELECT AVG(CAST(SUBSTRING(HT, 0, INSTR(HT,'')-1) AS INTEGER) FROM nba_roster WHERE HT IS NOT NULL'\n",
      "Failed to run SQL query: SELECT AVG(CAST(SUBSTRING(HT, 0, INSTR(HT,'')-1) AS INTEGER) FROM nba_roster WHERE HT IS NOT NULL\n",
      "Running SQL query 'SELECT AVG(CAST(SUBSTR(WT, INSTR(WT,'') + 1) AS INTEGER) AS weight FROM nba_roster WHERE WT IS NOT NULL'\n",
      "Failed to run SQL query: SELECT AVG(CAST(SUBSTR(WT, INSTR(WT,'') + 1) AS INTEGER) AS weight FROM nba_roster WHERE WT IS NOT NULL\n",
      "Running SQL query 'SELECT AVG(CAST(SUBSTR(WT, INSTR(WT,'') + 1) AS INTEGER) FROM nba_roster WHERE WT!= 'NA';'\n",
      "Failed to run SQL query: SELECT AVG(CAST(SUBSTR(WT, INSTR(WT,'') + 1) AS INTEGER) FROM nba_roster WHERE WT!= 'NA';\n",
      "Running SQL query 'SELECT PERCENTILE(salary, 0.25) FROM nba_roster WHERE salary!= '--';'\n",
      "Failed to run SQL query: SELECT PERCENTILE(salary, 0.25) FROM nba_roster WHERE salary!= '--';\n",
      "Running SQL query 'SELECT PERCENTILE(salary, 0.75) FROM nba_roster WHERE salary IS NOT NULL'\n",
      "Failed to run SQL query: SELECT PERCENTILE(salary, 0.75) FROM nba_roster WHERE salary IS NOT NULL\n",
      "Running SQL query 'SELECT PERCENTILE(salary, 0.99) FROM nba_roster WHERE salary IS NOT NULL'\n",
      "Failed to run SQL query: SELECT PERCENTILE(salary, 0.99) FROM nba_roster WHERE salary IS NOT NULL\n",
      "\n",
      "\n",
      "\u001b[A\u001b[A\n",
      "\n",
      "\u001b[A\u001b[A\n",
      "\n",
      "\u001b[A\u001b[A\n",
      "\n",
      "Saving results: 20 results [01:34,  4.74s/ results]"
     ]
    },
    {
     "name": "stdout",
     "output_type": "stream",
     "text": [
      "Total results: 20\n",
      "Total size of eval dataset: 20\n",
      "Percent Valid SQL Syntax: 55.00000000000001\n",
      "Percent Correct SQL Query: 35.0\n"
     ]
    },
    {
     "name": "stderr",
     "output_type": "stream",
     "text": [
      "\n"
     ]
    }
   ],
   "source": [
    "args = Args()\n",
    "dataset = load_gold_dataset(args)\n",
    "results = await run_eval(dataset, args)\n",
    "save_eval_results(results, args)"
   ]
  }
 ],
 "metadata": {
  "kernelspec": {
   "display_name": "env",
   "language": "python",
   "name": "python3"
  },
  "language_info": {
   "codemirror_mode": {
    "name": "ipython",
    "version": 3
   },
   "file_extension": ".py",
   "mimetype": "text/x-python",
   "name": "python",
   "nbconvert_exporter": "python",
   "pygments_lexer": "ipython3",
   "version": "3.12.4"
  }
 },
 "nbformat": 4,
 "nbformat_minor": 2
}
