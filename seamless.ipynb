{
 "cells": [
  {
   "cell_type": "code",
   "execution_count": 1,
   "metadata": {},
   "outputs": [
    {
     "name": "stderr",
     "output_type": "stream",
     "text": [
      "f:\\test\\chatbot\\env\\Lib\\site-packages\\tqdm\\auto.py:21: TqdmWarning: IProgress not found. Please update jupyter and ipywidgets. See https://ipywidgets.readthedocs.io/en/stable/user_install.html\n",
      "  from .autonotebook import tqdm as notebook_tqdm\n",
      "f:\\test\\chatbot\\env\\Lib\\site-packages\\transformers\\deepspeed.py:24: FutureWarning: transformers.deepspeed module is deprecated and will be removed in a future version. Please import deepspeed modules directly from transformers.integrations\n",
      "  warnings.warn(\n",
      "f:\\test\\chatbot\\env\\Lib\\site-packages\\pydub\\utils.py:170: RuntimeWarning: Couldn't find ffmpeg or avconv - defaulting to ffmpeg, but may not work\n",
      "  warn(\"Couldn't find ffmpeg or avconv - defaulting to ffmpeg, but may not work\", RuntimeWarning)\n"
     ]
    }
   ],
   "source": [
    "from transformers import (\n",
    "    SeamlessM4TModel,\n",
    "    AutoProcessor\n",
    ")\n",
    "import torch\n",
    "import os\n",
    "from pydub import AudioSegment\n",
    "import numpy as np\n",
    "import io\n",
    "import soundfile as sf\n",
    "import librosa\n",
    "import torchaudio\n",
    "import gradio as gr"
   ]
  },
  {
   "cell_type": "code",
   "execution_count": 6,
   "metadata": {},
   "outputs": [],
   "source": [
    "# URL save model and related layers\n",
    "save_url = \"./seamless_m4t_model\"\n",
    "model_name= \"facebook/hf-seamless-m4t-medium\""
   ]
  },
  {
   "cell_type": "code",
   "execution_count": 7,
   "metadata": {},
   "outputs": [
    {
     "name": "stderr",
     "output_type": "stream",
     "text": [
      "Special tokens have been added in the vocabulary, make sure the associated word embeddings are fine-tuned or trained.\n",
      "Special tokens have been added in the vocabulary, make sure the associated word embeddings are fine-tuned or trained.\n"
     ]
    }
   ],
   "source": [
    "# Load the model and related layers\n",
    "try:\n",
    "  processor = AutoProcessor.from_pretrained(model_name)\n",
    "  model = SeamlessM4TModel.from_pretrained(model_name)\n",
    "except OSError as e:\n",
    "  print(f\"Error when load model and related layer: {e}\")"
   ]
  },
  {
   "cell_type": "code",
   "execution_count": 8,
   "metadata": {},
   "outputs": [
    {
     "name": "stdout",
     "output_type": "stream",
     "text": [
      "Mô hình và các lớp liên quan đã được lưu vào ./seamless_m4t_model\n"
     ]
    }
   ],
   "source": [
    "# Save the model and related layers to a local file\n",
    "model.save_pretrained(save_url)\n",
    "processor.save_pretrained(save_url)\n",
    "\n",
    "print(f\"Mô hình và các lớp liên quan đã được lưu vào {save_url}\")"
   ]
  },
  {
   "cell_type": "code",
   "execution_count": 9,
   "metadata": {},
   "outputs": [],
   "source": [
    "# Tải âm thanh từ file và chuyển đổi\n",
    "input_file = \"./data/audio/clean_spk3_00032_pred.wav\"\n",
    "arr, org_sr = torchaudio.load(input_file)\n",
    "\n",
    "AUDIO_SAMPLE_RATE = 16000.0\n",
    "new_arr = torchaudio.functional.resample(arr, orig_freq=org_sr, new_freq=AUDIO_SAMPLE_RATE)\n",
    "\n",
    "MAX_INPUT_AUDIO_LENGTH = 60  # in seconds\n",
    "max_length = int(MAX_INPUT_AUDIO_LENGTH * AUDIO_SAMPLE_RATE)\n",
    "if new_arr.shape[1] > max_length:\n",
    "    new_arr = new_arr[:, :max_length]\n",
    "    gr.Warning(f\"Input audio is too long. Only the first {MAX_INPUT_AUDIO_LENGTH} seconds is used.\")\n",
    "\n",
    "device = torch.device(\"cuda:0\" if torch.cuda.is_available() else \"cpu\")\n",
    "input_data = processor(audios = new_arr, sampling_rate=AUDIO_SAMPLE_RATE, return_tensors=\"pt\").to(device)"
   ]
  },
  {
   "cell_type": "code",
   "execution_count": 11,
   "metadata": {},
   "outputs": [
    {
     "name": "stdout",
     "output_type": "stream",
     "text": [
      "trans Have you ever considered writing a column of advice?\n"
     ]
    }
   ],
   "source": [
    "tokens_ids = model.generate(\n",
    "  **input_data, \n",
    "  generate_speech=False, \n",
    "  tgt_lang=\"eng\", \n",
    "  num_beams=5, \n",
    "  do_sample=True\n",
    ")[0].cpu().squeeze().detach().tolist()\n",
    "\n",
    "text_out = processor.decode(tokens_ids, skip_special_tokens=True)\n",
    "\n",
    "print(\"trans\", text_out)\n"
   ]
  },
  {
   "cell_type": "code",
   "execution_count": 12,
   "metadata": {},
   "outputs": [
    {
     "name": "stdout",
     "output_type": "stream",
     "text": [
      "audio (16000.0, array([-9.2901588e-05, -1.2566843e-04, -8.7207532e-05, ...,\n",
      "        2.3517360e-04,  2.1274990e-04,  2.1224630e-04], dtype=float32))\n"
     ]
    }
   ],
   "source": [
    "output = model.generate(\n",
    "  **input_data, \n",
    "  return_intermediate_token_ids=True, \n",
    "  tgt_lang=\"eng\", \n",
    "  num_beams=5, \n",
    "  do_sample=True, \n",
    "  spkr_id=10\n",
    ")\n",
    "        \n",
    "waveform = output.waveform.cpu().squeeze().detach().numpy()\n",
    "tokens_ids = output.sequences.cpu().squeeze().detach().tolist()\n",
    "\n",
    "text_out = processor.decode(tokens_ids, skip_special_tokens=True)\n",
    "\n",
    "print(\"audio\", (AUDIO_SAMPLE_RATE, waveform))"
   ]
  }
 ],
 "metadata": {
  "kernelspec": {
   "display_name": "env",
   "language": "python",
   "name": "python3"
  },
  "language_info": {
   "codemirror_mode": {
    "name": "ipython",
    "version": 3
   },
   "file_extension": ".py",
   "mimetype": "text/x-python",
   "name": "python",
   "nbconvert_exporter": "python",
   "pygments_lexer": "ipython3",
   "version": "3.12.4"
  }
 },
 "nbformat": 4,
 "nbformat_minor": 2
}
