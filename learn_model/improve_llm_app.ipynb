{
 "cells": [
  {
   "cell_type": "markdown",
   "metadata": {},
   "source": [
    "Test model llama3"
   ]
  },
  {
   "cell_type": "code",
   "execution_count": 1,
   "metadata": {},
   "outputs": [
    {
     "name": "stdout",
     "output_type": "stream",
     "text": [
      "Note: you may need to restart the kernel to use updated packages.\n"
     ]
    },
    {
     "name": "stderr",
     "output_type": "stream",
     "text": [
      "\n",
      "[notice] A new release of pip is available: 24.0 -> 24.3.1\n",
      "[notice] To update, run: python.exe -m pip install --upgrade pip\n"
     ]
    }
   ],
   "source": [
    "%pip install -q python-dotenv~=1.0.1 lamini==3.0.5"
   ]
  },
  {
   "cell_type": "code",
   "execution_count": 5,
   "metadata": {},
   "outputs": [],
   "source": [
    "import logging\n",
    "import os\n",
    "from datetime import datetime\n",
    "from pprint import pprint\n",
    "import sqlite3\n",
    "import pandas as pd\n",
    "# from utils_llm import setup_logging, get_schema, get_schema_s, make_llama_3_prompt, get_default_finetune_args, get_dataset\n",
    "import random\n",
    "import copy\n",
    "import json\n",
    "import jsonlines\n",
    "from tqdm import tqdm\n",
    "from typing import AsyncIterator, Iterator, Union\n",
    "from lamini.generation.base_prompt_object import PromptObject\n",
    "from lamini.generation.generation_node import GenerationNode\n",
    "from lamini.generation.generation_pipeline import GenerationPipeline"
   ]
  },
  {
   "cell_type": "code",
   "execution_count": 7,
   "metadata": {},
   "outputs": [
    {
     "name": "stdout",
     "output_type": "stream",
     "text": [
      "ad3d62932bc25b48963dd3413dd94cb3414dd650fc47f735704badeb56cdf9ca\n"
     ]
    }
   ],
   "source": [
    "from dotenv import load_dotenv\n",
    "import os\n",
    "import lamini\n",
    "\n",
    "# Load environmental variable from .env file\n",
    "load_dotenv()\n",
    "# Get LAMINI_API_KEY with key from .env file\n",
    "LAMINI_API_KEY = os.getenv(\"LAMINI_API_KEY\")\n",
    "\n",
    "# Token access to https://app.lamini.ai/tune/\n",
    "lamini.api_key = LAMINI_API_KEY # Active API Tokens"
   ]
  },
  {
   "cell_type": "code",
   "execution_count": 8,
   "metadata": {},
   "outputs": [],
   "source": [
    "# Load the llm3 model\n",
    "llm = lamini.Lamini(model_name=\"meta-llama/Meta-Llama-3-8B-Instruct\")"
   ]
  },
  {
   "cell_type": "code",
   "execution_count": 9,
   "metadata": {},
   "outputs": [
    {
     "name": "stdout",
     "output_type": "stream",
     "text": [
      "Warning: Lamini server http://api.lamini.ai/ requires 3.2.5. Yours is 3.0.5. Please update: pip install lamini==3.2.5\n",
      "Here's a possible graduate card for your friend Mạnh Tiền:\n",
      "\n",
      "\"Dear Mạnh Tiền,\n",
      "\n",
      "Huge congratulations on your graduation!\n",
      "\n",
      "You've worked hard to achieve this milestone, and it's an incredible accomplishment. I'm so proud of you for pushing through challenges and staying committed to your goals.\n",
      "\n",
      "As you move forward, remember that this is just the beginning of an exciting new chapter in your life. You have so much to look forward to, and I have no doubt that you'll make the most of every opportunity that comes your way.\n",
      "\n",
      "Here's to many more adventures, successes, and memories to come! Keep shining your light and making a difference in the world.\n",
      "\n",
      "Best wishes,\n",
      "[Your Name]\"\n",
      "\n",
      "Feel free to modify it as you see fit to make it more personal and special for your friend Mạnh Tiền!\n"
     ]
    }
   ],
   "source": [
    "# Create prompt with template of llm3 model\n",
    "prompt = \"\"\"\\\n",
    "<|begin_of_text|><|start_header_id|>system<|end_header_id|>\n",
    "\n",
    "You are a helpful assistant.<|eot_id|><|start_header_id|>user<|end_header_id|>\n",
    "\n",
    "Please write a graduate card for my good friend Mạnh Tiền\\\n",
    "<|eot_id|><|start_header_id|>assistant<|end_header_id|>\n",
    "\n",
    "\"\"\"\n",
    "\n",
    "# Return result of question by llm3 model\n",
    "result = llm.generate(prompt, max_new_tokens=200)\n",
    "print(result)"
   ]
  },
  {
   "cell_type": "code",
   "execution_count": 11,
   "metadata": {},
   "outputs": [
    {
     "name": "stdout",
     "output_type": "stream",
     "text": [
      "Here's a birthday card message for your friend Mạnh Tiền:\n",
      "\n",
      "\"Dear Mạnh Tiền,\n",
      "\n",
      "Happy birthday to an amazing friend like you! On your special day, I want to take a moment to express my gratitude for the incredible memories we've shared and the laughter we've enjoyed together. You bring so much joy and positivity to those around you, and I feel lucky to have you in my life.\n",
      "\n",
      "Here's to another year of adventure, good health, and making more unforgettable memories together! May your birthday be as bright and wonderful as you are.\n",
      "\n",
      "Wishing you a day filled with love, laughter, and all your favorite things.\n",
      "\n",
      "Best regards, [Your Name]\"\n",
      "\n",
      "Feel free to modify it as you see fit!\n"
     ]
    }
   ],
   "source": [
    "prompt2 = (\n",
    "  \"<|begin_of_text|>\"  # Start of prompt\n",
    "  \"<|start_header_id|>system<|end_header_id|>\\n\\n\"  #  header - system\n",
    "  \"You are a helpful assistant.\"  # system prompt\n",
    "  \"<|eot_id|>\" # end of turn\n",
    "  \"<|start_header_id|>user<|end_header_id|>\\n\\n\" # header - user\n",
    "  \"Please write a birthday card for my good friend Mạnh Tiền\"\n",
    "  \"<|eot_id|>\" # end of turn\n",
    "  \"<|start_header_id|>assistant<|end_header_id|>\\n\\n\" # header - assistant\n",
    ")\n",
    "prompt = prompt2\n",
    "\n",
    "# Return result of question by llm3 model\n",
    "result = llm.generate(prompt, max_new_tokens=200)\n",
    "print(result)"
   ]
  },
  {
   "cell_type": "code",
   "execution_count": null,
   "metadata": {},
   "outputs": [],
   "source": [
    "# Meta Llama 3 Instruct uses a prompt template, with special tags used to indicate the user query and system prompt.\n",
    "def make_llama_3_prompt(user, system=\"\"):\n",
    "  system_prompt = \"\"\n",
    "  if system != \"\":\n",
    "    system_prompt = (\n",
    "      f\"<|start_header_id|>system<|end_header_id|>\\n\\n{system}<|eot_id|>\"\n",
    "    )\n",
    "  return f\"<|begin_of_text|>{system_prompt}<|start_header_id|>user<|end_header_id|>\\n\\n{user}<|eot_id|><|start_header_id|>assistant<|end_header_id|>\\n\\n\""
   ]
  },
  {
   "cell_type": "code",
   "execution_count": 15,
   "metadata": {},
   "outputs": [
    {
     "name": "stdout",
     "output_type": "stream",
     "text": [
      "Here's a possible graduate card for your friend Mạnh Tiền:\n",
      "\n",
      "\"Dear Mạnh Tiền,\n",
      "\n",
      "Huge congratulations on your graduation!\n",
      "\n",
      "You've worked hard to achieve this milestone, and it's an incredible accomplishment. I'm so proud of you for pushing through challenges and staying committed to your goals.\n",
      "\n",
      "As you move forward, remember that this is just the beginning of an exciting new chapter in your life. You have so much to look forward to, and I have no doubt that you'll make the most of every opportunity that comes your way.\n",
      "\n",
      "Here's to many more adventures, successes, and memories to come! Keep shining your light and making a difference in the world.\n",
      "\n",
      "Best wishes,\n",
      "[Your Name]\"\n",
      "\n",
      "Feel free to modify it as you see fit to make it more personal and special for your friend Mạnh Tiền!\n"
     ]
    }
   ],
   "source": [
    "system_prompt = \"You are a helpful assistant.\" # system prompt\n",
    "user_prompt = \"Please write a graduate card for my good friend Mạnh Tiền\"\n",
    "\n",
    "prompt = make_llama_3_prompt(user_prompt, system_prompt)\n",
    "\n",
    "result = llm.generate(prompt, max_new_tokens=200)\n",
    "print(result)\n"
   ]
  },
  {
   "cell_type": "code",
   "execution_count": 14,
   "metadata": {},
   "outputs": [
    {
     "name": "stdout",
     "output_type": "stream",
     "text": [
      "Why was the birthday cake in a bad mood?\n",
      "\n",
      "Because it was feeling crumby!\n"
     ]
    }
   ],
   "source": [
    "user_prompt = \"Tell me a joke about birthday cake\"\n",
    "prompt = make_llama_3_prompt(user_prompt)\n",
    "\n",
    "result = llm.generate(prompt, max_new_tokens=200)\n",
    "print(result)"
   ]
  },
  {
   "cell_type": "markdown",
   "metadata": {},
   "source": [
    "Create a SQL Agent"
   ]
  },
  {
   "cell_type": "code",
   "execution_count": 19,
   "metadata": {},
   "outputs": [
    {
     "name": "stdout",
     "output_type": "stream",
     "text": [
      "<Logger __main__ (WARNING)>\n",
      "<sqlite3.Connection object at 0x0000026F923536A0>\n"
     ]
    },
    {
     "ename": "DatabaseError",
     "evalue": "file is not a database",
     "output_type": "error",
     "traceback": [
      "\u001b[1;31m---------------------------------------------------------------------------\u001b[0m",
      "\u001b[1;31mDatabaseError\u001b[0m                             Traceback (most recent call last)",
      "Cell \u001b[1;32mIn[19], line 36\u001b[0m\n\u001b[0;32m     20\u001b[0m nba_data \u001b[38;5;241m=\u001b[39m [\n\u001b[0;32m     21\u001b[0m     (\n\u001b[0;32m     22\u001b[0m         random\u001b[38;5;241m.\u001b[39mchoice(teams),\n\u001b[1;32m   (...)\u001b[0m\n\u001b[0;32m     32\u001b[0m     \u001b[38;5;28;01mfor\u001b[39;00m name \u001b[38;5;129;01min\u001b[39;00m names\n\u001b[0;32m     33\u001b[0m ]\n\u001b[0;32m     35\u001b[0m \u001b[38;5;66;03m# Insert the generated data into the nba_roster table\u001b[39;00m\n\u001b[1;32m---> 36\u001b[0m \u001b[43mcursor\u001b[49m\u001b[38;5;241;43m.\u001b[39;49m\u001b[43mexecutemany\u001b[49m\u001b[43m(\u001b[49m\u001b[38;5;124;43m'''\u001b[39;49m\n\u001b[0;32m     37\u001b[0m \u001b[38;5;124;43mINSERT INTO nba_roster (team, name, jersey, pos, age, ht, wt, college, salary)\u001b[39;49m\n\u001b[0;32m     38\u001b[0m \u001b[38;5;124;43mVALUES (?, ?, ?, ?, ?, ?, ?, ?, ?)\u001b[39;49m\n\u001b[0;32m     39\u001b[0m \u001b[38;5;124;43m'''\u001b[39;49m\u001b[43m,\u001b[49m\u001b[43m \u001b[49m\u001b[43mnba_data\u001b[49m\u001b[43m)\u001b[49m\n\u001b[0;32m     41\u001b[0m \u001b[38;5;66;03m# Commit the changes\u001b[39;00m\n\u001b[0;32m     42\u001b[0m engine\u001b[38;5;241m.\u001b[39mcommit()\n",
      "\u001b[1;31mDatabaseError\u001b[0m: file is not a database"
     ]
    }
   ],
   "source": [
    "logger = logging.getLogger(__name__)\n",
    "print(logger)\n",
    "\n",
    "engine = sqlite3.connect(\"./nba_roster.db\")\n",
    "print(engine)\n",
    "# Create a cursor object using the connection\n",
    "cursor = engine.cursor()\n",
    "\n",
    "# Sample data template\n",
    "teams = ['Los Angeles Lakers', 'Golden State Warriors', 'Brooklyn Nets', 'Milwaukee Bucks', 'Dallas Mavericks']\n",
    "names = ['Player ' + str(i) for i in range(1, 101)]\n",
    "positions = ['PG', 'SG', 'SF', 'PF', 'C']\n",
    "colleges = ['College A', 'College B', 'College C', 'College D', 'College E']\n",
    "\n",
    "# Function to generate random salary\n",
    "def generate_salary():\n",
    "    return f\"${random.randint(1000000, 50000000):,}\"\n",
    "\n",
    "# Generating 100 rows of data\n",
    "nba_data = [\n",
    "    (\n",
    "        random.choice(teams),\n",
    "        name,\n",
    "        str(random.randint(0, 99)),  # Jersey number\n",
    "        random.choice(positions),\n",
    "        random.randint(19, 40),  # Age\n",
    "        f'{random.randint(6, 7)}-{random.randint(0, 11)}',  # Height (e.g., 6-9)\n",
    "        str(random.randint(190, 260)),  # Weight\n",
    "        random.choice(colleges),\n",
    "        generate_salary()\n",
    "    )\n",
    "    for name in names\n",
    "]\n",
    "\n",
    "# Insert the generated data into the nba_roster table\n",
    "cursor.executemany('''\n",
    "INSERT INTO nba_roster (team, name, jersey, pos, age, ht, wt, college, salary)\n",
    "VALUES (?, ?, ?, ?, ?, ?, ?, ?, ?)\n",
    "''', nba_data)\n",
    "\n",
    "# Commit the changes\n",
    "engine.commit()\n",
    "logger.info(f\"Connected to the database at './film_database.db': {engine}\")\n",
    "\n",
    "# setup_logging()"
   ]
  },
  {
   "cell_type": "code",
   "execution_count": 17,
   "metadata": {},
   "outputs": [
    {
     "name": "stdout",
     "output_type": "stream",
     "text": [
      "To answer this question, we can use the following SQL query:\n",
      "\n",
      "```sql\n",
      "SELECT name, salary\n",
      "FROM nba_roster\n",
      "WHERE salary!= '--'\n",
      "ORDER BY CAST(SUBSTR(salary, 2) AS INTEGER) DESC\n",
      "LIMIT 1;\n",
      "```\n",
      "\n",
      "This query works as follows:\n",
      "\n",
      "- `WHERE salary!= '--'` filters out the rows where the salary is unknown (i.e., '--').\n",
      "- `ORDER BY CAST(SUBSTR(salary, 2) AS INTEGER) DESC` sorts the remaining rows by the salary in descending order. The `SUBSTR(salary, 2)` function extracts the numeric part of the salary string (i.e., the part after the dollar sign), and the `CAST` function converts it to an integer. The `DESC` keyword specifies that we want the highest-paid players first.\n",
      "- `LIMIT 1` returns only the top row, which corresponds to the highest-paid player.\n",
      "\n",
      "Note that this query assumes that the salary is\n"
     ]
    }
   ],
   "source": [
    "def get_schema():\n",
    "  return \"\"\"\\\n",
    "  0|team|TEXT eg. \"Toronto Raptors\"\n",
    "  1|name|TEXT eg. \"Otto Porter Jr.\"\n",
    "  2|jersey|TEXT eg. \"0\" and when null has a value \"NA\"\n",
    "  3|pos|TEXT eg. \"PF\"\n",
    "  4|age|INT eg. \"22\" in years\n",
    "  5|ht|TEXT eg. `6' 7\"` or `6' 10\"`\n",
    "  6|wt|TEXT eg. \"232 lbs\" \n",
    "  7|college|TEXT eg. \"Michigan\" and when null has a value \"--\"\n",
    "  8|salary|TEXT eg. \"$9,945,830\" and when null has a value \"--\"\n",
    "  \"\"\"\n",
    "user = \"\"\"Who is the highest paid NBA player?\"\"\"\n",
    "\n",
    "system = f\"\"\"You are an NBA analyst with 15 years of experience writing complex SQL queries. Consider the nba_roster table with the following schema:\n",
    "{get_schema()}\n",
    "\n",
    "Write a sqlite query to answer the following question. Follow instructions exactly\"\"\"\n",
    "\n",
    "prompt = make_llama_3_prompt(user, system)\n",
    "\n",
    "print(llm.generate(prompt, max_new_tokens=200))"
   ]
  },
  {
   "cell_type": "code",
   "execution_count": 18,
   "metadata": {},
   "outputs": [
    {
     "name": "stdout",
     "output_type": "stream",
     "text": [
      "{'sqlite_query': \"SELECT name, salary FROM nba_roster WHERE salary!= '--' ORDER BY CAST(SUBSTR(salary, 2) AS INTEGER) DESC LIMIT 1\"}\n"
     ]
    },
    {
     "ename": "DatabaseError",
     "evalue": "Execution failed on sql 'SELECT name, salary FROM nba_roster WHERE salary!= '--' ORDER BY CAST(SUBSTR(salary, 2) AS INTEGER) DESC LIMIT 1': no such table: nba_roster",
     "output_type": "error",
     "traceback": [
      "\u001b[1;31m---------------------------------------------------------------------------\u001b[0m",
      "\u001b[1;31mOperationalError\u001b[0m                          Traceback (most recent call last)",
      "File \u001b[1;32mf:\\test\\chatbot\\env\\Lib\\site-packages\\pandas\\io\\sql.py:2674\u001b[0m, in \u001b[0;36mSQLiteDatabase.execute\u001b[1;34m(self, sql, params)\u001b[0m\n\u001b[0;32m   2673\u001b[0m \u001b[38;5;28;01mtry\u001b[39;00m:\n\u001b[1;32m-> 2674\u001b[0m     \u001b[43mcur\u001b[49m\u001b[38;5;241;43m.\u001b[39;49m\u001b[43mexecute\u001b[49m\u001b[43m(\u001b[49m\u001b[43msql\u001b[49m\u001b[43m,\u001b[49m\u001b[43m \u001b[49m\u001b[38;5;241;43m*\u001b[39;49m\u001b[43margs\u001b[49m\u001b[43m)\u001b[49m\n\u001b[0;32m   2675\u001b[0m     \u001b[38;5;28;01mreturn\u001b[39;00m cur\n",
      "\u001b[1;31mOperationalError\u001b[0m: no such table: nba_roster",
      "\nThe above exception was the direct cause of the following exception:\n",
      "\u001b[1;31mDatabaseError\u001b[0m                             Traceback (most recent call last)",
      "Cell \u001b[1;32mIn[18], line 6\u001b[0m\n\u001b[0;32m      3\u001b[0m \u001b[38;5;28mprint\u001b[39m(result)\n\u001b[0;32m      5\u001b[0m \u001b[38;5;66;03m# Query data from model results\u001b[39;00m\n\u001b[1;32m----> 6\u001b[0m df \u001b[38;5;241m=\u001b[39m \u001b[43mpd\u001b[49m\u001b[38;5;241;43m.\u001b[39;49m\u001b[43mread_sql\u001b[49m\u001b[43m(\u001b[49m\u001b[43mresult\u001b[49m\u001b[43m[\u001b[49m\u001b[38;5;124;43m'\u001b[39;49m\u001b[38;5;124;43msqlite_query\u001b[39;49m\u001b[38;5;124;43m'\u001b[39;49m\u001b[43m]\u001b[49m\u001b[43m,\u001b[49m\u001b[43m \u001b[49m\u001b[43mcon\u001b[49m\u001b[38;5;241;43m=\u001b[39;49m\u001b[43mengine\u001b[49m\u001b[43m)\u001b[49m\n\u001b[0;32m      7\u001b[0m df\n",
      "File \u001b[1;32mf:\\test\\chatbot\\env\\Lib\\site-packages\\pandas\\io\\sql.py:706\u001b[0m, in \u001b[0;36mread_sql\u001b[1;34m(sql, con, index_col, coerce_float, params, parse_dates, columns, chunksize, dtype_backend, dtype)\u001b[0m\n\u001b[0;32m    704\u001b[0m \u001b[38;5;28;01mwith\u001b[39;00m pandasSQL_builder(con) \u001b[38;5;28;01mas\u001b[39;00m pandas_sql:\n\u001b[0;32m    705\u001b[0m     \u001b[38;5;28;01mif\u001b[39;00m \u001b[38;5;28misinstance\u001b[39m(pandas_sql, SQLiteDatabase):\n\u001b[1;32m--> 706\u001b[0m         \u001b[38;5;28;01mreturn\u001b[39;00m \u001b[43mpandas_sql\u001b[49m\u001b[38;5;241;43m.\u001b[39;49m\u001b[43mread_query\u001b[49m\u001b[43m(\u001b[49m\n\u001b[0;32m    707\u001b[0m \u001b[43m            \u001b[49m\u001b[43msql\u001b[49m\u001b[43m,\u001b[49m\n\u001b[0;32m    708\u001b[0m \u001b[43m            \u001b[49m\u001b[43mindex_col\u001b[49m\u001b[38;5;241;43m=\u001b[39;49m\u001b[43mindex_col\u001b[49m\u001b[43m,\u001b[49m\n\u001b[0;32m    709\u001b[0m \u001b[43m            \u001b[49m\u001b[43mparams\u001b[49m\u001b[38;5;241;43m=\u001b[39;49m\u001b[43mparams\u001b[49m\u001b[43m,\u001b[49m\n\u001b[0;32m    710\u001b[0m \u001b[43m            \u001b[49m\u001b[43mcoerce_float\u001b[49m\u001b[38;5;241;43m=\u001b[39;49m\u001b[43mcoerce_float\u001b[49m\u001b[43m,\u001b[49m\n\u001b[0;32m    711\u001b[0m \u001b[43m            \u001b[49m\u001b[43mparse_dates\u001b[49m\u001b[38;5;241;43m=\u001b[39;49m\u001b[43mparse_dates\u001b[49m\u001b[43m,\u001b[49m\n\u001b[0;32m    712\u001b[0m \u001b[43m            \u001b[49m\u001b[43mchunksize\u001b[49m\u001b[38;5;241;43m=\u001b[39;49m\u001b[43mchunksize\u001b[49m\u001b[43m,\u001b[49m\n\u001b[0;32m    713\u001b[0m \u001b[43m            \u001b[49m\u001b[43mdtype_backend\u001b[49m\u001b[38;5;241;43m=\u001b[39;49m\u001b[43mdtype_backend\u001b[49m\u001b[43m,\u001b[49m\n\u001b[0;32m    714\u001b[0m \u001b[43m            \u001b[49m\u001b[43mdtype\u001b[49m\u001b[38;5;241;43m=\u001b[39;49m\u001b[43mdtype\u001b[49m\u001b[43m,\u001b[49m\n\u001b[0;32m    715\u001b[0m \u001b[43m        \u001b[49m\u001b[43m)\u001b[49m\n\u001b[0;32m    717\u001b[0m     \u001b[38;5;28;01mtry\u001b[39;00m:\n\u001b[0;32m    718\u001b[0m         _is_table_name \u001b[38;5;241m=\u001b[39m pandas_sql\u001b[38;5;241m.\u001b[39mhas_table(sql)\n",
      "File \u001b[1;32mf:\\test\\chatbot\\env\\Lib\\site-packages\\pandas\\io\\sql.py:2738\u001b[0m, in \u001b[0;36mSQLiteDatabase.read_query\u001b[1;34m(self, sql, index_col, coerce_float, parse_dates, params, chunksize, dtype, dtype_backend)\u001b[0m\n\u001b[0;32m   2727\u001b[0m \u001b[38;5;28;01mdef\u001b[39;00m \u001b[38;5;21mread_query\u001b[39m(\n\u001b[0;32m   2728\u001b[0m     \u001b[38;5;28mself\u001b[39m,\n\u001b[0;32m   2729\u001b[0m     sql,\n\u001b[1;32m   (...)\u001b[0m\n\u001b[0;32m   2736\u001b[0m     dtype_backend: DtypeBackend \u001b[38;5;241m|\u001b[39m Literal[\u001b[38;5;124m\"\u001b[39m\u001b[38;5;124mnumpy\u001b[39m\u001b[38;5;124m\"\u001b[39m] \u001b[38;5;241m=\u001b[39m \u001b[38;5;124m\"\u001b[39m\u001b[38;5;124mnumpy\u001b[39m\u001b[38;5;124m\"\u001b[39m,\n\u001b[0;32m   2737\u001b[0m ) \u001b[38;5;241m-\u001b[39m\u001b[38;5;241m>\u001b[39m DataFrame \u001b[38;5;241m|\u001b[39m Iterator[DataFrame]:\n\u001b[1;32m-> 2738\u001b[0m     cursor \u001b[38;5;241m=\u001b[39m \u001b[38;5;28;43mself\u001b[39;49m\u001b[38;5;241;43m.\u001b[39;49m\u001b[43mexecute\u001b[49m\u001b[43m(\u001b[49m\u001b[43msql\u001b[49m\u001b[43m,\u001b[49m\u001b[43m \u001b[49m\u001b[43mparams\u001b[49m\u001b[43m)\u001b[49m\n\u001b[0;32m   2739\u001b[0m     columns \u001b[38;5;241m=\u001b[39m [col_desc[\u001b[38;5;241m0\u001b[39m] \u001b[38;5;28;01mfor\u001b[39;00m col_desc \u001b[38;5;129;01min\u001b[39;00m cursor\u001b[38;5;241m.\u001b[39mdescription]\n\u001b[0;32m   2741\u001b[0m     \u001b[38;5;28;01mif\u001b[39;00m chunksize \u001b[38;5;129;01mis\u001b[39;00m \u001b[38;5;129;01mnot\u001b[39;00m \u001b[38;5;28;01mNone\u001b[39;00m:\n",
      "File \u001b[1;32mf:\\test\\chatbot\\env\\Lib\\site-packages\\pandas\\io\\sql.py:2686\u001b[0m, in \u001b[0;36mSQLiteDatabase.execute\u001b[1;34m(self, sql, params)\u001b[0m\n\u001b[0;32m   2683\u001b[0m     \u001b[38;5;28;01mraise\u001b[39;00m ex \u001b[38;5;28;01mfrom\u001b[39;00m \u001b[38;5;21;01minner_exc\u001b[39;00m\n\u001b[0;32m   2685\u001b[0m ex \u001b[38;5;241m=\u001b[39m DatabaseError(\u001b[38;5;124mf\u001b[39m\u001b[38;5;124m\"\u001b[39m\u001b[38;5;124mExecution failed on sql \u001b[39m\u001b[38;5;124m'\u001b[39m\u001b[38;5;132;01m{\u001b[39;00msql\u001b[38;5;132;01m}\u001b[39;00m\u001b[38;5;124m'\u001b[39m\u001b[38;5;124m: \u001b[39m\u001b[38;5;132;01m{\u001b[39;00mexc\u001b[38;5;132;01m}\u001b[39;00m\u001b[38;5;124m\"\u001b[39m)\n\u001b[1;32m-> 2686\u001b[0m \u001b[38;5;28;01mraise\u001b[39;00m ex \u001b[38;5;28;01mfrom\u001b[39;00m \u001b[38;5;21;01mexc\u001b[39;00m\n",
      "\u001b[1;31mDatabaseError\u001b[0m: Execution failed on sql 'SELECT name, salary FROM nba_roster WHERE salary!= '--' ORDER BY CAST(SUBSTR(salary, 2) AS INTEGER) DESC LIMIT 1': no such table: nba_roster"
     ]
    }
   ],
   "source": [
    "# We'd like to be able to get just SQL output so we don't have to parse the query from the model response. For this we can use structured output.\n",
    "result = llm.generate(prompt, output_type={\"sqlite_query\": \"str\"}, max_new_tokens=200)\n",
    "print(result)\n",
    "\n",
    "# Query data from model results\n",
    "df = pd.read_sql(result['sqlite_query'], con=engine)\n",
    "df"
   ]
  },
  {
   "cell_type": "code",
   "execution_count": 13,
   "metadata": {},
   "outputs": [
    {
     "data": {
      "text/html": [
       "<div>\n",
       "<style scoped>\n",
       "    .dataframe tbody tr th:only-of-type {\n",
       "        vertical-align: middle;\n",
       "    }\n",
       "\n",
       "    .dataframe tbody tr th {\n",
       "        vertical-align: top;\n",
       "    }\n",
       "\n",
       "    .dataframe thead th {\n",
       "        text-align: right;\n",
       "    }\n",
       "</style>\n",
       "<table border=\"1\" class=\"dataframe\">\n",
       "  <thead>\n",
       "    <tr style=\"text-align: right;\">\n",
       "      <th></th>\n",
       "      <th>salary</th>\n",
       "      <th>name</th>\n",
       "    </tr>\n",
       "  </thead>\n",
       "  <tbody>\n",
       "    <tr>\n",
       "      <th>0</th>\n",
       "      <td>$49,649,218</td>\n",
       "      <td>Player 50</td>\n",
       "    </tr>\n",
       "  </tbody>\n",
       "</table>\n",
       "</div>"
      ],
      "text/plain": [
       "        salary       name\n",
       "0  $49,649,218  Player 50"
      ]
     },
     "execution_count": 13,
     "metadata": {},
     "output_type": "execute_result"
    }
   ],
   "source": [
    "# Query data using Sql statements\n",
    "query=\"\"\"SELECT salary, name\n",
    "FROM nba_roster\n",
    "WHERE salary != '--'\n",
    "ORDER BY CAST(REPLACE(REPLACE(salary, '$', ''), ',','') AS INTEGER) DESC\n",
    "LIMIT 1;\"\"\"\n",
    "df = pd.read_sql(query, con=engine)\n",
    "df"
   ]
  },
  {
   "cell_type": "markdown",
   "metadata": {},
   "source": [
    "Create an Evaluation"
   ]
  },
  {
   "cell_type": "code",
   "execution_count": 27,
   "metadata": {},
   "outputs": [
    {
     "name": "stdout",
     "output_type": "stream",
     "text": [
      "[{'question': 'What is the 99th percentile salary in the NBA?', 'answer': '46741590', 'sql': \"SELECT (CAST(REPLACE(REPLACE(SALARY, '$', ''), ',','') AS INTEGER)) as percentile FROM nba_roster WHERE SALARY!= '--' order by percentile limit 1 offset (select count(*) from nba_roster where SALARY != '--')*99/100-1;\"}, {'question': 'What is the 75th percentile salary in the NBA?', 'answer': '13932008', 'sql': \"SELECT (CAST(REPLACE(REPLACE(SALARY, '$', ''), ',','') AS INTEGER)) as percentile FROM nba_roster WHERE SALARY!= '--' order by percentile limit 1 offset (select count(*) from nba_roster where SALARY != '--')*75/100-1;\"}, {'question': 'What is the 25th percentile salary in the NBA?', 'answer': '2413304', 'sql': \"SELECT (CAST(REPLACE(REPLACE(SALARY, '$', ''), ',','') AS INTEGER)) as percentile FROM nba_roster WHERE SALARY!= '--' order by percentile limit 1 offset (select count(*) from nba_roster where SALARY != '--')*25/100-1;\"}, {'question': 'What is the median weight in the NBA?', 'answer': '215', 'sql': \"select CAST(SUBSTR(WT, 1, INSTR(WT,' ')) as INTEGER) as percentile from nba_roster order by percentile limit 1 offset (select count(*) from nba_roster)/2;\"}, {'question': 'What is the average weight in the NBA?', 'answer': '214.98', 'sql': \"SELECT AVG(CAST(SUBSTR(WT, 1, INSTR(WT,' ')) as INTEGER)) FROM nba_roster;\"}, {'question': 'What is the median height in the NBA?', 'answer': '6.58333333333333', 'sql': \"select CAST(SUBSTR(HT, 1, INSTR(HT,' ')-1) AS INTEGER)+ CAST(SUBSTR(HT, INSTR(HT,' ')+1) AS FLOAT)/12 as percentile from nba_roster order by percentile limit 1 offset (select count(*) from nba_roster)/2;\"}, {'question': 'What is the average height in the NBA?', 'answer': '6.54986111111111', 'sql': \"select AVG(CAST(SUBSTR(HT, 1, INSTR(HT,' ')-1) AS INTEGER)+ CAST(SUBSTR(HT, INSTR(HT,' ')+1) AS FLOAT)/12) as height from nba_roster;\"}, {'question': 'Can you tell me how many players are in the NBA?', 'answer': '600', 'sql': 'select count(*) from nba_roster;'}, {'question': 'Would you please let me know what the highest paid players are for each position?', 'answer': 'The highest paid players are Nikola Jokic (C), Paul George (F), Norman Powell (G), Kevin Durant (PF), Stephen Curry (PG), LeBron James (SF), Bradley Beal (SG).', 'sql': \"SELECT name, pos, MAX(CAST(REPLACE(REPLACE(SALARY, '$', ''), ',','') AS INTEGER)) as max_salary FROM nba_roster WHERE SALARY!= '--' GROUP BY POS;\"}, {'question': 'Is Jalen Johnson 23 years old?', 'answer': 'No, Jalen Johnson is 21 years old', 'sql': \"Select name, age from nba_roster where name='Jalen Johnson';\"}, {'question': 'Who is the oldest player on the Brooklyn Nets?', 'answer': \"Spencer Dinwiddie, Dorian Finney-Smith, Royce O'Neale\", 'sql': \"SELECT NAME FROM nba_roster WHERE TEAM = 'Brooklyn Nets' AND AGE = (SELECT MAX(AGE) FROM nba_roster WHERE TEAM = 'Brooklyn Nets');\"}, {'question': 'Who has the higest salary on the Memphis Grizzlies?', 'answer': 'Ja Morant', 'sql': \"select salary, name from nba_roster where team='Memphis Grizzlies' and SALARY!= '--' ORDER BY CAST(REPLACE(REPLACE(SALARY, '$', ''), ',','') AS INTEGER) DESC LIMIT 1;\"}, {'question': 'Which player has the higest salary on the Cleveland Cavaliers?', 'answer': 'Darius Garland', 'sql': \"select salary, name from nba_roster where team='Cleveland Cavaliers' and SALARY!= '--' ORDER BY CAST(REPLACE(REPLACE(SALARY, '$', ''), ',','') AS INTEGER) DESC LIMIT 1;\"}, {'question': 'Who is the highest paid center on the Dallas Mavericks?', 'answer': 'Dereck Lively II', 'sql': \"select salary, name from nba_roster where team='Dallas Mavericks' and POS='C' and SALARY!= '--' ORDER BY CAST(REPLACE(REPLACE(SALARY, '$', ''), ',','') AS INTEGER) DESC LIMIT 1;\"}, {'question': 'How much is Marcus Smart getting paid?', 'answer': '$18,833,712', 'sql': \"select salary from nba_roster where name='Marcus Smart';\"}, {'question': \"What's the average age of the Trail Blazers?\", 'answer': '24', 'sql': \"select avg(age) from nba_roster where team='Portland Trail Blazers';\"}, {'question': \"What's the median age of the NBA?\", 'answer': '25', 'sql': 'select CAST(AGE as INTEGER) as percentile from nba_roster order by percentile limit 1 offset (select count(*) from nba_roster)/2;'}, {'question': \"What's the median age of the Miami Heat?\", 'answer': '26', 'sql': \"select CAST(AGE as INTEGER) as percentile from nba_roster where team='Miami Heat' order by percentile limit 1 offset (select count(*) from nba_roster where team='Miami Heat')/2;\"}, {'question': 'What are the 5 teams with the oldest average age in the NBA', 'answer': 'Golden State Warriors, Milwaukee Bucks, Miami Heat, LA Clippers, Phoenix Suns', 'sql': 'SELECT team, AVG(AGE) AS average_age FROM nba_roster GROUP BY team ORDER BY average_age DESC LIMIT 5;'}, {'question': 'What is the average salary of Power Forward players in the NBA', 'answer': '$10948045', 'sql': \"select avg(CAST(REPLACE(REPLACE(SALARY, '$', ''), ',','') AS INTEGER)) as average_salary from nba_roster where POS = 'PF';\"}]\n"
     ]
    }
   ],
   "source": [
    "# Get data to use as seed\n",
    "with open('data/gold-test-set.jsonl', 'r') as file:\n",
    "    data = [json.loads(line) for line in file]\n",
    "\n",
    "print(data)"
   ]
  },
  {
   "cell_type": "code",
   "execution_count": 52,
   "metadata": {},
   "outputs": [],
   "source": [
    "def get_schema_ex():\n",
    "    return \"\"\"\\\n",
    "0|tean|TEXT\n",
    "1|name|TEXT\n",
    "2|jersey|TEXT\n",
    "3|pos|TEXT\n",
    "4|age|INT\n",
    "5|ht|TEXT\n",
    "6|wt|TEXT\n",
    "7|college|TEXT\n",
    "8|sagary|TEXT eg.\n",
    "\"\"\""
   ]
  },
  {
   "cell_type": "code",
   "execution_count": 54,
   "metadata": {},
   "outputs": [
    {
     "name": "stdout",
     "output_type": "stream",
     "text": [
      "<|begin_of_text|><|start_header_id|>system<|end_header_id|>\n",
      "\n",
      "You are an NBA analyst with 15 years of experience writing complex SQL queries. Consider the nba_roster table with the following schema:\n",
      "0|tean|TEXT\n",
      "1|name|TEXT\n",
      "2|jersey|TEXT\n",
      "3|pos|TEXT\n",
      "4|age|INT\n",
      "5|ht|TEXT\n",
      "6|wt|TEXT\n",
      "7|college|TEXT\n",
      "8|sagary|TEXT eg.\n",
      "\n",
      "Write a sqlite query to answer the following question. Follow instructions exactly<|eot_id|><|start_header_id|>user<|end_header_id|>\n",
      "\n",
      "What is the median weight in the NBA?<|eot_id|><|start_header_id|>assistant<|end_header_id|>\n",
      "\n",
      "\n"
     ]
    }
   ],
   "source": [
    "question = \"What is the median weight in the NBA?\"\n",
    "\n",
    "system = f\"\"\"You are an NBA analyst with 15 years of experience writing complex SQL queries. Consider the nba_roster table with the following schema:\n",
    "{get_schema_ex()}\n",
    "Write a sqlite query to answer the following question. Follow instructions exactly\"\"\"\n",
    "\n",
    "prompt = make_llama_3_prompt(question, system)\n",
    "print(prompt)"
   ]
  },
  {
   "cell_type": "code",
   "execution_count": 56,
   "metadata": {},
   "outputs": [
    {
     "name": "stdout",
     "output_type": "stream",
     "text": [
      "{'sqlite_query': 'SELECT AVG(wt) FROM nba_roster'}\n"
     ]
    },
    {
     "data": {
      "text/html": [
       "<div>\n",
       "<style scoped>\n",
       "    .dataframe tbody tr th:only-of-type {\n",
       "        vertical-align: middle;\n",
       "    }\n",
       "\n",
       "    .dataframe tbody tr th {\n",
       "        vertical-align: top;\n",
       "    }\n",
       "\n",
       "    .dataframe thead th {\n",
       "        text-align: right;\n",
       "    }\n",
       "</style>\n",
       "<table border=\"1\" class=\"dataframe\">\n",
       "  <thead>\n",
       "    <tr style=\"text-align: right;\">\n",
       "      <th></th>\n",
       "      <th>AVG(wt)</th>\n",
       "    </tr>\n",
       "  </thead>\n",
       "  <tbody>\n",
       "    <tr>\n",
       "      <th>0</th>\n",
       "      <td>225.6</td>\n",
       "    </tr>\n",
       "  </tbody>\n",
       "</table>\n",
       "</div>"
      ],
      "text/plain": [
       "   AVG(wt)\n",
       "0    225.6"
      ]
     },
     "execution_count": 56,
     "metadata": {},
     "output_type": "execute_result"
    }
   ],
   "source": [
    "generated_query = llm.generate(prompt, output_type={\"sqlite_query\": \"str\"}, max_new_tokens=200)\n",
    "print(generated_query)\n",
    "\n",
    "df = pd.read_sql(generated_query[\"sqlite_query\"], con=engine)\n",
    "df"
   ]
  },
  {
   "cell_type": "code",
   "execution_count": 58,
   "metadata": {},
   "outputs": [
    {
     "name": "stdout",
     "output_type": "stream",
     "text": [
      "<|begin_of_text|><|start_header_id|>system<|end_header_id|>\n",
      "\n",
      "You are an NBA analyst with 15 years of experience writing complex SQL queries. Consider the nba_roster table with the following schema:\n",
      "0|tean|TEXT\n",
      "1|name|TEXT\n",
      "2|jersey|TEXT\n",
      "3|pos|TEXT\n",
      "4|age|INT\n",
      "5|ht|TEXT\n",
      "6|wt|TEXT\n",
      "7|college|TEXT\n",
      "8|sagary|TEXT eg.\n",
      "\n",
      "Write a sqlite query to answer the following question. Follow instructions exactly<|eot_id|><|start_header_id|>user<|end_header_id|>\n",
      "\n",
      "Question: What is the median weight in the NBA?. Query: SELECT AVG(wt) FROM nba_roster. This query is invalid (gets the error Execution failed on sql 'SELECT AVG(CAST(SUBSTR(WT, INSTR(WT,'') + 1) AS INTEGER) FROM nba_roster WHERE WT IS NOT NULL': near \"FROM\": syntax error), so it cannot answer the question. Write a corrected sqlite query.<|eot_id|><|start_header_id|>assistant<|end_header_id|>\n",
      "\n",
      "\n"
     ]
    }
   ],
   "source": [
    "# Try Agent Reflection to see if that can improve the query\n",
    "reflection = f\"Question: {question}. Query: {generated_query['sqlite_query']}. This query is invalid (gets the error Execution failed on sql 'SELECT AVG(CAST(SUBSTR(WT, INSTR(WT,'') + 1) AS INTEGER) FROM nba_roster WHERE WT IS NOT NULL': near \\\"FROM\\\": syntax error), so it cannot answer the question. Write a corrected sqlite query.\"\n",
    "reflection_prompt = make_llama_3_prompt(reflection, system)\n",
    "print(reflection_prompt)"
   ]
  },
  {
   "cell_type": "code",
   "execution_count": 59,
   "metadata": {},
   "outputs": [
    {
     "name": "stdout",
     "output_type": "stream",
     "text": [
      "{'sqlite_query': \"SELECT AVG(CAST(SUBSTR(WT, INSTR(WT,'') + 1) AS INTEGER) FROM nba_roster WHERE WT IS NOT NULL\"}\n",
      "Execution failed on sql 'SELECT AVG(CAST(SUBSTR(WT, INSTR(WT,'') + 1) AS INTEGER) FROM nba_roster WHERE WT IS NOT NULL': near \"FROM\": syntax error\n"
     ]
    }
   ],
   "source": [
    "reflection_query = llm.generate(reflection_prompt, output_type={\"sqlite_query\": \"str\"}, max_new_tokens=200)\n",
    "print(reflection_query)\n",
    "\n",
    "try:\n",
    "  df = pd.read_sql(reflection_query[\"sqlite_query\"], con=engine)\n",
    "  df\n",
    "except Exception as e:\n",
    "  print(e)"
   ]
  },
  {
   "cell_type": "code",
   "execution_count": 60,
   "metadata": {},
   "outputs": [
    {
     "data": {
      "text/html": [
       "<div>\n",
       "<style scoped>\n",
       "    .dataframe tbody tr th:only-of-type {\n",
       "        vertical-align: middle;\n",
       "    }\n",
       "\n",
       "    .dataframe tbody tr th {\n",
       "        vertical-align: top;\n",
       "    }\n",
       "\n",
       "    .dataframe thead th {\n",
       "        text-align: right;\n",
       "    }\n",
       "</style>\n",
       "<table border=\"1\" class=\"dataframe\">\n",
       "  <thead>\n",
       "    <tr style=\"text-align: right;\">\n",
       "      <th></th>\n",
       "      <th>percentile</th>\n",
       "    </tr>\n",
       "  </thead>\n",
       "  <tbody>\n",
       "    <tr>\n",
       "      <th>0</th>\n",
       "      <td>0</td>\n",
       "    </tr>\n",
       "  </tbody>\n",
       "</table>\n",
       "</div>"
      ],
      "text/plain": [
       "   percentile\n",
       "0           0"
      ]
     },
     "execution_count": 60,
     "metadata": {},
     "output_type": "execute_result"
    }
   ],
   "source": [
    "# Look at the right answer\n",
    "correct_sql = \"select CAST(SUBSTR(WT, 1, INSTR(WT,' ')) as INTEGER) as percentile from nba_roster order by percentile limit 1 offset (select count(*) from nba_roster)/2;\"\n",
    "df_corrected = pd.read_sql(correct_sql, con=engine)\n",
    "df_corrected"
   ]
  },
  {
   "cell_type": "code",
   "execution_count": 62,
   "metadata": {},
   "outputs": [],
   "source": [
    "# Evaluate over a larger dataset\n",
    "path = \"data/gold-test-set.jsonl\"\n",
    "\n",
    "with jsonlines.open(path) as reader:\n",
    "  data = [obj for obj in reader]"
   ]
  },
  {
   "cell_type": "code",
   "execution_count": 63,
   "metadata": {},
   "outputs": [
    {
     "data": {
      "text/plain": [
       "{'question': 'What is the average weight in the NBA?',\n",
       " 'answer': '214.98',\n",
       " 'sql': \"SELECT AVG(CAST(SUBSTR(WT, 1, INSTR(WT,' ')) as INTEGER)) FROM nba_roster;\"}"
      ]
     },
     "execution_count": 63,
     "metadata": {},
     "output_type": "execute_result"
    }
   ],
   "source": [
    "datapoint = data[4]\n",
    "datapoint"
   ]
  },
  {
   "cell_type": "code",
   "execution_count": 64,
   "metadata": {},
   "outputs": [
    {
     "data": {
      "text/plain": [
       "{'question': 'Can you tell me how many players are in the NBA?',\n",
       " 'answer': '600',\n",
       " 'sql': 'select count(*) from nba_roster;'}"
      ]
     },
     "execution_count": 64,
     "metadata": {},
     "output_type": "execute_result"
    }
   ],
   "source": [
    "datapoint = data[7]\n",
    "datapoint"
   ]
  },
  {
   "cell_type": "code",
   "execution_count": 73,
   "metadata": {},
   "outputs": [
    {
     "name": "stdout",
     "output_type": "stream",
     "text": [
      "{'sqlite_query': 'SELECT COUNT(*) FROM nba_roster'}\n"
     ]
    },
    {
     "data": {
      "text/html": [
       "<div>\n",
       "<style scoped>\n",
       "    .dataframe tbody tr th:only-of-type {\n",
       "        vertical-align: middle;\n",
       "    }\n",
       "\n",
       "    .dataframe tbody tr th {\n",
       "        vertical-align: top;\n",
       "    }\n",
       "\n",
       "    .dataframe thead th {\n",
       "        text-align: right;\n",
       "    }\n",
       "</style>\n",
       "<table border=\"1\" class=\"dataframe\">\n",
       "  <thead>\n",
       "    <tr style=\"text-align: right;\">\n",
       "      <th></th>\n",
       "      <th>COUNT(*)</th>\n",
       "    </tr>\n",
       "  </thead>\n",
       "  <tbody>\n",
       "    <tr>\n",
       "      <th>0</th>\n",
       "      <td>100</td>\n",
       "    </tr>\n",
       "  </tbody>\n",
       "</table>\n",
       "</div>"
      ],
      "text/plain": [
       "   COUNT(*)\n",
       "0       100"
      ]
     },
     "execution_count": 73,
     "metadata": {},
     "output_type": "execute_result"
    }
   ],
   "source": [
    "system = \"You are an NBA analyst with 15 years of experience writing complex SQL queries.\\n\"\n",
    "system += \"Consider the nba_roster table with the following schema:\\n\"\n",
    "system += get_schema_ex() + \"\\n\"\n",
    "system += (\n",
    "    \"Write a sqlite SQL query that would help you answer the following question:\\n\"\n",
    ")\n",
    "\n",
    "user = datapoint[\"question\"]\n",
    "prompt = make_llama_3_prompt(user, system)\n",
    "generated_sql = llm.generate(prompt, output_type={\"sqlite_query\": \"str\"}, max_new_tokens=200)\n",
    "print(generated_sql)\n",
    "df = pd.read_sql(generated_sql['sqlite_query'], con=engine)\n",
    "df"
   ]
  },
  {
   "cell_type": "code",
   "execution_count": 74,
   "metadata": {},
   "outputs": [
    {
     "data": {
      "text/html": [
       "<div>\n",
       "<style scoped>\n",
       "    .dataframe tbody tr th:only-of-type {\n",
       "        vertical-align: middle;\n",
       "    }\n",
       "\n",
       "    .dataframe tbody tr th {\n",
       "        vertical-align: top;\n",
       "    }\n",
       "\n",
       "    .dataframe thead th {\n",
       "        text-align: right;\n",
       "    }\n",
       "</style>\n",
       "<table border=\"1\" class=\"dataframe\">\n",
       "  <thead>\n",
       "    <tr style=\"text-align: right;\">\n",
       "      <th></th>\n",
       "      <th>count(*)</th>\n",
       "    </tr>\n",
       "  </thead>\n",
       "  <tbody>\n",
       "    <tr>\n",
       "      <th>0</th>\n",
       "      <td>100</td>\n",
       "    </tr>\n",
       "  </tbody>\n",
       "</table>\n",
       "</div>"
      ],
      "text/plain": [
       "   count(*)\n",
       "0       100"
      ]
     },
     "execution_count": 74,
     "metadata": {},
     "output_type": "execute_result"
    }
   ],
   "source": [
    "ref_sql = datapoint[\"sql\"]\n",
    "ref_df = pd.read_sql(ref_sql, con=engine)\n",
    "ref_df"
   ]
  },
  {
   "cell_type": "code",
   "execution_count": 75,
   "metadata": {},
   "outputs": [
    {
     "data": {
      "text/plain": [
       "True"
      ]
     },
     "execution_count": 75,
     "metadata": {},
     "output_type": "execute_result"
    }
   ],
   "source": [
    "# Compare strings\n",
    "str(df).lower() == str(ref_df).lower()"
   ]
  },
  {
   "cell_type": "code",
   "execution_count": 79,
   "metadata": {},
   "outputs": [
    {
     "name": "stdout",
     "output_type": "stream",
     "text": [
      "<|begin_of_text|><|start_header_id|>system<|end_header_id|>\n",
      "\n",
      "Compare the following two dataframes. They are similar if they are almost identical, or if they convey the same information about the nba_roster datasetRespond with valid JSON {'explanation' : str, 'similar' : bool}<|eot_id|><|start_header_id|>user<|end_header_id|>\n",
      "\n",
      "========== Dataframe 1 =========\n",
      "   count(*)\n",
      "0       100\n",
      "\n",
      "========== Dataframe 2 =========\n",
      "   count(*)\n",
      "0       100\n",
      "\n",
      "Can you tell me if these dataframes are similar?<|eot_id|><|start_header_id|>assistant<|end_header_id|>\n",
      "\n",
      "\n"
     ]
    },
    {
     "data": {
      "text/plain": [
       "{'explanation': 'Both dataframes have the same count of 100, indicating they have the same number of rows. This suggests that they are similar',\n",
       " 'similar': True}"
      ]
     },
     "execution_count": 79,
     "metadata": {},
     "output_type": "execute_result"
    }
   ],
   "source": [
    "# Compare by using an LLM model\n",
    "system = \"Compare the following two dataframes. They are similar if they are almost identical, or if they convey the same information about the nba_roster dataset\"\n",
    "system += \"Respond with valid JSON {'explanation' : str, 'similar' : bool}\"\n",
    "\n",
    "user = (\n",
    "    f\"========== Dataframe 1 =========\\n{str(df).lower()}\\n\\n\"\n",
    ")\n",
    "user += (\n",
    "    f\"========== Dataframe 2 =========\\n{str(ref_df).lower()}\\n\\n\"\n",
    ")\n",
    "user += f\"Can you tell me if these dataframes are similar?\"\n",
    "\n",
    "llm_similarity_prompt = make_llama_3_prompt(user, system)\n",
    "print(llm_similarity_prompt)\n",
    "llm_similarity = llm.generate(llm_similarity_prompt, output_type={\"explanation\": \"str\", \"similar\": \"bool\"}, max_new_tokens=200)\n",
    "llm_similarity"
   ]
  },
  {
   "cell_type": "code",
   "execution_count": 6,
   "metadata": {},
   "outputs": [],
   "source": [
    "class Args:\n",
    "  def __init__(\n",
    "    self,\n",
    "    max_examples=100,\n",
    "    sql_model_name=\"meta-llama/Meta-Llama-3-8B-Instruct\",\n",
    "    gold_file_name=\"gold-test-set.jsonl\",\n",
    "    training_file_name=\"archive/generated_queries.jsonl\",\n",
    "    num_to_generate=10\n",
    "  ):\n",
    "    self.sql_model_name = sql_model_name\n",
    "    self.max_examples = max_examples\n",
    "    self.gold_file_name = gold_file_name\n",
    "    self.training_file_name = training_file_name\n",
    "    self.num_to_generate = num_to_generate"
   ]
  },
  {
   "cell_type": "code",
   "execution_count": 5,
   "metadata": {},
   "outputs": [],
   "source": [
    "def load_gold_dataset(args):\n",
    "  path = f\"data/{args.gold_file_name}\"\n",
    "  \n",
    "  with jsonlines.open(path) as reader:\n",
    "    for i, obj in enumerate(reversed(list(reader))):\n",
    "      if i >= args.max_examples:\n",
    "        break\n",
    "      yield PromptObject(prompt=\"\", data=obj)"
   ]
  },
  {
   "cell_type": "code",
   "execution_count": 77,
   "metadata": {},
   "outputs": [],
   "source": [
    "# Here's how to wrap that all up in a runnable class\n",
    "class QueryStage(GenerationNode):\n",
    "  def __init__(self, model_name):\n",
    "    super().__init__(\n",
    "      model_name=model_name,\n",
    "      max_new_tokens=200,\n",
    "    )\n",
    "\n",
    "  def generate(\n",
    "    self,\n",
    "    prompt: Union[Iterator[PromptObject], AsyncIterator[PromptObject]],\n",
    "    *args,\n",
    "    **kwargs,\n",
    "  ):\n",
    "    results = super().generate(\n",
    "      prompt,\n",
    "      output_type={\"sqlite_query\": \"str\"},\n",
    "      *args,\n",
    "      **kwargs,\n",
    "    )\n",
    "    return results\n",
    "\n",
    "  def postprocess(self, obj: PromptObject):\n",
    "    # Run both the generated and reference (Gold Dataset) SQL queries\n",
    "    # Assessing whether the SQL queries succeeded in hitting the database (not correctness yet!)\n",
    "    query_succeeded = False\n",
    "\n",
    "    try:\n",
    "      logger.error(f\"Running SQL query '{obj.response['sqlite_query']}'\")\n",
    "      obj.data[\"generated_query\"] = obj.response[\"sqlite_query\"]\n",
    "      df = pd.read_sql(obj.response[\"sqlite_query\"], con=engine)\n",
    "      obj.data['df'] = df\n",
    "      logger.error(f\"Got data: {df}\")\n",
    "      query_succeeded = True\n",
    "\n",
    "    except Exception as e:\n",
    "      logger.error(f\"Failed to run SQL query: {obj.response['sqlite_query']}\")\n",
    "\n",
    "    logger.info(f\"Running reference SQL query '{obj.data['sql']}'\")\n",
    "    df = pd.read_sql(obj.data[\"sql\"], con=engine)\n",
    "    logger.info(f\"Got data: {df}\")\n",
    "    obj.data['reference_df'] = df\n",
    "\n",
    "    logger.info(f\"For question: {obj.data['question']}\")\n",
    "    logger.info(f\"For query: {obj.response['sqlite_query']}\")\n",
    "\n",
    "    obj.data[\"query_succeeded\"] = query_succeeded\n",
    "\n",
    "  def preprocess(self, obj: PromptObject):\n",
    "    new_prompt = make_llama_3_prompt(**self.make_prompt(obj.data))\n",
    "    obj.prompt = new_prompt\n",
    "\n",
    "  def make_prompt(self, data: dict):\n",
    "    system = \"You are an NBA analyst with 15 years of experience writing complex SQL queries.\\n\"\n",
    "    system += \"Consider the nba_roster table with the following schema:\\n\"\n",
    "    system += get_schema() + \"\\n\"\n",
    "    system += (\"Write a sqlite SQL query that would help you answer the following question:\\n\")\n",
    "    user = data[\"question\"]\n",
    "    return {\n",
    "      \"user\": user,\n",
    "      \"system\": system,\n",
    "    }"
   ]
  },
  {
   "cell_type": "code",
   "execution_count": 78,
   "metadata": {},
   "outputs": [],
   "source": [
    "# How to wrap compare in a class\n",
    "class ScoreStage(GenerationNode):\n",
    "  def __init__(self):\n",
    "    super().__init__(\n",
    "        model_name=\"meta-llama/Meta-Llama-3-8B-Instruct\",\n",
    "        max_new_tokens=150,\n",
    "    )\n",
    "\n",
    "  def generate(\n",
    "    self,\n",
    "    prompt: Union[Iterator[PromptObject], AsyncIterator[PromptObject]],\n",
    "    *args,\n",
    "    **kwargs,\n",
    "  ):\n",
    "    logger.debug(\"ScoreStage Generate\")\n",
    "    results = super().generate(\n",
    "      prompt,\n",
    "      output_type={\"explanation\": \"str\", \"similar\": [\"true\", \"false\"]},\n",
    "      *args,\n",
    "      **kwargs,\n",
    "    )        \n",
    "    logger.debug(f\"ScoreStage Results {results}\")\n",
    "\n",
    "    return results\n",
    "\n",
    "  def preprocess(self, obj: PromptObject):\n",
    "    obj.prompt = make_llama_3_prompt(**self.make_prompt(obj))\n",
    "    logger.info(f\"Scoring Stage Prompt:\\n{obj.prompt}\")\n",
    "\n",
    "  def postprocess(self, obj: PromptObject):\n",
    "    logger.info(f\"Postprocess\")\n",
    "    obj.data['is_matching'] = self.is_matching(obj.data, obj.response)\n",
    "    obj.data['explanation'] = obj.response[\"explanation\"]\n",
    "    obj.data['similar'] = obj.response[\"similar\"] == \"true\"\n",
    "\n",
    "\n",
    "  def is_matching(self, data, response):\n",
    "    return (str(data.get('df',\"None\")).lower() == str(data['reference_df']).lower() or response['similar'] == \"true\")\n",
    "\n",
    "  def make_prompt(self, obj: PromptObject):\n",
    "    # Your evaluation model compares SQL output from the generated and reference SQL queries, using another LLM in the pipeline\n",
    "    system_prompt = \"Compare the following two dataframes. They are similar if they are almost identical, or if they convey the same information about the nba_roster dataset\"\n",
    "    system_prompt += \"Respond with valid JSON {'explanation' : str, 'similar' : bool}\"\n",
    "    user_prompt = (\n",
    "      f\"========== Dataframe 1 =========\\n{str(obj.data.get('df','None')).lower()}\\n\\n\"\n",
    "    )\n",
    "    user_prompt += (\n",
    "      f\"========== Dataframe 2 =========\\n{str(obj.data['reference_df']).lower()}\\n\\n\"\n",
    "    )\n",
    "    user_prompt += f\"Can you tell me if these dataframes are similar?\"\n",
    "    return {\n",
    "      \"system\": system_prompt,\n",
    "      \"user\": user_prompt\n",
    "    }"
   ]
  },
  {
   "cell_type": "code",
   "execution_count": 79,
   "metadata": {},
   "outputs": [],
   "source": [
    "class EvaluationPipeline(GenerationPipeline):\n",
    "  def __init__(self, args):\n",
    "    super().__init__()\n",
    "    self.query_stage = QueryStage(args.sql_model_name)\n",
    "    self.score_stage = ScoreStage()\n",
    "\n",
    "  def forward(self, x):\n",
    "    x = self.query_stage(x)\n",
    "    x = self.score_stage(x)\n",
    "    return x"
   ]
  },
  {
   "cell_type": "code",
   "execution_count": 80,
   "metadata": {},
   "outputs": [],
   "source": [
    "async def run_eval(dataset, args):\n",
    "  results = await run_evaluation_pipeline(dataset, args)\n",
    "  print(\"Total results:\", len(results))\n",
    "  return results\n",
    "\n",
    "async def run_evaluation_pipeline(dataset, args):\n",
    "  results = EvaluationPipeline(args).call(dataset)\n",
    "  result_list = []\n",
    "\n",
    "  pbar = tqdm(desc=\"Saving results\", unit=\" results\")\n",
    "  async for result in results:\n",
    "    result_list.append(result)\n",
    "    pbar.update()\n",
    "  return result_list"
   ]
  },
  {
   "cell_type": "code",
   "execution_count": 81,
   "metadata": {},
   "outputs": [],
   "source": [
    "def save_eval_results(results, args):\n",
    "  base_path = \"./data/results\"\n",
    "  now = datetime.now().strftime(\"%Y_%m_%d_%H_%M_%S\")\n",
    "  experiment_name = f\"nba_sql_pipeline_{now}\"\n",
    "  experiment_dir = os.path.join(base_path, experiment_name)\n",
    "  os.makedirs(os.path.join(base_path, experiment_name))\n",
    "\n",
    "  # Write args to file\n",
    "  args_file_name = f\"{experiment_dir}/args.txt\"\n",
    "  with open(args_file_name, \"w\") as writer:\n",
    "    pprint(args.__dict__, writer)\n",
    "\n",
    "  def is_correct(r):\n",
    "    if ((r.data[\"query_succeeded\"] and r.data['is_matching']) or r.data[\"generated_query\"] == r.data['sql']):\n",
    "      return True\n",
    "    return False\n",
    "\n",
    "  # Write sql results and errors to file\n",
    "  results_file_name = f\"{experiment_dir}/sql_results.jsonl\"\n",
    "  with jsonlines.open(results_file_name, \"w\") as writer:\n",
    "    for result in results:\n",
    "      if not is_correct(result):\n",
    "        continue\n",
    "      writer.write({\n",
    "        \"question\": result.data['question'],\n",
    "        \"query\": result.data[\"generated_query\"],\n",
    "        \"query_succeeded\": result.data[\"query_succeeded\"],\n",
    "        \"reference_sql\": result.data['sql'],\n",
    "        \"df\": str(result.data.get('df', 'None')),\n",
    "        \"reference_df\": str(result.data['reference_df']),\n",
    "        \"is_matching\": result.data['is_matching'],\n",
    "        \"similar\": result.data['similar'],\n",
    "      })\n",
    "\n",
    "  results_file_name = f\"{experiment_dir}/sql_errors.jsonl\"\n",
    "  with jsonlines.open(results_file_name, \"w\") as writer:\n",
    "    for result in results:\n",
    "      if is_correct(result):\n",
    "        continue\n",
    "      writer.write({\n",
    "        \"question\": result.data['question'],\n",
    "        \"query\": result.data[\"generated_query\"],\n",
    "        \"query_succeeded\": result.data[\"query_succeeded\"],\n",
    "        \"df\": str(result.data.get('df', 'None')),\n",
    "        \"reference_df\": str(result.data['reference_df']),\n",
    "        \"is_matching\": result.data['is_matching'],\n",
    "        \"similar\": result.data['similar'],\n",
    "      })\n",
    "\n",
    "  # Write statistics to file\n",
    "  average_sql_succeeded = sum([result.data[\"query_succeeded\"] for result in results]) / len(results)\n",
    "  average_correct = sum([result.data[\"query_succeeded\"] and result.data['is_matching'] for result in results]) / len(results)\n",
    "\n",
    "  file_name = f\"{experiment_dir}/summary.txt\"\n",
    "  with open(file_name, \"w\") as writer:\n",
    "    print(f\"Total size of eval dataset: {len(results)}\", file=writer)\n",
    "    print(f\"Total size of eval dataset: {len(results)}\")\n",
    "    print(f\"Percent Valid SQL Syntax: {average_sql_succeeded*100}\", file=writer)\n",
    "    print(f\"Percent Valid SQL Syntax: {average_sql_succeeded*100}\")\n",
    "    print(f\"Percent Correct SQL Query: {average_correct*100}\", file=writer)\n",
    "    print(f\"Percent Correct SQL Query: {average_correct*100}\")"
   ]
  },
  {
   "cell_type": "code",
   "execution_count": 14,
   "metadata": {},
   "outputs": [
    {
     "name": "stderr",
     "output_type": "stream",
     "text": [
      "Running SQL query 'SELECT salary FROM nba_roster WHERE name = 'Marcus Smart';'\n",
      "Got data: Empty DataFrame\n",
      "Columns: [salary]\n",
      "Index: []\n",
      "Running SQL query 'SELECT name, salary FROM nba_roster WHERE team = 'Dallas Mavericks' AND pos = 'C' AND salary!= '--' ORDER BY CAST(SUBSTR(salary, 2) AS INTEGER) DESC LIMIT 1'\n",
      "Got data:        name       salary\n",
      "0  Player 5  $40,654,001\n",
      "Running SQL query 'SELECT name FROM nba_roster WHERE team = 'Cleveland Cavaliers' AND salary!= '--' ORDER BY CAST(SUBSTR(salary, 2) AS INTEGER) DESC LIMIT 1'\n",
      "Got data: Empty DataFrame\n",
      "Columns: [name]\n",
      "Index: []\n",
      "Running SQL query 'SELECT name, salary FROM nba_roster WHERE team = 'Memphis Grizzlies' AND salary!= '--' ORDER BY salary DESC LIMIT 1'\n",
      "Got data: Empty DataFrame\n",
      "Columns: [name, salary]\n",
      "Index: []\n",
      "Running SQL query 'SELECT name FROM nba_roster WHERE team = 'Brooklyn Nets' AND age = (SELECT MAX(age) FROM nba_roster WHERE team = 'Brooklyn Nets')'\n",
      "Got data:         name\n",
      "0  Player 73\n",
      "Running SQL query 'SELECT AVG(CAST(SUBSTR(salary, 2) AS INTEGER) FROM nba_roster WHERE pos = 'PF' AND salary!= '--';'\n",
      "Failed to run SQL query: SELECT AVG(CAST(SUBSTR(salary, 2) AS INTEGER) FROM nba_roster WHERE pos = 'PF' AND salary!= '--';\n",
      "Running SQL query 'SELECT team, AVG(age) AS avg_age FROM nba_roster GROUP BY team ORDER BY avg_age DESC LIMIT 5'\n",
      "Got data:                     team    avg_age\n",
      "0  Golden State Warriors  31.937500\n",
      "1        Milwaukee Bucks  30.833333\n",
      "2     Los Angeles Lakers  30.181818\n",
      "3       Dallas Mavericks  29.750000\n",
      "4          Brooklyn Nets  29.750000\n",
      "Running SQL query 'SELECT AVG(age) FROM nba_roster WHERE team = 'Miami Heat';'\n",
      "Got data:   AVG(age)\n",
      "0     None\n",
      "Running SQL query 'SELECT AVG(age) FROM nba_roster'\n",
      "Got data:    AVG(age)\n",
      "0     30.39\n",
      "Running SQL query 'SELECT AVG(age) FROM nba_roster WHERE team = 'Portland Trail Blazers';'\n",
      "Got data:   AVG(age)\n",
      "0     None\n",
      "Running SQL query 'SELECT AVG(CAST(SUBSTR(wt, INSTR(wt,'') + 1) AS INTEGER) AS weight FROM nba_roster WHERE wt IS NOT NULL'\n",
      "Failed to run SQL query: SELECT AVG(CAST(SUBSTR(wt, INSTR(wt,'') + 1) AS INTEGER) AS weight FROM nba_roster WHERE wt IS NOT NULL\n",
      "Running SQL query 'SELECT AVG(CAST(SUBSTR(wt, INSTR(wt,'') + 1) AS INTEGER) FROM nba_roster WHERE wt!= 'NA' AND wt!= '--';'\n",
      "Failed to run SQL query: SELECT AVG(CAST(SUBSTR(wt, INSTR(wt,'') + 1) AS INTEGER) FROM nba_roster WHERE wt!= 'NA' AND wt!= '--';\n",
      "Running SQL query 'SELECT PERCENTILE(salary, 0.25) FROM nba_roster WHERE salary!= '--';'\n",
      "Failed to run SQL query: SELECT PERCENTILE(salary, 0.25) FROM nba_roster WHERE salary!= '--';\n",
      "Running SQL query 'SELECT PERCENTILE(salary, 0.75) FROM nba_roster WHERE salary!= '--';'\n",
      "Failed to run SQL query: SELECT PERCENTILE(salary, 0.75) FROM nba_roster WHERE salary!= '--';\n",
      "Running SQL query 'SELECT PERCENTILE(salary, 0.99) FROM nba_roster WHERE salary!= '--';'\n",
      "Failed to run SQL query: SELECT PERCENTILE(salary, 0.99) FROM nba_roster WHERE salary!= '--';\n",
      "Running SQL query 'SELECT * FROM nba_roster WHERE name = 'Jalen Johnson' AND age = 23'\n",
      "Got data: Empty DataFrame\n",
      "Columns: [id, team, name, jersey, pos, age, ht, wt, college, salary]\n",
      "Index: []\n",
      "Running SQL query 'SELECT pos, MAX(CAST(SUBSTR(salary, 2) AS INTEGER) AS salary FROM nba_roster WHERE salary!= '--' GROUP BY pos ORDER BY pos'\n",
      "Failed to run SQL query: SELECT pos, MAX(CAST(SUBSTR(salary, 2) AS INTEGER) AS salary FROM nba_roster WHERE salary!= '--' GROUP BY pos ORDER BY pos\n",
      "Running SQL query 'SELECT COUNT(*) FROM nba_roster WHERE jersey!= 'NA';'\n",
      "Got data:    COUNT(*)\n",
      "0       100\n",
      "Running SQL query 'SELECT AVG(CAST(SUBSTRING(ht, 0, INSTR(ht,'')) AS INTEGER) FROM nba_roster WHERE ht IS NOT NULL'\n",
      "Failed to run SQL query: SELECT AVG(CAST(SUBSTRING(ht, 0, INSTR(ht,'')) AS INTEGER) FROM nba_roster WHERE ht IS NOT NULL\n",
      "Running SQL query 'SELECT AVG(CAST(SUBSTRING(ht, 0, INSTR(ht,'')-1) AS INTEGER) FROM nba_roster WHERE ht IS NOT NULL'\n",
      "Failed to run SQL query: SELECT AVG(CAST(SUBSTRING(ht, 0, INSTR(ht,'')-1) AS INTEGER) FROM nba_roster WHERE ht IS NOT NULL\n",
      "Running SQL query 'SELECT AVG(CAST(SUBSTR(salary, 1, LENGTH(salary)-3) AS INTEGER) AS average_salary FROM nba_roster WHERE salary!= '--';'\n",
      "Failed to run SQL query: SELECT AVG(CAST(SUBSTR(salary, 1, LENGTH(salary)-3) AS INTEGER) AS average_salary FROM nba_roster WHERE salary!= '--';\n",
      "Running SQL query 'SELECT AVG(CAST(SUBSTR(salary, 1, LENGTH(salary)-3) AS INTEGER) FROM nba_roster WHERE salary!= '--';'\n",
      "Failed to run SQL query: SELECT AVG(CAST(SUBSTR(salary, 1, LENGTH(salary)-3) AS INTEGER) FROM nba_roster WHERE salary!= '--';\n",
      "Running SQL query 'SELECT name, salary FROM nba_roster WHERE pos = 'PF' AND salary!= '--' ORDER BY CAST(SUBSTR(salary, 2) AS INTEGER) DESC LIMIT 5'\n",
      "Got data:         name       salary\n",
      "0  Player 50  $49,649,218\n",
      "1  Player 76  $47,522,856\n",
      "2  Player 33  $36,851,707\n",
      "3  Player 71  $32,057,424\n",
      "4  Player 79  $31,592,495\n",
      "Running SQL query 'SELECT name, ht FROM nba_roster WHERE pos = 'C' AND ht IS NOT NULL ORDER BY LENGTH(ht) DESC LIMIT 5'\n",
      "Got data:         name    ht\n",
      "0   Player 3  7-10\n",
      "1  Player 58  6-10\n",
      "2   Player 5   6-0\n",
      "3  Player 10   6-0\n",
      "4  Player 14   7-8\n",
      "Running SQL query 'SELECT team, AVG(CAST(SUBSTRING(ht, 0, INSTR(ht,'')) AS INTEGER) AS avg_height FROM nba_roster WHERE ht IS NOT NULL GROUP BY team ORDER BY avg_height LIMIT 1'\n",
      "Failed to run SQL query: SELECT team, AVG(CAST(SUBSTRING(ht, 0, INSTR(ht,'')) AS INTEGER) AS avg_height FROM nba_roster WHERE ht IS NOT NULL GROUP BY team ORDER BY avg_height LIMIT 1\n",
      "Running SQL query 'SELECT team, AVG(CAST(SUBSTRING(ht, 0, INSTR(ht,'')) AS INTEGER) AS avg_height FROM nba_roster WHERE ht IS NOT NULL GROUP BY team ORDER BY avg_height DESC LIMIT 1'\n",
      "Failed to run SQL query: SELECT team, AVG(CAST(SUBSTRING(ht, 0, INSTR(ht,'')) AS INTEGER) AS avg_height FROM nba_roster WHERE ht IS NOT NULL GROUP BY team ORDER BY avg_height DESC LIMIT 1\n",
      "Running SQL query 'SELECT team, AVG(CAST(SUBSTR(salary, 2) AS INTEGER) AS avg_salary FROM nba_roster WHERE salary!= '--' GROUP BY team ORDER BY avg_salary LIMIT 1'\n",
      "Failed to run SQL query: SELECT team, AVG(CAST(SUBSTR(salary, 2) AS INTEGER) AS avg_salary FROM nba_roster WHERE salary!= '--' GROUP BY team ORDER BY avg_salary LIMIT 1\n",
      "Running SQL query 'SELECT team, SUM(CAST(SUBSTR(salary, 2) AS INTEGER) AS total_salary FROM nba_roster WHERE salary!= '--' GROUP BY team ORDER BY total_salary DESC LIMIT 1'\n",
      "Failed to run SQL query: SELECT team, SUM(CAST(SUBSTR(salary, 2) AS INTEGER) AS total_salary FROM nba_roster WHERE salary!= '--' GROUP BY team ORDER BY total_salary DESC LIMIT 1\n",
      "Running SQL query 'SELECT team, COUNT(*) as num_players FROM nba_roster GROUP BY team ORDER BY num_players DESC LIMIT 1'\n",
      "Got data:             team  num_players\n",
      "0  Brooklyn Nets           24\n",
      "Running SQL query 'SELECT team, COUNT(*) as roster_size FROM nba_roster GROUP BY team ORDER BY roster_size LIMIT 1'\n",
      "Got data:                     team  roster_size\n",
      "0  Golden State Warriors           16\n",
      "Running SQL query 'SELECT name FROM nba_roster WHERE college = '--'\n",
      "Failed to run SQL query: SELECT name FROM nba_roster WHERE college = '--\n",
      "Running SQL query 'SELECT jersey, COUNT(*) as count FROM nba_roster GROUP BY jersey ORDER BY count DESC LIMIT 1'\n",
      "Got data:   jersey  count\n",
      "0     21      4\n",
      "Running SQL query 'SELECT age FROM nba_roster WHERE name = 'Lebron James';'\n",
      "Got data: Empty DataFrame\n",
      "Columns: [age]\n",
      "Index: []\n",
      "Running SQL query 'SELECT college, COUNT(*) as num_players FROM nba_roster WHERE college IS NOT '--' GROUP BY college ORDER BY num_players DESC LIMIT 1'\n",
      "Got data:      college  num_players\n",
      "0  College C           23\n",
      "Running SQL query 'SELECT wt FROM nba_roster WHERE name = 'Lonzo Ball';'\n",
      "Got data: Empty DataFrame\n",
      "Columns: [wt]\n",
      "Index: []\n",
      "Running SQL query 'SELECT team FROM nba_roster WHERE name = 'LaMelo Ball';'\n",
      "Got data: Empty DataFrame\n",
      "Columns: [team]\n",
      "Index: []\n",
      "Running SQL query 'SELECT name, salary FROM nba_roster WHERE salary!= '--' ORDER BY CAST(SUBSTR(salary, 2) AS INTEGER) DESC LIMIT 1'\n",
      "Got data:         name       salary\n",
      "0  Player 50  $49,649,218\n",
      "Running SQL query 'SELECT name, salary FROM nba_roster WHERE team = 'Los Angeles Lakers' AND salary!= '--' ORDER BY salary DESC LIMIT 1'\n",
      "Got data:         name      salary\n",
      "0  Player 89  $9,257,112\n",
      "Running SQL query 'SELECT COUNT(*) FROM nba_roster WHERE team = 'Chicago Bulls' AND age <= 25'\n",
      "Got data:    COUNT(*)\n",
      "0         0\n",
      "Running SQL query 'SELECT name FROM nba_roster WHERE team='Golden State Warriors' AND pos='PG';'\n",
      "Got data:         name\n",
      "0  Player 15\n",
      "1  Player 16\n",
      "2  Player 23\n",
      "Saving results: 40 results [01:50,  2.75s/ results]"
     ]
    },
    {
     "name": "stdout",
     "output_type": "stream",
     "text": [
      "Total results: 40\n",
      "Total size of eval dataset: 40\n",
      "Percent Valid SQL Syntax: 60.0\n",
      "Percent Correct SQL Query: 45.0\n"
     ]
    },
    {
     "name": "stderr",
     "output_type": "stream",
     "text": [
      "\n"
     ]
    }
   ],
   "source": [
    "logger = logging.getLogger(__name__)\n",
    "engine = sqlite3.connect(\"./nba_roster.db\")\n",
    "setup_logging()\n",
    "\n",
    "args = Args(gold_file_name=\"gold-test-set-v2.jsonl\")\n",
    "dataset = load_gold_dataset(args)\n",
    "results = await run_eval(dataset, args)\n",
    "save_eval_results(results, args)"
   ]
  },
  {
   "cell_type": "markdown",
   "metadata": {},
   "source": [
    "Generate data & Finetune"
   ]
  },
  {
   "cell_type": "code",
   "execution_count": 16,
   "metadata": {},
   "outputs": [
    {
     "name": "stdout",
     "output_type": "stream",
     "text": [
      "You are an NBA analyst with 15 years of experience writing complex SQL queries.\n",
      "Consider a table called 'nba_roster' with the following schema (columns)\n",
      "  0|team|TEXT eg. \"Toronto Raptors\"\n",
      "  1|name|TEXT eg. \"Otto Porter Jr.\"\n",
      "  2|jersey|TEXT eg. \"0\" and when null has a value \"NA\"\n",
      "  3|pos|TEXT eg. \"PF\"\n",
      "  4|age|INT eg. \"22\" in years\n",
      "  5|ht|TEXT eg. `6' 7\"` or `6' 10\"` castable to int\n",
      "  6|wt|TEXT eg. \"232 lbs\" \n",
      "  7|college|TEXT eg. \"Michigan\" and when null has a value \"--\"\n",
      "  8|salary|TEXT eg. \"$9,945,830\" and when null has a value \"--\"\n",
      "  Consider the following questions, and queries used to answer them:\n",
      "Question: What is the median weight in the NBA?\n",
      "Query: select CAST(SUBSTR(WT, 1, INSTR(WT,' ')) as INTEGER) as percentile from nba_roster order by percentile limit 1 offset (select count(*) from nba_roster)/2;\n",
      "\n"
     ]
    }
   ],
   "source": [
    "system = \"You are an NBA analyst with 15 years of experience writing complex SQL queries.\\n\"\n",
    "system += (\n",
    "    \"Consider a table called 'nba_roster' with the following schema (columns)\\n\"\n",
    ")\n",
    "system += get_schema_s()\n",
    "system += \"Consider the following questions, and queries used to answer them:\\n\"\n",
    "\n",
    "question = \"\"\"What is the median weight in the NBA?\"\"\"\n",
    "sql = \"select CAST(SUBSTR(WT, 1, INSTR(WT,' ')) as INTEGER) as percentile from nba_roster order by percentile limit 1 offset (select count(*) from nba_roster)/2;\"\n",
    "\n",
    "system += \"Question: \" + question + \"\\n\"\n",
    "system += \"Query: \" + sql + \"\\n\"\n",
    "\n",
    "print(system)"
   ]
  },
  {
   "cell_type": "code",
   "execution_count": 18,
   "metadata": {},
   "outputs": [
    {
     "name": "stdout",
     "output_type": "stream",
     "text": [
      "Write two queries that are similar but different to those above.\n",
      "Format the queries as a JSON object, i.e.\n",
      "{ \"explanation\": str, \"sql_query_1\" : str, \"sql_query_2\": str }.\n",
      "First write an explanation of why you decided to write these new queries in about 3-5 sentences, then write valid sqlite SQL queries for each of the 2 new queries. Make sure each query is complete and ends with a ;\n",
      "\n"
     ]
    }
   ],
   "source": [
    "user = \"Write two queries that are similar but different to those above.\\n\"\n",
    "user += \"Format the queries as a JSON object, i.e.\\n\"\n",
    "user += '{ \"explanation\": str, \"sql_query_1\" : str, \"sql_query_2\": str }.\\n'\n",
    "user += \"First write an explanation of why you decided to write these new queries in about 3-5 sentences, then write valid sqlite SQL queries for each of the 2 new queries. Make sure each query is complete and ends with a ;\\n\"\n",
    "\n",
    "print(user)"
   ]
  },
  {
   "cell_type": "code",
   "execution_count": 19,
   "metadata": {},
   "outputs": [
    {
     "name": "stdout",
     "output_type": "stream",
     "text": [
      "{'explanation': 'I decided to write these new queries to provide more insights into the NBA roster data. The first query calculates the average height of players in the NBA, while the second query finds the most common college attended by NBA players. These queries are similar to the original query in that they involve extracting', 'sql_query_1': \"SELECT AVG(CAST(SUBSTR(HT, 1, INSTR(HT,'')-1) AS INTEGER) as average_height FROM nba_roster\", 'sql_query_2': 'SELECT college, COUNT(*) as count FROM nba_roster GROUP BY college ORDER BY count DESC LIMIT 1'}\n"
     ]
    }
   ],
   "source": [
    "prompt = make_llama_3_prompt(user, system)\n",
    "result = llm.generate(prompt, output_type={ \"explanation\": \"str\", \"sql_query_1\" : \"str\", \"sql_query_2\": \"str\" }, max_new_tokens=200)\n",
    "print(result)"
   ]
  },
  {
   "cell_type": "code",
   "execution_count": 20,
   "metadata": {},
   "outputs": [],
   "source": [
    "# Func check result of the model to query the database\n",
    "def check_sql_query(query):\n",
    "  try:\n",
    "    pd.read_sql(query, con=engine)\n",
    "  except sqlite3.Error as e:\n",
    "    logger.debug(f\"Error in SQL query: {e}\")\n",
    "    return False\n",
    "  \n",
    "  logger.info(f\"SQL query {query} is valid\")\n",
    "  return True"
   ]
  },
  {
   "cell_type": "code",
   "execution_count": 26,
   "metadata": {},
   "outputs": [
    {
     "name": "stdout",
     "output_type": "stream",
     "text": [
      "     college  count\n",
      "0  College C     23\n"
     ]
    }
   ],
   "source": [
    "# check_sql_query(result[\"sql_query_1\"])\n",
    "check_sql_query(result[\"sql_query_2\"])"
   ]
  },
  {
   "cell_type": "code",
   "execution_count": 27,
   "metadata": {},
   "outputs": [],
   "source": [
    "# Wrap it all up together in a class\n",
    "\n",
    "class ModelStage(GenerationNode):\n",
    "  def __init__(self):\n",
    "    super().__init__(\n",
    "      model_name=\"meta-llama/Meta-Llama-3-8B-Instruct\",\n",
    "      max_new_tokens=300,\n",
    "    )\n",
    "\n",
    "  def generate(\n",
    "    self,\n",
    "    prompt: Union[Iterator[PromptObject], AsyncIterator[PromptObject]],\n",
    "    *args,\n",
    "    **kwargs,\n",
    "  ):\n",
    "    prompt = self.add_template(prompt)\n",
    "\n",
    "    results = super().generate(\n",
    "      prompt,\n",
    "      output_type={\n",
    "        \"explanation\": \"str\",\n",
    "        \"sql_query_1\": \"str\",\n",
    "        \"sql_query_2\": \"str\",\n",
    "      },\n",
    "      *args,\n",
    "      **kwargs,\n",
    "    )\n",
    "\n",
    "    return results\n",
    "\n",
    "  async def add_template(self, prompts):\n",
    "    async for prompt in prompts:\n",
    "      new_prompt = make_llama_3_prompt(**self.make_prompt(prompt.data))\n",
    "      yield PromptObject(prompt=new_prompt, data=prompt.data)\n",
    "\n",
    "  async def process_results(self, results):\n",
    "    async for result in results:\n",
    "      if result is None:\n",
    "        continue\n",
    "\n",
    "      if result.response is None:\n",
    "        continue\n",
    "\n",
    "      logger.info(\"=====================================\")\n",
    "      logger.info(f\"Generated query 1: {result.response['sql_query_1']}\")\n",
    "      logger.info(f\"Generated query 2: {result.response['sql_query_2']}\")\n",
    "      logger.info(\"=====================================\")\n",
    "\n",
    "      if self.check_sql_query(result.response[\"sql_query_1\"]):\n",
    "        new_result = PromptObject(prompt=\"\", data=copy.deepcopy(result.data))\n",
    "        new_result.data.generated_sql_query = result.response[\"sql_query_1\"]\n",
    "        yield new_result\n",
    "\n",
    "      if self.check_sql_query(result.response[\"sql_query_2\"]):\n",
    "        new_result = PromptObject(prompt=\"\", data=copy.deepcopy(result.data))\n",
    "        new_result.data.generated_sql_query = result.response[\"sql_query_2\"]\n",
    "        yield new_result\n",
    "\n",
    "  def make_prompt(self, data):\n",
    "    system = \"You are an NBA analyst with 15 years of experience writing complex SQL queries.\\n\"\n",
    "    system += ( \"Consider a table called 'nba_roster' with the following schema (columns)\\n\" )\n",
    "    system += get_schema()\n",
    "    system += \"Consider the following questions, and queries used to answer them:\\n\"\n",
    "    for example in data.sample:\n",
    "      system += \"Question: \" + example[\"question\"] + \"\\n\"\n",
    "      system += \"Query: \" + example[\"sql\"] + \"\\n\"\n",
    "\n",
    "    # Important: generate relevant queries to your reference data\n",
    "    # Ideally, close to those that are failing so you can show the model examples of how to do it right!\n",
    "    user = \"Write two queries that are similar but different to those above.\\n\"\n",
    "    user += \"Format the queries as a JSON object, i.e.\\n\"\n",
    "    user += '{ \"explanation\": str, \"sql_query_1\" : str, \"sql_query_2\": str }.\\n'\n",
    "\n",
    "    # Next, use Chain of Thought (CoT) and prompt-engineering to help with generating SQL queries\n",
    "    user += \"First write an explanation of why you decided to write these new queries in about 3-5 sentences, then write valid sqlite SQL queries for each of the 2 new queries. Make sure each query is complete and ends with a ;\\n\"\n",
    "\n",
    "    return {\"system\": system, \"user\": user}\n",
    "\n",
    "  def check_sql_query(self, query):\n",
    "    try:\n",
    "      pd.read_sql(query, con=engine)\n",
    "    except Exception as e:\n",
    "      logger.debug(f\"Error in SQL query: {e}\")\n",
    "      return False\n",
    "\n",
    "    logger.info(f\"SQL query {query} is valid\")\n",
    "    return True"
   ]
  },
  {
   "cell_type": "code",
   "execution_count": 28,
   "metadata": {},
   "outputs": [],
   "source": [
    "system = \"You are an NBA analyst with 15 years of experience writing complex SQL queries.\\n\"\n",
    "system += (\"Consider a table called 'nba_roster' with the following schema (columns)\\n\")\n",
    "system += get_schema() + \"\\n\"\n",
    "system += \"Queries, and questions that they are used to answer:\\n\"\n",
    "\n",
    "example_question = \"\"\"What is the median weight in the NBA?\"\"\"\n",
    "example_sql = \"select CAST(SUBSTR(WT, 1, INSTR(WT,' ')) as INTEGER) as percentile from nba_roster order by percentile limit 1 offset (select count(*) from nba_roster)/2;\"\n",
    "\n",
    "system += \"Question: \" + example_question + \"\\n\"\n",
    "system += \"Query: \" + example_sql + \"\\n\""
   ]
  },
  {
   "cell_type": "code",
   "execution_count": 29,
   "metadata": {},
   "outputs": [],
   "source": [
    "generated_sql = result[\"sql_query_2\"]"
   ]
  },
  {
   "cell_type": "code",
   "execution_count": 30,
   "metadata": {},
   "outputs": [],
   "source": [
    "user = \"Now consider the following query.\\n\"\n",
    "user += \"Query: \" + generated_sql + \"\\n\"\n",
    "user += \"Write a question that this query could be used to answer.\\n\"\n",
    "user += \"Format your response as a JSON object, i.e.\\n\"\n",
    "user += '{ \"explanation\": str, \"question\": str }.\\n'\n",
    "\n",
    "user += \"First write an explanation in about 3-5 sentences, then write a one sentence question.\\n\"\n"
   ]
  },
  {
   "cell_type": "code",
   "execution_count": 31,
   "metadata": {},
   "outputs": [
    {
     "name": "stdout",
     "output_type": "stream",
     "text": [
      "{'explanation': 'This query groups the NBA players by their college and counts the number of players from each college. It then orders the results in descending order by the count and limits the output to the top 1 result. This allows us to identify the college that has produced the most NBA players. The query returns the name of the college and the number of players it has produced', 'question': 'What college has produced the most NBA players'}\n"
     ]
    }
   ],
   "source": [
    "prompt = make_llama_3_prompt(user, system)\n",
    "result = llm.generate(prompt, output_type={ \"explanation\": \"str\", \"question\" : \"str\" }, max_new_tokens=200)\n",
    "print(result)"
   ]
  },
  {
   "cell_type": "code",
   "execution_count": 32,
   "metadata": {},
   "outputs": [],
   "source": [
    "# Wrap it all up together in a class which generates a question\n",
    "# given a query\n",
    "class QuestionStage(GenerationNode):\n",
    "  def __init__(self):\n",
    "    super().__init__(\n",
    "      model_name=\"meta-llama/Meta-Llama-3-8B-Instruct\",\n",
    "      max_new_tokens=150,\n",
    "    )\n",
    "\n",
    "  def generate(\n",
    "    self,\n",
    "    prompt: Union[Iterator[PromptObject], AsyncIterator[PromptObject]],\n",
    "    *args,\n",
    "    **kwargs,\n",
    "  ):\n",
    "    results = super().generate(\n",
    "      prompt,\n",
    "      output_type={\n",
    "        \"explanation\": \"str\",\n",
    "        \"question\": \"str\",\n",
    "      },\n",
    "      *args,\n",
    "      **kwargs,\n",
    "    )\n",
    "    return results\n",
    "\n",
    "  def preprocess(self, obj: PromptObject):\n",
    "    new_prompt = make_llama_3_prompt(**self.make_question_prompt(obj.data))\n",
    "    obj.prompt = new_prompt\n",
    "\n",
    "  def make_question_prompt(self, data):\n",
    "    system = \"You are an NBA analyst with 15 years of experience writing complex SQL queries.\\n\"\n",
    "    system += (\"Consider a table called 'nba_roster' with the following schema (columns)\\n\")\n",
    "    system += get_schema() + \"\\n\"\n",
    "    system += \"Queries, and questions that they are used to answer:\\n\"\n",
    "    for example in data.sample:\n",
    "      system += \"Query: \" + example[\"sql\"] + \"\\n\"\n",
    "      system += \"Question: \" + example[\"question\"] + \"\\n\"\n",
    "\n",
    "    user = \"Now consider the following query.\\n\"\n",
    "    user += \"Query: \" + data.generated_sql_query + \"\\n\"\n",
    "    user += \"Write a question that this query could be used to answer.\\n\"\n",
    "    # Using Chain of Thought (CoT) again\n",
    "    # This time you can do it programmatically with function calling, so you can easily extract a question out of the JSON object\n",
    "    user += \"Format your response as a JSON object, i.e.\\n\"\n",
    "    user += '{ \"explanation\": str, \"question\": str }.\\n'\n",
    "    user += \"First write an explanation in about 3-5 sentences, then write a one sentence question.\\n\"\n",
    "\n",
    "    return {\"system\": system, \"user\": user}"
   ]
  },
  {
   "cell_type": "code",
   "execution_count": 63,
   "metadata": {},
   "outputs": [],
   "source": [
    "class QueryGenPipeline(GenerationPipeline):\n",
    "  def __init__(self):\n",
    "    super().__init__()\n",
    "    self.model_stage = ModelStage()\n",
    "    self.question_stage = QuestionStage()\n",
    "\n",
    "  def forward(self, x):\n",
    "    x = self.model_stage(x)\n",
    "    x = self.question_stage(x)\n",
    "    return x\n",
    "\n",
    "# Run query generation\n",
    "async def run_query_gen_pipeline(gold_queries):\n",
    "  return QueryGenPipeline().call(gold_queries)"
   ]
  },
  {
   "cell_type": "code",
   "execution_count": 60,
   "metadata": {},
   "outputs": [],
   "source": [
    "# Generate N samples, for every example in the gold dataset\n",
    "all_examples = []\n",
    "\n",
    "async def load_gold_queries(args):\n",
    "  path = f\"data/{args.gold_file_name}\"\n",
    "\n",
    "  with jsonlines.open(path) as reader:\n",
    "    global all_examples\n",
    "    all_examples = [obj for obj in reader]\n",
    "\n",
    "  sample_count = args.num_to_generate\n",
    "  sample_size = 3\n",
    "\n",
    "  random.seed(42)\n",
    "\n",
    "  for i in range(sample_count):\n",
    "    example_sample = ExampleSample(random.sample(all_examples, sample_size), i)\n",
    "    yield PromptObject(prompt=\"\", data=example_sample)\n",
    "\n",
    "class ExampleSample:\n",
    "  def __init__(self, sample, index):\n",
    "    self.sample = sample\n",
    "    self.index = index"
   ]
  },
  {
   "cell_type": "code",
   "execution_count": null,
   "metadata": {},
   "outputs": [],
   "source": [
    "async def save_generation_results(results, args):\n",
    "  path = f\"data/training_data/{args.training_file_name}\"\n",
    "\n",
    "  pbar = tqdm(desc=\"Saving results\", unit=\" results\")\n",
    "  with jsonlines.open(path, \"w\") as writer:\n",
    "    async for result in results:\n",
    "      writer.write({\n",
    "        \"question\": result.response[\"question\"],\n",
    "        \"sql\": result.data.generated_sql_query,\n",
    "      })\n",
    "      pbar.update()\n",
    "\n",
    "    for example in all_examples:\n",
    "      writer.write(example)\n",
    "      pbar.update()"
   ]
  },
  {
   "cell_type": "code",
   "execution_count": 65,
   "metadata": {},
   "outputs": [
    {
     "name": "stdout",
     "output_type": "stream",
     "text": [
      "<async_generator object GenerationPipeline.call at 0x0000018096FBB2E0>\n",
      "<__main__.Args object at 0x0000018096BC9310>\n"
     ]
    },
    {
     "name": "stderr",
     "output_type": "stream",
     "text": [
      "\n",
      "\u001b[A\n",
      "\u001b[A\n",
      "Saving results: 25 results [10:22, 24.91s/ results]\n"
     ]
    }
   ],
   "source": [
    "args = Args()\n",
    "gold_queries = load_gold_queries(args)\n",
    "results = await run_query_gen_pipeline(gold_queries)\n",
    "await save_generation_results(results, args)"
   ]
  },
  {
   "cell_type": "code",
   "execution_count": 66,
   "metadata": {},
   "outputs": [],
   "source": [
    "# Round of finetuning\n",
    "\n",
    "# make_question will take the questions and queries from the training_file and embed them in the prompt below to form the training data.\n",
    "def make_question(obj):\n",
    "    system = \"You are an NBA analyst with 15 years of experience writing complex SQL queries.\\n\"\n",
    "    system += \"Consider the nba_roster table with the following schema:\\n\"\n",
    "    system += get_schema() + \"\\n\"\n",
    "    system += (\"Write a sqlite SQL query that would help you answer the following question:\\n\")\n",
    "    user = obj[\"question\"]\n",
    "    return {\"system\": system, \"user\": user}"
   ]
  },
  {
   "cell_type": "code",
   "execution_count": 88,
   "metadata": {},
   "outputs": [],
   "source": [
    "# Get dataset data/gold-test-set.jsonl\n",
    "dataset = get_dataset(args, make_question)\n",
    "# Config argements\n",
    "finetune_args = get_default_finetune_args()"
   ]
  },
  {
   "cell_type": "code",
   "execution_count": 89,
   "metadata": {},
   "outputs": [
    {
     "ename": "APIError",
     "evalue": "API error {'code': 501, 'error_id': '201008001164807608386151451202584318789', 'msg': 'Tuning is only supported for base models.'}",
     "output_type": "error",
     "traceback": [
      "\u001b[1;31m---------------------------------------------------------------------------\u001b[0m",
      "\u001b[1;31mHTTPError\u001b[0m                                 Traceback (most recent call last)",
      "File \u001b[1;32mf:\\test\\chatbot\\env\\Lib\\site-packages\\lamini\\api\\rest_requests.py:155\u001b[0m, in \u001b[0;36mmake_web_request\u001b[1;34m(key, url, http_method, json)\u001b[0m\n\u001b[0;32m    154\u001b[0m     check_version(resp)\n\u001b[1;32m--> 155\u001b[0m     \u001b[43mresp\u001b[49m\u001b[38;5;241;43m.\u001b[39;49m\u001b[43mraise_for_status\u001b[49m\u001b[43m(\u001b[49m\u001b[43m)\u001b[49m\n\u001b[0;32m    156\u001b[0m \u001b[38;5;28;01mexcept\u001b[39;00m requests\u001b[38;5;241m.\u001b[39mexceptions\u001b[38;5;241m.\u001b[39mHTTPError \u001b[38;5;28;01mas\u001b[39;00m e:\n",
      "File \u001b[1;32mf:\\test\\chatbot\\env\\Lib\\site-packages\\requests\\models.py:1024\u001b[0m, in \u001b[0;36mResponse.raise_for_status\u001b[1;34m(self)\u001b[0m\n\u001b[0;32m   1023\u001b[0m \u001b[38;5;28;01mif\u001b[39;00m http_error_msg:\n\u001b[1;32m-> 1024\u001b[0m     \u001b[38;5;28;01mraise\u001b[39;00m HTTPError(http_error_msg, response\u001b[38;5;241m=\u001b[39m\u001b[38;5;28mself\u001b[39m)\n",
      "\u001b[1;31mHTTPError\u001b[0m: 501 Server Error: Not Implemented for url: https://api.lamini.ai/v1/train",
      "\nDuring handling of the above exception, another exception occurred:\n",
      "\u001b[1;31mAPIError\u001b[0m                                  Traceback (most recent call last)",
      "Cell \u001b[1;32mIn[89], line 2\u001b[0m\n\u001b[0;32m      1\u001b[0m \u001b[38;5;66;03m# Fine-tuning model\u001b[39;00m\n\u001b[1;32m----> 2\u001b[0m \u001b[43mllm\u001b[49m\u001b[38;5;241;43m.\u001b[39;49m\u001b[43mtrain\u001b[49m\u001b[43m(\u001b[49m\n\u001b[0;32m      3\u001b[0m \u001b[43m  \u001b[49m\u001b[43mdata_or_dataset_id\u001b[49m\u001b[38;5;241;43m=\u001b[39;49m\u001b[43mdataset\u001b[49m\u001b[43m,\u001b[49m\n\u001b[0;32m      4\u001b[0m \u001b[43m  \u001b[49m\u001b[43mfinetune_args\u001b[49m\u001b[38;5;241;43m=\u001b[39;49m\u001b[43mfinetune_args\u001b[49m\u001b[43m,\u001b[49m\n\u001b[0;32m      5\u001b[0m \u001b[43m  \u001b[49m\u001b[43mis_public\u001b[49m\u001b[38;5;241;43m=\u001b[39;49m\u001b[38;5;28;43;01mTrue\u001b[39;49;00m\u001b[43m,\u001b[49m\u001b[43m \u001b[49m\u001b[38;5;66;43;03m# For sharing\u001b[39;49;00m\n\u001b[0;32m      6\u001b[0m \u001b[43m)\u001b[49m\n",
      "File \u001b[1;32mf:\\test\\chatbot\\env\\Lib\\site-packages\\lamini\\api\\lamini.py:209\u001b[0m, in \u001b[0;36mLamini.train\u001b[1;34m(self, data_or_dataset_id, finetune_args, gpu_config, is_public, **kwargs)\u001b[0m\n\u001b[0;32m    204\u001b[0m existing_dataset \u001b[38;5;241m=\u001b[39m \u001b[38;5;28mself\u001b[39m\u001b[38;5;241m.\u001b[39mtrainer\u001b[38;5;241m.\u001b[39mget_existing_dataset(\n\u001b[0;32m    205\u001b[0m     dataset_id, \u001b[38;5;28mself\u001b[39m\u001b[38;5;241m.\u001b[39mupload_base_path\n\u001b[0;32m    206\u001b[0m )\n\u001b[0;32m    207\u001b[0m \u001b[38;5;28mself\u001b[39m\u001b[38;5;241m.\u001b[39mupload_file_path \u001b[38;5;241m=\u001b[39m existing_dataset[\u001b[38;5;124m\"\u001b[39m\u001b[38;5;124mdataset_location\u001b[39m\u001b[38;5;124m\"\u001b[39m]\n\u001b[1;32m--> 209\u001b[0m job \u001b[38;5;241m=\u001b[39m \u001b[38;5;28;43mself\u001b[39;49m\u001b[38;5;241;43m.\u001b[39;49m\u001b[43mtrainer\u001b[49m\u001b[38;5;241;43m.\u001b[39;49m\u001b[43mtrain\u001b[49m\u001b[43m(\u001b[49m\n\u001b[0;32m    210\u001b[0m \u001b[43m    \u001b[49m\u001b[43mmodel_name\u001b[49m\u001b[38;5;241;43m=\u001b[39;49m\u001b[38;5;28;43mself\u001b[39;49m\u001b[38;5;241;43m.\u001b[39;49m\u001b[43mmodel_name\u001b[49m\u001b[43m,\u001b[49m\n\u001b[0;32m    211\u001b[0m \u001b[43m    \u001b[49m\u001b[43mdataset_id\u001b[49m\u001b[38;5;241;43m=\u001b[39;49m\u001b[43mdataset_id\u001b[49m\u001b[43m,\u001b[49m\n\u001b[0;32m    212\u001b[0m \u001b[43m    \u001b[49m\u001b[43mupload_file_path\u001b[49m\u001b[38;5;241;43m=\u001b[39;49m\u001b[38;5;28;43mself\u001b[39;49m\u001b[38;5;241;43m.\u001b[39;49m\u001b[43mupload_file_path\u001b[49m\u001b[43m,\u001b[49m\n\u001b[0;32m    213\u001b[0m \u001b[43m    \u001b[49m\u001b[43mfinetune_args\u001b[49m\u001b[38;5;241;43m=\u001b[39;49m\u001b[43mfinetune_args\u001b[49m\u001b[43m,\u001b[49m\n\u001b[0;32m    214\u001b[0m \u001b[43m    \u001b[49m\u001b[43mgpu_config\u001b[49m\u001b[38;5;241;43m=\u001b[39;49m\u001b[43mgpu_config\u001b[49m\u001b[43m,\u001b[49m\n\u001b[0;32m    215\u001b[0m \u001b[43m    \u001b[49m\u001b[43mis_public\u001b[49m\u001b[38;5;241;43m=\u001b[39;49m\u001b[43mis_public\u001b[49m\u001b[43m,\u001b[49m\n\u001b[0;32m    216\u001b[0m \u001b[43m\u001b[49m\u001b[43m)\u001b[49m\n\u001b[0;32m    217\u001b[0m job[\u001b[38;5;124m\"\u001b[39m\u001b[38;5;124mdataset_id\u001b[39m\u001b[38;5;124m\"\u001b[39m] \u001b[38;5;241m=\u001b[39m dataset_id\n\u001b[0;32m    218\u001b[0m \u001b[38;5;28;01mreturn\u001b[39;00m job\n",
      "File \u001b[1;32mf:\\test\\chatbot\\env\\Lib\\site-packages\\lamini\\api\\train.py:44\u001b[0m, in \u001b[0;36mTrain.train\u001b[1;34m(self, model_name, dataset_id, upload_file_path, finetune_args, gpu_config, is_public)\u001b[0m\n\u001b[0;32m     41\u001b[0m     req_data[\u001b[38;5;124m\"\u001b[39m\u001b[38;5;124mis_public\u001b[39m\u001b[38;5;124m\"\u001b[39m] \u001b[38;5;241m=\u001b[39m is_public\n\u001b[0;32m     42\u001b[0m url \u001b[38;5;241m=\u001b[39m \u001b[38;5;28mself\u001b[39m\u001b[38;5;241m.\u001b[39mapi_prefix \u001b[38;5;241m+\u001b[39m \u001b[38;5;124m\"\u001b[39m\u001b[38;5;124mtrain\u001b[39m\u001b[38;5;124m\"\u001b[39m\n\u001b[1;32m---> 44\u001b[0m job \u001b[38;5;241m=\u001b[39m \u001b[43mmake_web_request\u001b[49m\u001b[43m(\u001b[49m\u001b[38;5;28;43mself\u001b[39;49m\u001b[38;5;241;43m.\u001b[39;49m\u001b[43mapi_key\u001b[49m\u001b[43m,\u001b[49m\u001b[43m \u001b[49m\u001b[43murl\u001b[49m\u001b[43m,\u001b[49m\u001b[43m \u001b[49m\u001b[38;5;124;43m\"\u001b[39;49m\u001b[38;5;124;43mpost\u001b[39;49m\u001b[38;5;124;43m\"\u001b[39;49m\u001b[43m,\u001b[49m\u001b[43m \u001b[49m\u001b[43mreq_data\u001b[49m\u001b[43m)\u001b[49m\n\u001b[0;32m     45\u001b[0m \u001b[38;5;28mself\u001b[39m\u001b[38;5;241m.\u001b[39mjob_id \u001b[38;5;241m=\u001b[39m job[\u001b[38;5;124m\"\u001b[39m\u001b[38;5;124mjob_id\u001b[39m\u001b[38;5;124m\"\u001b[39m]\n\u001b[0;32m     46\u001b[0m \u001b[38;5;28mprint\u001b[39m(\n\u001b[0;32m     47\u001b[0m     \u001b[38;5;124mf\u001b[39m\u001b[38;5;124m\"\u001b[39m\u001b[38;5;124mTuning job submitted! Check status of job \u001b[39m\u001b[38;5;132;01m{\u001b[39;00m\u001b[38;5;28mself\u001b[39m\u001b[38;5;241m.\u001b[39mjob_id\u001b[38;5;132;01m}\u001b[39;00m\u001b[38;5;124m here: \u001b[39m\u001b[38;5;132;01m{\u001b[39;00m\u001b[38;5;28mself\u001b[39m\u001b[38;5;241m.\u001b[39mapi_url\u001b[38;5;132;01m}\u001b[39;00m\u001b[38;5;124m/train/\u001b[39m\u001b[38;5;132;01m{\u001b[39;00m\u001b[38;5;28mself\u001b[39m\u001b[38;5;241m.\u001b[39mjob_id\u001b[38;5;132;01m}\u001b[39;00m\u001b[38;5;124m\"\u001b[39m\n\u001b[0;32m     48\u001b[0m )\n",
      "File \u001b[1;32mf:\\test\\chatbot\\env\\Lib\\site-packages\\lamini\\api\\rest_requests.py:224\u001b[0m, in \u001b[0;36mmake_web_request\u001b[1;34m(key, url, http_method, json)\u001b[0m\n\u001b[0;32m    222\u001b[0m             \u001b[38;5;28;01mif\u001b[39;00m description \u001b[38;5;241m==\u001b[39m {\u001b[38;5;124m\"\u001b[39m\u001b[38;5;124mdetail\u001b[39m\u001b[38;5;124m\"\u001b[39m: \u001b[38;5;124m\"\u001b[39m\u001b[38;5;124m\"\u001b[39m}:\n\u001b[0;32m    223\u001b[0m                 \u001b[38;5;28;01mraise\u001b[39;00m APIError(\u001b[38;5;124m\"\u001b[39m\u001b[38;5;124m500 Internal Server Error\u001b[39m\u001b[38;5;124m\"\u001b[39m)\n\u001b[1;32m--> 224\u001b[0m             \u001b[38;5;28;01mraise\u001b[39;00m APIError(\u001b[38;5;124mf\u001b[39m\u001b[38;5;124m\"\u001b[39m\u001b[38;5;124mAPI error \u001b[39m\u001b[38;5;132;01m{\u001b[39;00mdescription\u001b[38;5;132;01m}\u001b[39;00m\u001b[38;5;124m\"\u001b[39m)\n\u001b[0;32m    226\u001b[0m \u001b[38;5;28;01mreturn\u001b[39;00m resp\u001b[38;5;241m.\u001b[39mjson()\n",
      "\u001b[1;31mAPIError\u001b[0m: API error {'code': 501, 'error_id': '201008001164807608386151451202584318789', 'msg': 'Tuning is only supported for base models.'}"
     ]
    }
   ],
   "source": [
    "# Fine-tuning model\n",
    "llm.train(\n",
    "  data_or_dataset_id=dataset,\n",
    "  finetune_args=finetune_args,\n",
    "  is_public=True, # For sharing\n",
    ")"
   ]
  },
  {
   "cell_type": "code",
   "execution_count": 90,
   "metadata": {},
   "outputs": [],
   "source": [
    "llm = lamini.Lamini(model_name=\"6820e678b0aecda564af83155542f568d76dff623c18d32390df6a609c00b5c6\")"
   ]
  },
  {
   "cell_type": "code",
   "execution_count": 86,
   "metadata": {},
   "outputs": [
    {
     "name": "stdout",
     "output_type": "stream",
     "text": [
      "Question:\n",
      " Who is the highest paid NBA player?\n",
      "Answer:\n",
      "SELECT name FROM nba_roster WHERE salary = '$40,000,000'\n"
     ]
    }
   ],
   "source": [
    "question = \"\"\"Who is the highest paid NBA player?\"\"\"\n",
    "system = f\"\"\"You are an NBA analyst with 15 years of experience writing complex SQL queries. Consider the nba_roster table with the following schema:\n",
    "{get_schema()}\n",
    "\n",
    "Write a sqlite query to answer the following question. Follow instructions exactly\"\"\"\n",
    "prompt = make_llama_3_prompt(question, system)\n",
    "print(\"Question:\\n\", question)\n",
    "\n",
    "print(\"Answer:\")\n",
    "print(llm.generate(prompt, max_new_tokens=200))"
   ]
  },
  {
   "cell_type": "code",
   "execution_count": 75,
   "metadata": {},
   "outputs": [
    {
     "data": {
      "text/html": [
       "<div>\n",
       "<style scoped>\n",
       "    .dataframe tbody tr th:only-of-type {\n",
       "        vertical-align: middle;\n",
       "    }\n",
       "\n",
       "    .dataframe tbody tr th {\n",
       "        vertical-align: top;\n",
       "    }\n",
       "\n",
       "    .dataframe thead th {\n",
       "        text-align: right;\n",
       "    }\n",
       "</style>\n",
       "<table border=\"1\" class=\"dataframe\">\n",
       "  <thead>\n",
       "    <tr style=\"text-align: right;\">\n",
       "      <th></th>\n",
       "      <th>salary</th>\n",
       "      <th>name</th>\n",
       "    </tr>\n",
       "  </thead>\n",
       "  <tbody>\n",
       "    <tr>\n",
       "      <th>0</th>\n",
       "      <td>$49,649,218</td>\n",
       "      <td>Player 50</td>\n",
       "    </tr>\n",
       "  </tbody>\n",
       "</table>\n",
       "</div>"
      ],
      "text/plain": [
       "        salary       name\n",
       "0  $49,649,218  Player 50"
      ]
     },
     "execution_count": 75,
     "metadata": {},
     "output_type": "execute_result"
    }
   ],
   "source": [
    "query=\"SELECT salary, name FROM nba_roster WHERE salary != '--' ORDER BY CAST(REPLACE(REPLACE(salary, '$', ''), ',','') AS INTEGER) DESC LIMIT 1;\"\n",
    "df = pd.read_sql(query, con=engine)\n",
    "df"
   ]
  },
  {
   "cell_type": "code",
   "execution_count": 82,
   "metadata": {},
   "outputs": [
    {
     "name": "stderr",
     "output_type": "stream",
     "text": [
      "\n",
      "\u001b[ARunning SQL query 'SELECT AVG(CAST(REPLACE(SUBSTR(T2.salary, 3), ',', '') AS REAL)) FROM nba_roster AS T1 INNER JOIN nba_roster AS T2 ON T1.name = T2.name WHERE T1.pos = 'PF''\n",
      "Got data:    AVG(CAST(REPLACE(SUBSTR(T2.salary, 3), ',', '') AS REAL))\n",
      "0                                       3.521170e+06        \n",
      "Running SQL query 'SELECT team, AVG(age) FROM nba_roster GROUP BY team ORDER BY AVG(age) DESC LIMIT 5'\n",
      "Got data:                     team   AVG(age)\n",
      "0  Golden State Warriors  31.937500\n",
      "1        Milwaukee Bucks  30.833333\n",
      "2     Los Angeles Lakers  30.181818\n",
      "3       Dallas Mavericks  29.750000\n",
      "4          Brooklyn Nets  29.750000\n",
      "Running SQL query 'SELECT AVG(age) FROM nba_roster WHERE team = 'Miami Heat';'\n",
      "Got data:   AVG(age)\n",
      "0     None\n",
      "Running SQL query 'SELECT AVG(age) FROM nba_roster'\n",
      "Got data:    AVG(age)\n",
      "0     30.39\n",
      "Running SQL query 'SELECT AVG(age) FROM nba_roster WHERE team = 'Portland Trail Blazers';'\n",
      "Got data:   AVG(age)\n",
      "0     None\n",
      "Running SQL query 'SELECT salary FROM nba_roster WHERE name = 'Marcus Smart'\n",
      "Failed to run SQL query: SELECT salary FROM nba_roster WHERE name = 'Marcus Smart\n",
      "Running SQL query 'SELECT name FROM nba_roster WHERE team = 'Dallas Mavericks' AND pos = 'C' ORDER BY salary DESC LIMIT 1'\n",
      "Got data:        name\n",
      "0  Player 5\n",
      "Running SQL query 'SELECT name FROM nba_roster WHERE team = 'Cleveland Cavaliers' AND salary!= '--' ORDER BY CAST(REPLACE(salary, '$', '') AS REAL) DESC LIMIT 1'\n",
      "Got data: Empty DataFrame\n",
      "Columns: [name]\n",
      "Index: []\n",
      "Running SQL query 'SELECT name FROM nba_roster WHERE team = 'Memphis Grizzlies' ORDER BY CAST(REPLACE(salary, '$', '') AS REAL) DESC LIMIT 1'\n",
      "Got data: Empty DataFrame\n",
      "Columns: [name]\n",
      "Index: []\n",
      "Running SQL query 'SELECT name FROM nba_roster WHERE team = 'Brooklyn Nets' ORDER BY age DESC LIMIT 1'\n",
      "Got data:         name\n",
      "0  Player 73\n",
      "Running SQL query 'SELECT age FROM nba_roster WHERE name = 'Jalen Johnson'\n",
      "Failed to run SQL query: SELECT age FROM nba_roster WHERE name = 'Jalen Johnson\n",
      "Running SQL query 'WITH ranked_players AS (  SELECT pos, salary, ROW_NUMBER() OVER (PARTITION BY pos ORDER BY CAST(REPLACE(salary, '$', '') AS REAL) DESC) as salary_rank  FROM nba_roster  )  SELECT pos, salary  FROM ranked_players  WHERE salary_rank = 1'\n",
      "Got data:   pos       salary\n",
      "0   C  $46,566,175\n",
      "1  PF  $49,649,218\n",
      "2  PG  $47,604,275\n",
      "3  SF  $48,015,296\n",
      "4  SG  $48,095,683\n",
      "Running SQL query 'SELECT COUNT(*) FROM nba_roster'\n",
      "Got data:    COUNT(*)\n",
      "0       100\n",
      "Running SQL query 'SELECT AVG(CAST(REPLACE(SUBSTR(ht, 3),'\n",
      "Failed to run SQL query: SELECT AVG(CAST(REPLACE(SUBSTR(ht, 3),\n",
      "Running SQL query 'SELECT AVG(CAST(REPLACE(SUBSTR(ht, 3),'\n",
      "Failed to run SQL query: SELECT AVG(CAST(REPLACE(SUBSTR(ht, 3),\n",
      "Running SQL query 'SELECT AVG(CAST(REPLACE(SUBSTR(wt, 1, LENGTH(wt) - 3),'lbs', '') AS REAL)) FROM nba_roster'\n",
      "Got data:    AVG(CAST(REPLACE(SUBSTR(wt, 1, LENGTH(wt) - 3),'lbs', '') AS REAL))\n",
      "0                                                0.0                  \n",
      "Running SQL query 'SELECT AVG(CAST(REPLACE(SUBSTR(wt, 1, LENGTH(wt) - 3),'lbs', '') AS REAL)) FROM nba_roster'\n",
      "Got data:    AVG(CAST(REPLACE(SUBSTR(wt, 1, LENGTH(wt) - 3),'lbs', '') AS REAL))\n",
      "0                                                0.0                  \n",
      "Running SQL query 'SELECT PERCENTILE_25(salary) FROM nba_roster'\n",
      "Failed to run SQL query: SELECT PERCENTILE_25(salary) FROM nba_roster\n",
      "Running SQL query 'SELECT PERCENTILE(90) FROM ( SELECT CAST(REPLACE(SUBSTR(salary, 3), ',', '') AS REAL) FROM nba_roster WHERE salary!= '--' )'\n",
      "Failed to run SQL query: SELECT PERCENTILE(90) FROM ( SELECT CAST(REPLACE(SUBSTR(salary, 3), ',', '') AS REAL) FROM nba_roster WHERE salary!= '--' )\n",
      "Running SQL query 'SELECT CAST((PERCENTILE_99(nba_roster.salary) * 1000000) AS REAL) FROM nba_roster'\n",
      "Failed to run SQL query: SELECT CAST((PERCENTILE_99(nba_roster.salary) * 1000000) AS REAL) FROM nba_roster\n",
      "\n",
      "\u001b[A\n",
      "\u001b[A"
     ]
    },
    {
     "name": "stdout",
     "output_type": "stream",
     "text": [
      "Total results: 20\n",
      "Total size of eval dataset: 20\n",
      "Percent Valid SQL Syntax: 65.0\n",
      "Percent Correct SQL Query: 30.0\n"
     ]
    }
   ],
   "source": [
    "# Run the evaluation and you can see there is more valid SQL and correct queries\n",
    "args = Args(sql_model_name=\"6820e678b0aecda564af83155542f568d76dff623c18d32390df6a609c00b5c6\")\n",
    "dataset = load_gold_dataset(args)\n",
    "results = await run_eval(dataset, args)\n",
    "save_eval_results(results, args)"
   ]
  }
 ],
 "metadata": {
  "kernelspec": {
   "display_name": "env",
   "language": "python",
   "name": "python3"
  },
  "language_info": {
   "codemirror_mode": {
    "name": "ipython",
    "version": 3
   },
   "file_extension": ".py",
   "mimetype": "text/x-python",
   "name": "python",
   "nbconvert_exporter": "python",
   "pygments_lexer": "ipython3",
   "version": "3.12.4"
  }
 },
 "nbformat": 4,
 "nbformat_minor": 2
}
