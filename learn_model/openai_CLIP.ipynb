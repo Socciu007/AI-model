{
 "cells": [
  {
   "cell_type": "code",
   "execution_count": 45,
   "metadata": {},
   "outputs": [],
   "source": [
    "from datasets import load_dataset\n",
    "from PIL import Image\n",
    "import torch\n",
    "from transformers import CLIPProcessor, CLIPModel, BertTokenizer, BertModel, BertForSequenceClassification"
   ]
  },
  {
   "cell_type": "markdown",
   "metadata": {},
   "source": [
    "Use CLIP model of OpenAI"
   ]
  },
  {
   "cell_type": "code",
   "execution_count": 48,
   "metadata": {},
   "outputs": [
    {
     "name": "stderr",
     "output_type": "stream",
     "text": [
      "Repo card metadata block was not found. Setting CardData to empty.\n",
      "Generating train split: 99 examples [00:01, 64.42 examples/s] \n"
     ]
    },
    {
     "name": "stdout",
     "output_type": "stream",
     "text": [
      "DatasetDict({\n",
      "    train: Dataset({\n",
      "        features: ['id', 'image', 'mask', 'bboxes'],\n",
      "        num_rows: 99\n",
      "    })\n",
      "})\n",
      "Mẫu 1:\n",
      "  ID: 1\n",
      "  Bounding Boxes: [{'type': 'box', 'label': 'fish', 'points': [(115.06, 284.8), (249.0, 394.0)]}, {'type': 'box', 'label': 'fish', 'points': [(581.88, 289.74), (683.72, 393.12)]}, {'type': 'box', 'label': 'fish', 'points': [(583.38, 478.65), (769.57, 599.53)]}, {'type': 'box', 'label': 'fish', 'points': [(1014.1, 500.26), (1106.98, 625.76)]}, {'type': 'box', 'label': 'fish', 'points': [(203.38, 610.53), (314.48, 778.21)]}, {'type': 'box', 'label': 'fish', 'points': [(375.68, 766.89), (510.44, 836.84)]}, {'type': 'box', 'label': 'fish', 'points': [(1130.1, 184.81), (1257.22, 270.53)]}, {'type': 'box', 'label': 'fish', 'points': [(1303.47, 332.17), (1362.19, 390.46)]}, {'type': 'box', 'label': 'fish', 'points': [(860.56, 406.65), (965.02, 536.78)]}]\n",
      "  Kích thước ảnh: (1752, 986)\n",
      "  Kích thước mask: (1752, 986)\n",
      "\n",
      "Mẫu 2:\n",
      "  ID: 2\n",
      "  Bounding Boxes: [{'type': 'box', 'label': 'fish', 'points': [(43.47, 273.07), (172.5, 381.1)]}, {'type': 'box', 'label': 'fish', 'points': [(530.96, 291.79), (632.8, 395.18)]}, {'type': 'box', 'label': 'fish', 'points': [(664.11, 486.06), (802.2, 604.0)]}, {'type': 'box', 'label': 'fish', 'points': [(1041.14, 543.98), (1151.2, 643.8)]}, {'type': 'box', 'label': 'fish', 'points': [(211.52, 644.6), (376.7, 786.4)]}, {'type': 'box', 'label': 'fish', 'points': [(331.98, 787.6), (463.8, 864.25)]}, {'type': 'box', 'label': 'fish', 'points': [(1143.8, 140.37), (1302.89, 238.4)]}, {'type': 'box', 'label': 'fish', 'points': [(1692.66, 372.44), (1752.0, 473.05)]}, {'type': 'box', 'label': 'fish', 'points': [(1301.32, 309.45), (1356.1, 367.74)]}, {'type': 'box', 'label': 'fish', 'points': [(881.64, 375.79), (946.0, 494.1)]}]\n",
      "  Kích thước ảnh: (1752, 986)\n",
      "  Kích thước mask: (1752, 986)\n",
      "\n",
      "Mẫu 3:\n",
      "  ID: 3\n",
      "  Bounding Boxes: [{'type': 'box', 'label': 'fish', 'points': [(0.0, 273.07), (102.14, 381.1)]}, {'type': 'box', 'label': 'fish', 'points': [(487.76, 295.39), (600.4, 405.5)]}, {'type': 'box', 'label': 'fish', 'points': [(709.37, 499.43), (850.0, 621.0)]}, {'type': 'box', 'label': 'fish', 'points': [(1079.2, 546.03), (1221.2, 643.3)]}, {'type': 'box', 'label': 'fish', 'points': [(269.54, 640.9), (448.9, 766.0)]}, {'type': 'box', 'label': 'fish', 'points': [(293.8, 799.6), (442.8, 871.5)]}, {'type': 'box', 'label': 'fish', 'points': [(1178.4, 118.15), (1365.23, 219.9)]}, {'type': 'box', 'label': 'fish', 'points': [(1633.94, 339.0), (1752.0, 450.8)]}, {'type': 'box', 'label': 'fish', 'points': [(310.47, 427.5), (444.53, 503.04)]}, {'type': 'box', 'label': 'fish', 'points': [(1291.4, 304.99), (1341.2, 362.5)]}, {'type': 'box', 'label': 'fish', 'points': [(894.5, 352.64), (949.6, 455.0)]}]\n",
      "  Kích thước ảnh: (1752, 986)\n",
      "  Kích thước mask: (1752, 986)\n",
      "\n",
      "Mẫu 4:\n",
      "  ID: 4\n",
      "  Bounding Boxes: [{'type': 'box', 'label': 'fish', 'points': [(0.0, 297.25), (39.39, 365.7)]}, {'type': 'box', 'label': 'fish', 'points': [(445.07, 296.94), (549.5, 402.9)]}, {'type': 'box', 'label': 'fish', 'points': [(734.23, 517.86), (915.6, 644.1)]}, {'type': 'box', 'label': 'fish', 'points': [(1138.9, 552.2), (1217.08, 640.21)]}, {'type': 'box', 'label': 'fish', 'points': [(291.8, 595.72), (518.52, 729.7)]}, {'type': 'box', 'label': 'fish', 'points': [(253.94, 812.46), (402.94, 884.36)]}, {'type': 'box', 'label': 'fish', 'points': [(1250.0, 99.63), (1422.63, 193.4)]}, {'type': 'box', 'label': 'fish', 'points': [(1617.65, 305.14), (1711.3, 424.2)]}, {'type': 'box', 'label': 'fish', 'points': [(304.9, 414.21), (438.96, 489.76)]}, {'type': 'box', 'label': 'fish', 'points': [(1249.22, 296.24), (1323.2, 363.5)]}, {'type': 'box', 'label': 'fish', 'points': [(906.3, 355.21), (965.03, 443.2)]}]\n",
      "  Kích thước ảnh: (1752, 986)\n",
      "  Kích thước mask: (1752, 986)\n",
      "\n",
      "Mẫu 5:\n",
      "  ID: 5\n",
      "  Bounding Boxes: [{'type': 'box', 'label': 'fish', 'points': [(400.92, 304.65), (489.1, 390.9)]}, {'type': 'box', 'label': 'fish', 'points': [(782.23, 536.72), (971.3, 669.0)]}, {'type': 'box', 'label': 'fish', 'points': [(1138.9, 552.2), (1208.5, 640.21)]}, {'type': 'box', 'label': 'fish', 'points': [(363.4, 558.07), (576.54, 698.8)]}, {'type': 'box', 'label': 'fish', 'points': [(211.08, 823.47), (360.7, 880.5)]}, {'type': 'box', 'label': 'fish', 'points': [(1295.1, 80.5), (1485.59, 178.0)]}, {'type': 'box', 'label': 'fish', 'points': [(1542.04, 274.28), (1691.8, 394.4)]}, {'type': 'box', 'label': 'fish', 'points': [(292.04, 408.04), (361.8, 463.0)]}, {'type': 'box', 'label': 'fish', 'points': [(1225.65, 289.81), (1299.63, 357.07)]}, {'type': 'box', 'label': 'fish', 'points': [(879.73, 389.5), (1036.6, 476.6)]}]\n",
      "  Kích thước ảnh: (1752, 986)\n",
      "  Kích thước mask: (1752, 986)\n",
      "\n",
      "Tổng số mẫu trong bộ dữ liệu: 99\n"
     ]
    }
   ],
   "source": [
    "from datasets import load_dataset\n",
    "\n",
    "# Tải bộ dữ liệu từ file local với trust_remote_code=True\n",
    "dataset = load_dataset(\"../fish_tracking_dataset.py\", trust_remote_code=True)\n",
    "\n",
    "# In thông tin về bộ dữ liệu\n",
    "print(dataset)\n",
    "\n",
    "# Truy cập phần train của bộ dữ liệu\n",
    "train_dataset = dataset['train']\n",
    "\n",
    "# In một vài mẫu đầu tiên\n",
    "for i, example in enumerate(train_dataset.select(range(5))):\n",
    "  print(f\"Mẫu {i + 1}:\")\n",
    "  print(f\"  ID: {example['id']}\")\n",
    "  print(f\"  Bounding Boxes: {example['bboxes']}\")\n",
    "  print(f\"  Kích thước ảnh: {example['image'].size}\")\n",
    "  print(f\"  Kích thước mask: {example['mask'].size}\")\n",
    "  print()\n",
    "\n",
    "# Đếm số lượng mẫu trong bộ dữ liệu\n",
    "print(f\"Tổng số mẫu trong bộ dữ liệu: {len(train_dataset)}\")"
   ]
  },
  {
   "cell_type": "markdown",
   "metadata": {},
   "source": [
    "Use model CLIP of OpenAI"
   ]
  },
  {
   "cell_type": "code",
   "execution_count": 16,
   "metadata": {},
   "outputs": [],
   "source": [
    "# Load the CLIP model and processor\n",
    "model = CLIPModel.from_pretrained(\"openai/clip-vit-base-patch32\")\n",
    "processor = CLIPProcessor.from_pretrained(\"openai/clip-vit-base-patch32\")"
   ]
  },
  {
   "cell_type": "code",
   "execution_count": 40,
   "metadata": {},
   "outputs": [
    {
     "name": "stdout",
     "output_type": "stream",
     "text": [
      "Description: Ao nuôi có độ pH thấp, và cá đang trong tình trạng căng thẳng., Probability: 0.6260\n",
      "Description: Ao nuôi có độ pH ở mức lành mạnh, và cá đang bơi bình thường., Probability: 0.3740\n"
     ]
    }
   ],
   "source": [
    "image = Image.open(\"../data/images/001.jpg\")\n",
    "\n",
    "# Các mô tả tình huống nguy hiểm có thể gặp trong nuôi trồng thủy sản\n",
    "descriptions = [\n",
    "  \"Ao nuôi có độ pH thấp, và cá đang trong tình trạng căng thẳng.\",\n",
    "  \"Ao nuôi có độ pH ở mức lành mạnh, và cá đang bơi bình thường.\"\n",
    "]\n",
    "\n",
    "inputs = processor(text=descriptions, images=image, return_tensors=\"pt\", padding=True)\n",
    "\n",
    "outputs = model(**inputs)\n",
    "logits_per_image = outputs.logits_per_image # this is the image-text similarity score\n",
    "probs = logits_per_image.softmax(dim=1) # we can take the softmax to get the label probabilities\n",
    " \n",
    "# In xác suất tương đồng\n",
    "for i, description in enumerate(descriptions):\n",
    "  print(f\"Description: {description}, Probability: {probs[0][i].item():.4f}\")"
   ]
  },
  {
   "cell_type": "code",
   "execution_count": 26,
   "metadata": {},
   "outputs": [
    {
     "name": "stdout",
     "output_type": "stream",
     "text": [
      "Cảnh báo: The pond has healthy pH levels, and the fish are swimming normally. phát hiện với xác suất 0.6138\n"
     ]
    }
   ],
   "source": [
    "# Select alarm thresholds and status notifications\n",
    "threshold = 0.6  # Ngưỡng để kích hoạt cảnh báo\n",
    "alert_triggered = False\n",
    "\n",
    "for i, description in enumerate(descriptions):\n",
    "  if probs[0][i].item() > threshold and description != \"ao nuôi bình thường\":\n",
    "    print(f\"Cảnh báo: {description} phát hiện với xác suất {probs[0][i].item():.4f}\")\n",
    "    alert_triggered = True\n",
    "\n",
    "if not alert_triggered:\n",
    "  print(\"Tình trạng bình thường, không có cảnh báo.\")"
   ]
  },
  {
   "cell_type": "markdown",
   "metadata": {},
   "source": [
    "Use model bert"
   ]
  },
  {
   "cell_type": "code",
   "execution_count": 13,
   "metadata": {},
   "outputs": [
    {
     "name": "stdout",
     "output_type": "stream",
     "text": [
      "BaseModelOutputWithPoolingAndCrossAttentions(last_hidden_state=tensor([[[-0.7187,  0.1318, -0.0275,  ...,  0.1975,  0.5841,  0.8451],\n",
      "         [ 0.2540, -0.0051,  0.0949,  ...,  0.2876,  0.3635,  1.3087],\n",
      "         [ 0.2648,  0.4071,  0.2541,  ...,  0.3341,  0.1399,  0.9385],\n",
      "         ...,\n",
      "         [-0.0805,  0.7691,  0.6438,  ...,  0.2144,  0.0900,  0.6337],\n",
      "         [-0.5273, -0.2463, -0.4941,  ...,  0.7006,  0.0510, -0.0650],\n",
      "         [ 0.6237, -0.0661, -0.2781,  ..., -0.1473, -0.2327,  0.0360]]],\n",
      "       grad_fn=<NativeLayerNormBackward0>), pooler_output=tensor([[-0.7908, -0.4555, -0.9864,  0.9068,  0.6622, -0.2971,  0.8909,  0.3707,\n",
      "         -0.9134, -1.0000, -0.7463,  0.9765,  0.9602,  0.7717,  0.7554, -0.8597,\n",
      "         -0.5980, -0.6678,  0.4695, -0.4431,  0.6579,  1.0000, -0.4635,  0.1826,\n",
      "          0.4511,  0.9948, -0.7041,  0.7696,  0.8901,  0.5060, -0.7820,  0.3110,\n",
      "         -0.9770, -0.3276, -0.9917, -0.9833,  0.5587, -0.3580, -0.2350,  0.0061,\n",
      "         -0.7735,  0.4807,  1.0000,  0.6983,  0.4725, -0.2864, -1.0000,  0.3886,\n",
      "         -0.7272,  0.9788,  0.9442,  0.9500,  0.3583,  0.6023,  0.5823, -0.2386,\n",
      "          0.0724,  0.2942, -0.3261, -0.5358, -0.6082,  0.5948, -0.9763, -0.8167,\n",
      "          0.9533,  0.8730, -0.5084, -0.3877, -0.0210, -0.1220,  0.8261,  0.3704,\n",
      "         -0.3478, -0.8491,  0.7535,  0.5031, -0.7140,  1.0000, -0.6961, -0.9228,\n",
      "          0.9432,  0.8801,  0.5650, -0.5639,  0.7544, -1.0000,  0.7030, -0.2286,\n",
      "         -0.9640,  0.2933,  0.6039, -0.2808,  0.8803,  0.5631, -0.7504, -0.5205,\n",
      "         -0.4286, -0.9549, -0.6466, -0.6152,  0.4871, -0.4244, -0.5613, -0.5504,\n",
      "          0.5205, -0.6140, -0.4470,  0.6858,  0.3331,  0.7226,  0.3802, -0.4050,\n",
      "          0.4753, -0.9278,  0.6777, -0.4387, -0.9512, -0.5998, -0.9592,  0.7524,\n",
      "         -0.5904, -0.2726,  0.7615, -0.6356,  0.4606, -0.1698, -0.9608, -1.0000,\n",
      "         -0.8326, -0.8991, -0.3981, -0.5273, -0.9402, -0.8823,  0.7352,  0.8460,\n",
      "          0.3504,  0.9999, -0.4775,  0.9019, -0.6023, -0.8641,  0.8051, -0.5830,\n",
      "          0.9246,  0.3624, -0.6508,  0.2553, -0.5456,  0.7105, -0.8586, -0.3610,\n",
      "         -0.8866, -0.8439, -0.3761,  0.8760, -0.7742, -0.9796, -0.5145, -0.3773,\n",
      "         -0.6789,  0.7268,  0.7802,  0.6296, -0.4623,  0.5418,  0.5602,  0.5784,\n",
      "         -0.8096, -0.3777,  0.4800, -0.5750, -0.9565, -0.9310, -0.4287,  0.3790,\n",
      "          0.9686,  0.7724,  0.4683,  0.8426, -0.3423,  0.7512, -0.9245,  0.9477,\n",
      "         -0.5158,  0.2317, -0.7124,  0.5833, -0.7101,  0.5037,  0.8608, -0.7289,\n",
      "         -0.6159, -0.2434, -0.6600, -0.4813, -0.9406,  0.2700, -0.2573, -0.4878,\n",
      "         -0.1657,  0.7526,  0.9796,  0.7855,  0.5950,  0.6781, -0.7706, -0.7685,\n",
      "          0.0922,  0.3759,  0.2466,  0.9741, -0.8614, -0.1561, -0.7968, -0.9397,\n",
      "          0.2413, -0.8671, -0.2534, -0.7571,  0.7644, -0.5186,  0.6388,  0.4525,\n",
      "         -0.9709, -0.7215,  0.4864, -0.4951,  0.5222, -0.2250,  0.7535,  0.9847,\n",
      "         -0.5285,  0.7005,  0.9367, -0.9831, -0.6791,  0.7615, -0.3077,  0.8530,\n",
      "         -0.7410,  0.9860,  0.9794,  0.8392, -0.8557, -0.9020, -0.6720, -0.8588,\n",
      "         -0.3780,  0.6021,  0.9410,  0.6430,  0.4195, -0.3013, -0.7699,  0.9912,\n",
      "         -0.7554, -0.9089, -0.7071, -0.6021, -0.9744,  0.9469,  0.3426,  0.7543,\n",
      "         -0.5106, -0.6721, -0.8481,  0.9154,  0.3456,  0.9846, -0.4207, -0.9450,\n",
      "         -0.6963, -0.8615, -0.0236, -0.2278, -0.7724,  0.0587, -0.7490,  0.6335,\n",
      "          0.3892,  0.5326, -0.9524,  0.9978,  1.0000,  0.9523,  0.7478,  0.5365,\n",
      "         -1.0000, -0.2603,  1.0000, -0.9940, -1.0000, -0.6858, -0.7919,  0.4666,\n",
      "         -1.0000, -0.2507, -0.1984, -0.8084,  0.8798,  0.9167,  0.9705, -1.0000,\n",
      "          0.5952,  0.8463, -0.6439,  0.9721, -0.4664,  0.8937,  0.8098,  0.2071,\n",
      "         -0.3569,  0.4234, -0.9902, -0.8948, -0.8359, -0.9030,  0.9998,  0.1356,\n",
      "         -0.8081, -0.8471,  0.5499, -0.2428,  0.2973, -0.8920, -0.4642,  0.7883,\n",
      "          0.8363,  0.3427,  0.4426, -0.5237,  0.4826,  0.6275,  0.0665,  0.6283,\n",
      "         -0.9213, -0.4321, -0.8887,  0.3811, -0.8877, -0.8849,  0.9167, -0.5142,\n",
      "          0.9752,  1.0000,  0.6799, -0.7155,  0.5146,  0.4067, -0.8076,  1.0000,\n",
      "          0.8347, -0.9458, -0.5011,  0.7585, -0.5470, -0.7030,  0.9989, -0.0034,\n",
      "         -0.8427, -0.6370,  0.9694, -0.9784,  0.9997, -0.8126, -0.8781,  0.8683,\n",
      "          0.8893, -0.7650, -0.5934,  0.4567, -0.8970,  0.5076, -0.8226,  0.7500,\n",
      "          0.5043, -0.2078,  0.7328, -0.8783, -0.4598,  0.0624, -0.8412, -0.5710,\n",
      "          0.9817,  0.6892, -0.5090,  0.0389, -0.4246, -0.5875, -0.8482,  0.7970,\n",
      "          1.0000, -0.4857,  0.9434, -0.4751, -0.0051,  0.1918,  0.6287,  0.5631,\n",
      "         -0.4566, -0.7764,  0.9104, -0.9174, -0.9736,  0.7324,  0.3744, -0.4445,\n",
      "          1.0000,  0.7111,  0.4430,  0.5012,  0.9912,  0.2668, -0.0634,  0.9198,\n",
      "          0.9376, -0.3817,  0.6127,  0.6336, -0.9414, -0.4338, -0.5820,  0.1303,\n",
      "         -0.9100, -0.1830, -0.9108,  0.9341,  0.9934,  0.4312,  0.3176,  0.9371,\n",
      "          1.0000, -0.7539,  0.7762, -0.3336,  0.9078, -1.0000, -0.7051, -0.5467,\n",
      "         -0.2279, -0.9481, -0.5712,  0.4206, -0.9327,  0.9243,  0.8864, -0.9757,\n",
      "         -0.9746, -0.7597,  0.8563,  0.3347, -0.9977, -0.5296, -0.1903,  0.7740,\n",
      "         -0.4867, -0.8322, -0.5723, -0.4083,  0.6256, -0.2220,  0.5590,  0.9510,\n",
      "          0.4904, -0.9106, -0.4082, -0.3019, -0.7785,  0.8672, -0.7611, -0.9826,\n",
      "         -0.2136,  1.0000, -0.5731,  0.9511,  0.7313,  0.6931, -0.2929,  0.2089,\n",
      "          0.9859,  0.6151, -0.8455, -0.9592, -0.5648, -0.5938,  0.7612,  0.8250,\n",
      "          0.8845,  0.6714,  0.6158,  0.2424,  0.0112,  0.2127,  0.9981, -0.4528,\n",
      "         -0.3591, -0.5529, -0.3008, -0.5080, -0.5250,  1.0000,  0.4041,  0.7141,\n",
      "         -0.9726, -0.9422, -0.8423,  1.0000,  0.6782, -0.4817,  0.4138,  0.7593,\n",
      "         -0.2170,  0.6777, -0.5182, -0.3873,  0.4077,  0.1583,  0.9294, -0.5574,\n",
      "         -0.9363, -0.7101,  0.5348, -0.8275,  1.0000, -0.6609, -0.4281, -0.4450,\n",
      "         -0.3141,  0.4108,  0.0712, -0.9513, -0.2571,  0.2671,  0.9133,  0.2784,\n",
      "         -0.5432, -0.8166,  0.9664,  0.8900, -0.9548, -0.9179,  0.9116, -0.9240,\n",
      "          0.5938,  1.0000,  0.4659,  0.7580,  0.4150, -0.4859,  0.3675, -0.7891,\n",
      "          0.6472, -0.8018, -0.2793, -0.3914,  0.5406, -0.2581, -0.5249,  0.6884,\n",
      "          0.2714, -0.4555, -0.6218, -0.2449,  0.4895,  0.8536, -0.4670, -0.3470,\n",
      "          0.3749,  0.0167, -0.8899, -0.6033, -0.4897, -1.0000,  0.5318, -1.0000,\n",
      "          0.8615,  0.6016, -0.3656,  0.7505, -0.1992,  0.6082, -0.5710, -0.9235,\n",
      "         -0.0605,  0.7119, -0.5134, -0.8177, -0.6195,  0.4295, -0.2120,  0.3837,\n",
      "         -0.8698,  0.6231, -0.2663,  1.0000,  0.3329, -0.8055, -0.9679,  0.3599,\n",
      "         -0.3490,  1.0000, -0.8171, -0.9005,  0.5502, -0.6859, -0.7445,  0.4532,\n",
      "          0.1629, -0.8425, -0.9859,  0.8722,  0.9015, -0.6025,  0.6671, -0.4638,\n",
      "         -0.5895,  0.3721,  0.9716,  0.9632,  0.6608,  0.7440,  0.1979, -0.3255,\n",
      "          0.9131,  0.3702,  0.5022,  0.3843,  1.0000,  0.5189, -0.8940, -0.4529,\n",
      "         -0.8668, -0.4145, -0.8717,  0.2764,  0.3711,  0.8055, -0.4512,  0.8868,\n",
      "         -0.9465,  0.0077, -0.7457, -0.8491,  0.5558, -0.8076, -0.9632, -0.9716,\n",
      "          0.6905, -0.3770, -0.1542,  0.3340,  0.1135,  0.6794,  0.5150, -1.0000,\n",
      "          0.8660,  0.4988,  0.9556,  0.8753,  0.8206,  0.6293,  0.2995, -0.9624,\n",
      "         -0.9223, -0.4250, -0.2135,  0.8277,  0.7366,  0.7159,  0.5367, -0.5732,\n",
      "         -0.1869, -0.8647, -0.2748, -0.9742,  0.4623, -0.7460, -0.8971,  0.9068,\n",
      "          0.3811, -0.2814, -0.5451, -0.9068,  0.7883,  0.7277,  0.2252,  0.1494,\n",
      "          0.6398,  0.7934,  0.8506,  0.9713, -0.9522,  0.7244, -0.9016,  0.5141,\n",
      "          0.7329, -0.8589,  0.2967,  0.2881, -0.5757,  0.5342, -0.4772, -0.8698,\n",
      "          0.8292, -0.4605,  0.7827, -0.4899, -0.0429, -0.5105, -0.0301, -0.6628,\n",
      "         -0.7707,  0.5583,  0.4745,  0.7818,  0.9340, -0.2367, -0.7625, -0.2791,\n",
      "         -0.9061, -0.8205,  0.8891, -0.3189, -0.6224,  0.8445,  0.2038,  0.8752,\n",
      "          0.6152, -0.4676, -0.4657, -0.7604,  0.6286, -0.2443, -0.6685, -0.7869,\n",
      "          0.6065,  0.4801,  1.0000, -0.9075, -0.9561, -0.2761, -0.3868,  0.4126,\n",
      "         -0.7670, -1.0000,  0.4613, -0.7943,  0.8987, -0.8709,  0.9341, -0.8822,\n",
      "         -0.9563, -0.4094,  0.2880,  0.8182, -0.5775, -0.7672,  0.5206, -0.8304,\n",
      "          0.9851,  0.7328, -0.5499,  0.0972,  0.6318, -0.9520, -0.7462,  0.7443]],\n",
      "       grad_fn=<TanhBackward0>), hidden_states=None, past_key_values=None, attentions=None, cross_attentions=None)\n"
     ]
    }
   ],
   "source": [
    "# Load the bert-base-uncased model and tokenizer\n",
    "model = BertModel.from_pretrained(\"bert-base-uncased\")\n",
    "tokenizer = BertTokenizer.from_pretrained(\"bert-base-uncased\")\n",
    "\n",
    "# Prepare the input text\n",
    "text = \"Mức oxy trong nước rất thấp, có nhiều cá chết trong ao.\"\n",
    "inputs = tokenizer(text, return_tensors=\"pt\")\n",
    "\n",
    "outputs = model(**inputs)\n",
    "print(outputs)\n",
    "\n",
    "# Lấy kết quả phân loại\n",
    "# logits = outputs.logits\n",
    "# predicted_class = torch.argmax(logits, dim=1).item()\n",
    "# print(f\"Predicted class: {predicted_class}\")"
   ]
  }
 ],
 "metadata": {
  "kernelspec": {
   "display_name": "env",
   "language": "python",
   "name": "python3"
  },
  "language_info": {
   "codemirror_mode": {
    "name": "ipython",
    "version": 3
   },
   "file_extension": ".py",
   "mimetype": "text/x-python",
   "name": "python",
   "nbconvert_exporter": "python",
   "pygments_lexer": "ipython3",
   "version": "3.12.4"
  }
 },
 "nbformat": 4,
 "nbformat_minor": 2
}
