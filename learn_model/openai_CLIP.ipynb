{
 "cells": [
  {
   "cell_type": "code",
   "execution_count": 1,
   "metadata": {},
   "outputs": [
    {
     "name": "stderr",
     "output_type": "stream",
     "text": [
      "f:\\test\\chatbot\\env\\Lib\\site-packages\\tqdm\\auto.py:21: TqdmWarning: IProgress not found. Please update jupyter and ipywidgets. See https://ipywidgets.readthedocs.io/en/stable/user_install.html\n",
      "  from .autonotebook import tqdm as notebook_tqdm\n"
     ]
    }
   ],
   "source": [
    "from PIL import Image\n",
    "import requests\n",
    "from transformers import CLIPProcessor, CLIPModel"
   ]
  },
  {
   "cell_type": "code",
   "execution_count": 2,
   "metadata": {},
   "outputs": [
    {
     "name": "stderr",
     "output_type": "stream",
     "text": [
      "f:\\test\\chatbot\\env\\Lib\\site-packages\\transformers\\tokenization_utils_base.py:1601: FutureWarning: `clean_up_tokenization_spaces` was not set. It will be set to `True` by default. This behavior will be depracted in transformers v4.45, and will be then set to `False` by default. For more details check this issue: https://github.com/huggingface/transformers/issues/31884\n",
      "  warnings.warn(\n"
     ]
    }
   ],
   "source": [
    "# Load the model and processor\n",
    "model = CLIPModel.from_pretrained(\"openai/clip-vit-base-patch32\")\n",
    "processor = CLIPProcessor.from_pretrained(\"openai/clip-vit-base-patch32\")"
   ]
  },
  {
   "cell_type": "code",
   "execution_count": 16,
   "metadata": {},
   "outputs": [
    {
     "name": "stdout",
     "output_type": "stream",
     "text": [
      "Description: Độ pH không phù hợp, Probability: 0.0241\n",
      "Description: Nhiệt độ nước không phù hợp, Probability: 0.0839\n",
      "Description: Oxy hòa tan thấp, Probability: 0.1283\n",
      "Description: Độ mặn không phù hợp trong ao nuôi, Probability: 0.1772\n",
      "Description: Amoniac tích tụ, Probability: 0.0639\n",
      "Description: Nitrit gây độc hại, Probability: 0.0278\n",
      "Description: Độ kiềm không phù hợp trong ao nuôi, Probability: 0.1187\n",
      "Description: Chất rắn lơ lửng tăng, Probability: 0.0797\n",
      "Description: Nồng độ H2S cao, Probability: 0.0017\n",
      "Description: Độ trong thấp, Probability: 0.0415\n",
      "Description: Chỉ số oxy hóa khử thấp, Probability: 0.0224\n",
      "Description: Cường độ ánh sáng thấp, Probability: 0.0903\n",
      "Description: Tảo độc hại, Probability: 0.0690\n",
      "Description: Có vi sinh vật gây bệnh, Probability: 0.0714\n"
     ]
    }
   ],
   "source": [
    "# url = \"http://images.cocodataset.org/val2017/000000039769.jpg\"\n",
    "image = Image.open(\"../data/images/005.jpg\")\n",
    "\n",
    "# Các mô tả tình huống nguy hiểm có thể gặp trong nuôi trồng thủy sản\n",
    "descriptions = [\n",
    "  \"Độ pH không phù hợp\",\n",
    "  \"Nhiệt độ nước không phù hợp\",\n",
    "  \"Oxy hòa tan thấp\",\n",
    "  \"Độ mặn không phù hợp trong ao nuôi\",\n",
    "  \"Amoniac tích tụ\",\n",
    "  \"Nitrit gây độc hại\",\n",
    "  \"Độ kiềm không phù hợp trong ao nuôi\",\n",
    "  \"Chất rắn lơ lửng tăng\",\n",
    "  \"Nồng độ H2S cao\",\n",
    "  \"Độ trong thấp\",\n",
    "  \"Chỉ số oxy hóa khử thấp\",\n",
    "  \"Cường độ ánh sáng thấp\",\n",
    "  \"Tảo độc hại\",\n",
    "  \"Có vi sinh vật gây bệnh\"\n",
    "]\n",
    "\n",
    "inputs = processor(text=descriptions, images=image, return_tensors=\"pt\", padding=True)\n",
    "\n",
    "outputs = model(**inputs)\n",
    "logits_per_image = outputs.logits_per_image # this is the image-text similarity score\n",
    "probs = logits_per_image.softmax(dim=1) # we can take the softmax to get the label probabilities\n",
    " \n",
    "# In xác suất tương đồng\n",
    "for i, description in enumerate(descriptions):\n",
    "  print(f\"Description: {description}, Probability: {probs[0][i].item():.4f}\")"
   ]
  },
  {
   "cell_type": "code",
   "execution_count": 17,
   "metadata": {},
   "outputs": [
    {
     "name": "stdout",
     "output_type": "stream",
     "text": [
      "Tình trạng bình thường, không có cảnh báo.\n"
     ]
    }
   ],
   "source": [
    "# Select alarm thresholds and status notifications\n",
    "threshold = 0.6  # Ngưỡng để kích hoạt cảnh báo\n",
    "alert_triggered = False\n",
    "\n",
    "for i, description in enumerate(descriptions):\n",
    "  if probs[0][i].item() > threshold and description != \"ao nuôi bình thường\":\n",
    "    print(f\"Cảnh báo: {description} phát hiện với xác suất {probs[0][i].item():.4f}\")\n",
    "    alert_triggered = True\n",
    "\n",
    "if not alert_triggered:\n",
    "  print(\"Tình trạng bình thường, không có cảnh báo.\")"
   ]
  }
 ],
 "metadata": {
  "kernelspec": {
   "display_name": "env",
   "language": "python",
   "name": "python3"
  },
  "language_info": {
   "codemirror_mode": {
    "name": "ipython",
    "version": 3
   },
   "file_extension": ".py",
   "mimetype": "text/x-python",
   "name": "python",
   "nbconvert_exporter": "python",
   "pygments_lexer": "ipython3",
   "version": "3.12.4"
  }
 },
 "nbformat": 4,
 "nbformat_minor": 2
}
